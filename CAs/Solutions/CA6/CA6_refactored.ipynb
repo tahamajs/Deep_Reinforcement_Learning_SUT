{
 "cells": [
  {
   "cell_type": "markdown",
   "id": "f2da963e",
   "metadata": {},
   "source": [
    "# CA6: Policy Gradient Methods - Complete Implementation and Analysis\n",
    "\n",
    "## Deep Reinforcement Learning - Session 6\n",
    "**Author**: Deep RL Course  \n",
    "**Date**: 2024  \n",
    "**Topic**: From Value-Based to Policy-Based Reinforcement Learning\n",
    "\n",
    "---\n",
    "\n",
    "## Course Overview\n",
    "\n",
    "Welcome to the comprehensive study of **Policy Gradient Methods** in Deep Reinforcement Learning. This session marks a fundamental shift from the value-based methods we explored in previous sessions (DQN, Double DQN, Dueling DQN) to policy-based approaches that directly optimize the policy itself.\n",
    "\n",
    "### Key Learning Objectives\n",
    "\n",
    "By completing this comprehensive exercise, you will master:\n",
    "\n",
    "1. **Theoretical Foundations**: Deep understanding of policy gradient theorem and mathematical derivations\n",
    "2. **REINFORCE Algorithm**: Complete implementation and analysis of Monte Carlo policy gradients\n",
    "3. **Actor-Critic Methods**: Advanced architectures combining policy and value learning\n",
    "4. **A2C/A3C Implementation**: State-of-the-art policy gradient algorithms with parallelization\n",
    "5. **Variance Reduction**: Sophisticated techniques to stabilize policy gradient learning\n",
    "6. **Continuous Control**: Extension to continuous action spaces and control problems\n",
    "7. **Performance Analysis**: Comprehensive evaluation and comparison methodologies\n",
    "\n",
    "### Session Structure\n",
    "\n",
    "- **Section 1**: Theoretical Foundations of Policy Gradient Methods\n",
    "- **Section 2**: REINFORCE Algorithm Implementation and Analysis  \n",
    "- **Section 3**: Actor-Critic Methods with Baseline\n",
    "- **Section 4**: Advanced A2C/A3C Implementation\n",
    "- **Section 5**: Variance Reduction Techniques\n",
    "- **Section 6**: Continuous Action Space Policy Gradients\n",
    "- **Section 7**: Performance Analysis and Comparisons\n",
    "- **Section 8**: Practical Applications and Case Studies\n",
    "\n",
    "---\n",
    "\n",
    "## Prerequisites and Environment Setup\n",
    "\n",
    "Before diving into policy gradient methods, let's establish our computational environment and theoretical foundation."
   ]
  },
  {
   "cell_type": "code",
   "execution_count": null,
   "id": "8ff3bcbb",
   "metadata": {},
   "outputs": [],
   "source": [
    "# Import from modular files\n",
    "from setup import device\n",
    "import matplotlib.pyplot as plt\n",
    "import seaborn as sns\n",
    "import pandas as pd\n",
    "import gymnasium as gym\n",
    "\n",
    "# Plotting configuration\n",
    "plt.style.use('seaborn-v0_8')\n",
    "sns.set_palette(\"husl\")\n",
    "plt.rcParams['figure.figsize'] = (12, 8)\n",
    "plt.rcParams['font.size'] = 12\n",
    "\n",
    "print(\"Environment setup complete!\")\n",
    "print(f\"Using device: {device}\")"
   ]
  },
  {
   "cell_type": "markdown",
   "id": "716e7d08",
   "metadata": {},
   "source": [
    "## Section 1: Theoretical Foundations of Policy Gradient Methods\n",
    "\n",
    "### The Policy Gradient Theorem\n",
    "\n",
    "The core idea behind policy gradient methods is to directly optimize the policy $\\pi_\\theta(a|s)$ by computing gradients with respect to the expected return:\n",
    "\n",
    "$$\\nabla_\\theta J(\\theta) = \\mathbb{E}_{\\pi_\\theta} [\\nabla_\\theta \\log \\pi_\\theta(a|s) \\cdot Q^{\\pi_\\theta}(s,a)]$$\n",
    "\n",
    "This theorem provides the foundation for all policy gradient algorithms we will implement."
   ]
  },
  {
   "cell_type": "markdown",
   "id": "504465d4",
   "metadata": {},
   "source": [
    "## Section 2: REINFORCE Algorithm Implementation and Analysis"
   ]
  },
  {
   "cell_type": "code",
   "execution_count": null,
   "id": "a157b9d9",
   "metadata": {},
   "outputs": [],
   "source": [
    "# Import and demonstrate REINFORCE\n",
    "from reinforce import REINFORCEAgent, test_reinforce, demonstrate_reinforce\n",
    "\n",
    "# Run REINFORCE demonstration\n",
    "reinforce_agent = demonstrate_reinforce()"
   ]
  },
  {
   "cell_type": "markdown",
   "id": "62d454df",
   "metadata": {},
   "source": [
    "## Section 3: Actor-Critic Methods with Baseline"
   ]
  },
  {
   "cell_type": "code",
   "execution_count": null,
   "id": "f84c5224",
   "metadata": {},
   "outputs": [],
   "source": [
    "# Import and demonstrate Actor-Critic methods\n",
    "from actor_critic import ActorCriticAgent, SharedActorCriticAgent, compare_actor_critic_agents, test_actor_critic, demonstrate_actor_critic\n",
    "\n",
    "# Run Actor-Critic demonstration\n",
    "ac_results = demonstrate_actor_critic()"
   ]
  },
  {
   "cell_type": "markdown",
   "id": "ba46c197",
   "metadata": {},
   "source": [
    "## Section 4: Advanced A2C/A3C Implementation"
   ]
  },
  {
   "cell_type": "code",
   "execution_count": null,
   "id": "20e1e29e",
   "metadata": {},
   "outputs": [],
   "source": [
    "# Import and demonstrate advanced methods\n",
    "from advanced_pg import A2CAgent, PPOAgent, A3CAgent, compare_advanced_pg, test_advanced_pg, demonstrate_advanced_pg\n",
    "\n",
    "# Run advanced policy gradient demonstration\n",
    "adv_results = demonstrate_advanced_pg()"
   ]
  },
  {
   "cell_type": "markdown",
   "id": "ceeccc48",
   "metadata": {},
   "source": [
    "## Section 5: Variance Reduction Techniques"
   ]
  },
  {
   "cell_type": "code",
   "execution_count": null,
   "id": "fd61ae30",
   "metadata": {},
   "outputs": [],
   "source": [
    "# Import and demonstrate variance reduction\n",
    "from variance_reduction import VarianceReductionAgent, ControlVariatesAgent, compare_variance_reduction, test_variance_reduction, demonstrate_variance_reduction\n",
    "\n",
    "# Run variance reduction demonstration\n",
    "var_results, variances = demonstrate_variance_reduction()"
   ]
  },
  {
   "cell_type": "markdown",
   "id": "495556f8",
   "metadata": {},
   "source": [
    "## Section 6: Continuous Action Space Policy Gradients"
   ]
  },
  {
   "cell_type": "code",
   "execution_count": null,
   "id": "34937883",
   "metadata": {},
   "outputs": [],
   "source": [
    "# Import and demonstrate continuous control\n",
    "from continuous_control import ContinuousREINFORCEAgent, ContinuousActorCriticAgent, PPOContinuousAgent, compare_continuous_control, test_continuous_control, demonstrate_continuous_control\n",
    "\n",
    "# Run continuous control demonstration\n",
    "cont_results = demonstrate_continuous_control()"
   ]
  },
  {
   "cell_type": "markdown",
   "id": "a7bba6e4",
   "metadata": {},
   "source": [
    "## Section 7: Performance Analysis and Comparisons"
   ]
  },
  {
   "cell_type": "code",
   "execution_count": null,
   "id": "6c827c98",
   "metadata": {},
   "outputs": [],
   "source": [
    "# Import and demonstrate performance analysis\n",
    "from performance_analysis import PolicyEvaluator, PerformanceAnalyzer, AblationStudy, RobustnessTester, create_comprehensive_report, visualize_performance_comparison, demonstrate_performance_analysis\n",
    "\n",
    "# Run performance analysis demonstration\n",
    "analysis_report = demonstrate_performance_analysis()"
   ]
  },
  {
   "cell_type": "markdown",
   "id": "55c0f1b4",
   "metadata": {},
   "source": [
    "## Section 8: Practical Applications and Case Studies"
   ]
  },
  {
   "cell_type": "code",
   "execution_count": null,
   "id": "ce830fdc",
   "metadata": {},
   "outputs": [],
   "source": [
    "# Import and demonstrate advanced applications\n",
    "from applications import CuriosityDrivenAgent, MetaLearningAgent, HierarchicalAgent, SafeRLAgent, demonstrate_advanced_applications\n",
    "\n",
    "# Run advanced applications demonstration\n",
    "app_results = demonstrate_advanced_applications()"
   ]
  },
  {
   "cell_type": "markdown",
   "id": "b326edd5",
   "metadata": {},
   "source": [
    "## Summary and Key Takeaways\n",
    "\n",
    "This modular implementation of policy gradient methods provides:\n",
    "\n",
    "1. **Complete REINFORCE Algorithm**: Monte Carlo policy gradient with variance analysis\n",
    "2. **Actor-Critic Architectures**: Separate and shared network implementations\n",
    "3. **Advanced Methods**: A2C, PPO, and A3C with parallelization\n",
    "4. **Variance Reduction**: GAE, control variates, and baseline techniques\n",
    "5. **Continuous Control**: Gaussian policies for continuous action spaces\n",
    "6. **Performance Analysis**: Comprehensive evaluation frameworks\n",
    "7. **Advanced Applications**: Curiosity-driven exploration, safe RL, hierarchical methods\n",
    "\n",
    "### Key Insights:\n",
    "\n",
    "- Policy gradient methods offer better convergence properties than value-based methods\n",
    "- Variance reduction is crucial for stable learning\n",
    "- Actor-Critic methods combine the best of both policy and value approaches\n",
    "- Advanced techniques like PPO provide state-of-the-art performance\n",
    "- Continuous control extends policy gradients to real-world applications\n",
    "\n",
    "The modular structure enables easy experimentation and extension of these methods."
   ]
  }
 ],
 "metadata": {
  "language_info": {
   "name": "python"
  }
 },
 "nbformat": 4,
 "nbformat_minor": 5
}
