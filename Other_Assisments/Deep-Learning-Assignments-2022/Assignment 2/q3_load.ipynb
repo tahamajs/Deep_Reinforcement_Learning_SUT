{
 "cells": [
  {
   "cell_type": "code",
   "execution_count": 1,
   "metadata": {},
   "outputs": [],
   "source": [
    "import torch\n",
    "import cv2\n",
    "import numpy as np\n",
    "from torch import nn\n",
    "import torch.nn.functional as F\n",
    "import string\n",
    "import matplotlib.pyplot as plt\n",
    "import os\n"
   ]
  },
  {
   "cell_type": "code",
   "execution_count": 8,
   "metadata": {},
   "outputs": [
    {
     "data": {
      "text/plain": [
       "<All keys matched successfully>"
      ]
     },
     "execution_count": 8,
     "metadata": {},
     "output_type": "execute_result"
    }
   ],
   "source": [
    "#load alphabet into a list and create a dictionary to map each letter to a number\n",
    "alphabet = list(string.ascii_uppercase)[:25]\n",
    "num2letter = {num: letter for num, letter in enumerate(alphabet)}\n",
    "\n",
    "class MLP_dropout(nn.Module):\n",
    "    def __init__(self, input_dim, hidden_dim, output_dim):\n",
    "        super(MLP_dropout, self).__init__()\n",
    "        self.fc1 = nn.Linear(input_dim, hidden_dim)\n",
    "        self.fc2 = nn.Linear(hidden_dim, hidden_dim)\n",
    "        self.fc3 = nn.Linear(hidden_dim, hidden_dim)\n",
    "        self.fc4 = nn.Linear(hidden_dim, output_dim)\n",
    "        self.dropout = nn.Dropout(p=0.1)\n",
    "    def forward(self, x):\n",
    "        x = x.view(-1, 784)\n",
    "        x = F.relu(self.fc1(x))\n",
    "        x = self.dropout(x)\n",
    "        x = F.relu(self.fc2(x))\n",
    "        x = self.dropout(x)\n",
    "        x = F.relu(self.fc3(x))\n",
    "        x = self.dropout(x)\n",
    "        x = self.fc4(x)\n",
    "        return x\n",
    "# initialize the model and load model_Adam_dropout.pt from current directory\n",
    "model = MLP_dropout(784, 256, 25)\n",
    "model.load_state_dict(torch.load('./Assignment 2/model_Adam_dropout.pt'))\n",
    "\n"
   ]
  },
  {
   "cell_type": "markdown",
   "metadata": {},
   "source": [
    "The following cell will open the webcam and predict the letter on the screen. You can use the 'q' key to quit the program."
   ]
  },
  {
   "cell_type": "code",
   "execution_count": null,
   "metadata": {},
   "outputs": [],
   "source": [
    "model.eval()\n",
    "def predict():\n",
    "    cap = cv2.VideoCapture(0)\n",
    "    while True:\n",
    "        ret, frame = cap.read()\n",
    "        if not ret:\n",
    "            print(\"failed to grab frame\")\n",
    "            break\n",
    "        x = cv2.cvtColor(frame, cv2.COLOR_BGR2GRAY)\n",
    "        x = cv2.resize(x, (28, 28))\n",
    "        x = np.array(x).reshape(1, -1)\n",
    "        x = torch.from_numpy(x).float()\n",
    "        pred = model(x)\n",
    "        pred = pred.argmax(dim=1, keepdim=True)\n",
    "        print(pred)\n",
    "        cv2.putText(frame, str(num2letter[pred.item()]), (50, 50), cv2.FONT_HERSHEY_SIMPLEX, 1, (255, 255, 255), 2)\n",
    "        cv2.imshow('frame', frame)\n",
    "        if cv2.waitKey(1) == ord('q'):\n",
    "            break\n",
    "    cap.release()\n",
    "    cv2.destroyAllWindows()   \n",
    "\n",
    "predict()"
   ]
  },
  {
   "cell_type": "markdown",
   "metadata": {},
   "source": [
    "The following cell will use 3 images taken from camera to predict the letter."
   ]
  },
  {
   "cell_type": "code",
   "execution_count": 17,
   "metadata": {},
   "outputs": [
    {
     "data": {
      "image/png": "[encoded data removed]",
      "text/plain": [
       "<Figure size 1500x1500 with 3 Axes>"
      ]
     },
     "metadata": {},
     "output_type": "display_data"
    }
   ],
   "source": [
    "letter2num = {letter: num for num, letter in enumerate(alphabet)}\n",
    "y_true = [letter2num['E'], letter2num['L'], letter2num['M']]\n",
    "model.eval()\n",
    "\n",
    "fig, ax = plt.subplots(1, 3, figsize=(15, 15))\n",
    "for i, file in enumerate(os.listdir('./Assignment 2/Figures/Q3_test')):\n",
    "    img = cv2.imread('./Assignment 2/Figures/Q3_test/' + file, 0)\n",
    "    img = cv2.resize(img, (28, 28))\n",
    "    img = np.array(img).reshape(1, -1)\n",
    "    img = torch.from_numpy(img).float()\n",
    "    pred = model(img)\n",
    "    pred = pred.argmax(dim=1, keepdim=True)\n",
    "    ax[i].imshow(img.reshape(28, 28), cmap='gray')\n",
    "    ax[i].set_title('Prediction: ' + str(num2letter[pred.item()]) + ' True: ' + str(num2letter[y_true[i]]))\n",
    "    ax[i].axis('off')\n",
    "\n",
    "plt.show()"
   ]
  },
  {
   "cell_type": "code",
   "execution_count": null,
   "metadata": {},
   "outputs": [],
   "source": []
  }
 ],
 "metadata": {
  "kernelspec": {
   "display_name": "Python 3.9.13 ('torch')",
   "language": "python",
   "name": "python3"
  },
  "language_info": {
   "codemirror_mode": {
    "name": "ipython",
    "version": 3
   },
   "file_extension": ".py",
   "mimetype": "text/x-python",
   "name": "python",
   "nbconvert_exporter": "python",
   "pygments_lexer": "ipython3",
   "version": "3.9.13"
  },
  "orig_nbformat": 4,
  "vscode": {
   "interpreter": {
    "hash": "1cbcb8df23fcabb14b98d08f167303b8612ee566ea031dd4a83c67bd8cdc07a1"
   }
  }
 },
 "nbformat": 4,
 "nbformat_minor": 2
}
