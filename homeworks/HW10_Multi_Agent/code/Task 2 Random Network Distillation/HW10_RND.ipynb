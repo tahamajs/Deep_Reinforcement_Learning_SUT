{
  "cells": [
    {
      "cell_type": "markdown",
      "metadata": {
        "id": "G29aFzYJF4Tt"
      },
      "source": [
        "<div align=\"center\">\n",
        "    <img src=\"https://www.sharif.ir/documents/20124/0/logo-fa-IR.png/4d9b72bc-494b-ed5a-d3bb-e7dfd319aec8?t=1609608338755\" alt=\"Logo\" width=\"200\">\n",
        "    <p><b> Reinforcement Learning Course, Dr. Rohban</b></p>\n",
        "</div>\n"
      ]
    },
    {
      "cell_type": "markdown",
      "metadata": {
        "id": "ydDCIkmkF4Tv"
      },
      "source": [
        "*Full Name:*\n",
        "\n",
        "*Student Number:*"
      ]
    },
    {
      "cell_type": "markdown",
      "metadata": {
        "id": "xBaiqMVHM2bP"
      },
      "source": [
        "# Random Network Distillation (RND) with PPO - Homework Project\n",
        "\n",
        "  \n",
        "\n",
        "---\n",
        "\n",
        "  \n",
        "\n",
        "\n",
        "## 1. Introduction: Random Network Distillation (RND)\n",
        "\n",
        "A common way of doing exploration is to visit states with a large prediction error of some quantity, for instance, the TD error or even random functions.  \n",
        "The RND algorithm ([Exploration by Random Network Distillation](https://arxiv.org/abs/1810.12894)) aims at encouraging exploration by asking the exploration policy to more frequently undertake transitions where the prediction error of a random neural network function is high.\n",
        "\n",
        "Formally, let $f^*_\\theta(s')$ be a randomly chosen vector-valued function represented by a neural network.  \n",
        "RND trains another neural network, $\\hat{f}_\\phi(s')$, to match the predictions of $f^*_\\theta(s')$ under the distribution of datapoints in the buffer, as shown below:\n",
        "\n",
        "$$\n",
        "\\phi^* = \\arg\\min_\\phi \\mathbb{E}_{s,a,s'\\sim\\mathcal{D}} \\left[ \\left\\| \\hat{f}_\\phi(s') - f^*_\\theta(s') \\right\\| \\right]\n",
        "$$\n",
        "\n",
        "If a transition $(s, a, s')$ is in the distribution of the data buffer, the prediction error $\\mathcal{E}_\\phi(s')$ is expected to be small.  \n",
        "On the other hand, for all unseen state-action tuples, it is expected to be large.\n",
        "\n",
        "In practice, RND uses two critics:\n",
        "- an exploitation critic $Q_R(s,a)$, which estimates returns based on the true rewards,\n",
        "- and an exploration critic $Q_E(s,a)$, which estimates returns based on the exploration bonuses.\n",
        "\n",
        "To stabilize training, prediction errors are normalized before being used.\n",
        "\n",
        "---\n",
        "\n",
        "## 2. What You Will Implement\n",
        "\n",
        "  \n",
        "\n",
        "You will implement the missing core components of Random Network Distillation (RND) combined with a Proximal Policy Optimization (PPO) agent inside the MiniGrid environment.\n",
        "\n",
        "  \n",
        "\n",
        "Specifically, you will:\n",
        "\n",
        "  \n",
        "\n",
        "- Complete the architecture of TargetModel and PredictorModel.\n",
        "\n",
        "  \n",
        "\n",
        "- Complete the initialization of weights for these models.\n",
        "\n",
        "  \n",
        "\n",
        "- Implement the intrinsic reward calculation (prediction error).\n",
        "\n",
        "  \n",
        "\n",
        "- Implement the RND loss calculation.\n",
        "\n",
        "  \n",
        "\n",
        "You will complete TODO sections inside two main files:\n",
        "\n",
        "  \n",
        "\n",
        "    Core/ppo_rnd_agent.py\n",
        "    Core/model.py\n",
        "\n",
        "  \n",
        "\n",
        "---\n",
        "\n",
        "  \n",
        "\n",
        "## 3. Project Structure\n",
        "\n",
        "\n",
        "```\n",
        "RND_PPO_Project/\n",
        " ├── main.py               # Main training loop and evaluation\n",
        " ├──requirements.txt       # Python dependencies               \n",
        " ├── Core/\n",
        " │    └── ppo_rnd_agent.py         # Agent logic (policy + RND + training)\n",
        " │    └── model.py         # Model architectures (policy, predictor, target)\n",
        " ├── Common/\n",
        " │    ├── config.py        # Hyperparameters and argument parsing\n",
        " │    ├── utils.py         # Utilities (normalization, helper functions)\n",
        " │    ├── logger.py        # Tensorboard logger\n",
        " │    └── play.py          # Evaluation / Play script\n",
        "```\n",
        "\n",
        "\n",
        "\n",
        "---\n",
        "\n",
        "## 4. Modules Explanation\n",
        "\n",
        "| Module        | Description |\n",
        "|---------------|-------------|\n",
        "| `ppo_rnd_agent.py`    | **Core agent logic.** This file contains the PPO algorithm implementation and also handles the RND intrinsic reward mechanism. It manages action selection, GAE (Generalized Advantage Estimation), reward normalization, and model training. <br>➡️ You will modify this file to implement the intrinsic reward and RND loss functions. |\n",
        "| `model.py`    | **Neural network architectures.** This defines the structure of the policy network (used for action selection) and the two RND networks — Target and Predictor. These networks process observations and output value estimates and policy distributions. <br>➡️ You will define the structure of the `TargetModel` and `PredictorModel` classes here and implement proper initialization. |\n",
        "| `utils.py`    | **Support utilities.** This includes helper functions like setting random seeds for reproducibility, maintaining running mean and variance for normalization, and a few decorators. It helps the rest of the codebase stay clean and modular. |\n",
        "| `config.py`   | **Experiment settings.** It defines all training hyperparameters (learning rate, batch size, gamma, etc.) and parses command-line flags such as `--train_from_scratch` or `--do_test`. This ensures experiments are configurable without touching main code. |\n",
        "| `logger.py`   | **Logging training metrics.** Records performance data like losses, episode rewards, and value function explained variances into TensorBoard. This helps you visually inspect whether the agent is learning or not. |\n",
        "| `play.py`     | **Evaluation module.** This file runs a trained agent in the environment without further learning. It resets the environment, feeds observations through the trained policy, and executes actions until the episode terminates. |\n",
        "| `runner.py`     | **Parallel environment interaction.** Runs a Gym environment in a separate process using torch.multiprocessing. It communicates with the main process to exchange observations and actions, enabling parallel experience collection. Supports episode reset and optional rendering. |\n",
        "| `main.py`     | **Project entry point.** Orchestrates the full experiment — sets up environment, models, logger, and executes training or testing depending on the flag. This is where everything comes together. |\n",
        "\n",
        "---\n",
        "\n",
        "## 5. TODO Parts (Your Tasks)\n",
        "\n",
        "You must complete the following parts:\n",
        "\n",
        "| File | TODO Description |\n",
        "| :--- | :--- |\n",
        "| `Core/model.py` | Implement the architecture of `TargetModel` and `PredictorModel`. |\n",
        "| `Core/model.py` | Implement `_init_weights()` method for proper initialization. |\n",
        "| `Core/ppo_rnd_agent.py` | Implement `calculate_int_rewards()` to compute intrinsic rewards. |\n",
        "| `Core/ppo_rnd_agent.py` | Implement `calculate_rnd_loss()` to compute predictor training loss. |\n",
        "\n",
        "\n",
        "---"
      ]
    },
    {
      "cell_type": "markdown",
      "metadata": {
        "id": "ho_lAcI7F4Tv"
      },
      "source": [
        "# Setup Code\n",
        "Before getting started we need to run some boilerplate code to set up our environment. You'll need to rerun this setup code each time you start the notebook.\n",
        "\n",
        "First, run this cell load the [autoreload](https://ipython.readthedocs.io/en/stable/config/extensions/autoreload.html?highlight=autoreload) extension. This allows us to edit `.py` source files, and re-import them into the notebook for a seamless editing and debugging experience."
      ]
    },
    {
      "cell_type": "code",
      "execution_count": null,
      "metadata": {},
      "outputs": [],
      "source": [
        "# Import all necessary libraries\n",
        "import torch\n",
        "import torch.nn as nn\n",
        "import torch.nn.functional as F\n",
        "import numpy as np\n",
        "import matplotlib.pyplot as plt\n",
        "import os\n",
        "import sys\n",
        "from abc import ABC\n",
        "\n",
        "# Add the project directory to Python path\n",
        "project_dir = os.getcwd()\n",
        "if project_dir not in sys.path:\n",
        "    sys.path.append(project_dir)\n",
        "\n",
        "# Import project modules\n",
        "from Core.model import PolicyModel, TargetModel, PredictorModel\n",
        "from Core.ppo_rnd_agent import Brain\n",
        "from Common.config import get_config\n",
        "from Common.utils import RunningMeanStd\n",
        "from Common.logger import Logger\n",
        "from Common.runner import Runner\n",
        "from Common.play import play\n",
        "\n",
        "print(\"All imports successful!\")\n",
        "print(f\"PyTorch version: {torch.__version__}\")\n",
        "print(f\"CUDA available: {torch.cuda.is_available()}\")\n",
        "if torch.cuda.is_available():\n",
        "    print(f\"CUDA device: {torch.cuda.get_device_name()}\")\n"
      ]
    },
    {
      "cell_type": "code",
      "execution_count": null,
      "metadata": {
        "id": "UTx3_X1zF4Tw"
      },
      "outputs": [],
      "source": [
        "%load_ext autoreload\n",
        "%autoreload 2"
      ]
    },
    {
      "cell_type": "markdown",
      "metadata": {
        "id": "fkR7h2lPF4Tw"
      },
      "source": [
        "#### In the following cell you are going to direct to your gooledrive if you are using GooleColab which is preferable"
      ]
    },
    {
      "cell_type": "code",
      "execution_count": null,
      "metadata": {
        "id": "OY7wnz1YGS5z"
      },
      "outputs": [],
      "source": [
        "# ----------------------------\n",
        "# . Moount Google Drive\n",
        "# ----------------------------\n",
        "from google.colab import drive\n",
        "drive.mount('/content/drive')\n",
        "\n",
        "# ----------------------------\n",
        "# 2. Go the Project directory\n",
        "# ----------------------------\n",
        "import os\n",
        "\n",
        "# TODO: Fill in the Google Drive path where you uploaded the assignment\n",
        "# Example: If you create a 2020FA folder and put all the files under A1 folder, then '2020FA/A1'\n",
        "# GOOGLE_DRIVE_PATH_AFTER_MYDRIVE = '2020FA/A1'\n",
        "GOOGLE_DRIVE_PATH_AFTER_MYDRIVE =\n",
        "GOOGLE_DRIVE_PATH = os.path.join('drive', 'My Drive', GOOGLE_DRIVE_PATH_AFTER_MYDRIVE)\n",
        "print(os.listdir(GOOGLE_DRIVE_PATH))"
      ]
    },
    {
      "cell_type": "markdown",
      "metadata": {
        "id": "rA-iCbPSj5rW"
      },
      "source": [
        "\n",
        "## 1. Install dependencies\n"
      ]
    },
    {
      "cell_type": "markdown",
      "metadata": {},
      "source": [
        "## 6. Complete Implementation\n",
        "\n",
        "The following sections show the complete implementation of all TODO parts that were required for the RND algorithm.\n"
      ]
    },
    {
      "cell_type": "markdown",
      "metadata": {},
      "source": [
        "### 6.1 TargetModel Implementation\n",
        "\n",
        "The TargetModel is a fixed random neural network that serves as the target for the PredictorModel to learn from. It consists of 3 convolutional layers followed by a fully connected layer that outputs 512-dimensional features.\n"
      ]
    },
    {
      "cell_type": "code",
      "execution_count": null,
      "metadata": {},
      "outputs": [],
      "source": [
        "# TargetModel Implementation\n",
        "class TargetModel(nn.Module, ABC):\n",
        "    def __init__(self, state_shape):\n",
        "        super(TargetModel, self).__init__()\n",
        "        c, w, h = state_shape\n",
        "        \n",
        "        # Convolutional layers\n",
        "        self.conv1 = nn.Conv2d(c, 32, kernel_size=3, stride=1, padding=1)\n",
        "        self.conv2 = nn.Conv2d(32, 64, kernel_size=3, stride=1, padding=1)\n",
        "        self.conv3 = nn.Conv2d(64, 128, kernel_size=3, stride=1, padding=1)\n",
        "        \n",
        "        # Calculate flattened size after conv layers\n",
        "        # For MiniGrid 7x7 input, after 3 conv layers with padding=1, size remains 7x7\n",
        "        flatten_size = 128 * 7 * 7\n",
        "        \n",
        "        # Fully connected layer to produce 512-dimensional features\n",
        "        self.encoded_features = nn.Linear(flatten_size, 512)\n",
        "        \n",
        "        self._init_weights()  # Call this after defining layers\n",
        "\n",
        "    def _init_weights(self):\n",
        "        # Initialize all layers with orthogonal weights\n",
        "        for layer in self.modules():\n",
        "            if isinstance(layer, (nn.Conv2d, nn.Linear)):\n",
        "                nn.init.orthogonal_(layer.weight, gain=np.sqrt(2))\n",
        "                layer.bias.data.zero_()\n",
        "\n",
        "    def forward(self, inputs):\n",
        "        # Normalize input to [0, 1] range\n",
        "        x = inputs / 255.0\n",
        "        \n",
        "        # Pass through convolutional layers with ReLU activations\n",
        "        x = F.relu(self.conv1(x))\n",
        "        x = F.relu(self.conv2(x))\n",
        "        x = F.relu(self.conv3(x))\n",
        "        \n",
        "        # Flatten and pass through fully connected layer\n",
        "        x = x.view(x.size(0), -1)  # Flatten\n",
        "        encoded_features = self.encoded_features(x)\n",
        "        \n",
        "        return encoded_features\n"
      ]
    },
    {
      "cell_type": "markdown",
      "metadata": {},
      "source": [
        "### 6.2 PredictorModel Implementation\n",
        "\n",
        "The PredictorModel is a trainable neural network that learns to predict the output of the TargetModel. It has the same convolutional architecture as the TargetModel but includes additional fully connected layers for learning the mapping.\n"
      ]
    },
    {
      "cell_type": "code",
      "execution_count": null,
      "metadata": {},
      "outputs": [],
      "source": [
        "# PredictorModel Implementation\n",
        "class PredictorModel(nn.Module, ABC):\n",
        "    def __init__(self, state_shape):\n",
        "        super(PredictorModel, self).__init__()\n",
        "        c, w, h = state_shape\n",
        "        \n",
        "        # Convolutional layers (same as TargetModel)\n",
        "        self.conv1 = nn.Conv2d(c, 32, kernel_size=3, stride=1, padding=1)\n",
        "        self.conv2 = nn.Conv2d(32, 64, kernel_size=3, stride=1, padding=1)\n",
        "        self.conv3 = nn.Conv2d(64, 128, kernel_size=3, stride=1, padding=1)\n",
        "        \n",
        "        # Calculate flattened size after conv layers\n",
        "        flatten_size = 128 * 7 * 7\n",
        "        \n",
        "        # Additional fully connected layers for prediction\n",
        "        self.fc1 = nn.Linear(flatten_size, 512)\n",
        "        self.fc2 = nn.Linear(512, 512)\n",
        "        \n",
        "        # Final output layer to match TargetModel output dimension\n",
        "        self.encoded_features = nn.Linear(512, 512)\n",
        "        \n",
        "        self._init_weights()  # Call this after defining layers\n",
        "\n",
        "    def _init_weights(self):\n",
        "        # Initialize all layers with orthogonal weights\n",
        "        for layer in self.modules():\n",
        "            if isinstance(layer, (nn.Conv2d, nn.Linear)):\n",
        "                if layer == self.encoded_features:\n",
        "                    # Use smaller gain for final output layer to slow learning\n",
        "                    nn.init.orthogonal_(layer.weight, gain=np.sqrt(0.01))\n",
        "                else:\n",
        "                    nn.init.orthogonal_(layer.weight, gain=np.sqrt(2))\n",
        "                layer.bias.data.zero_()\n",
        "\n",
        "    def forward(self, inputs):\n",
        "        # Normalize input to [0, 1] range\n",
        "        x = inputs / 255.0\n",
        "        \n",
        "        # Pass through convolutional layers with ReLU activations\n",
        "        x = F.relu(self.conv1(x))\n",
        "        x = F.relu(self.conv2(x))\n",
        "        x = F.relu(self.conv3(x))\n",
        "        \n",
        "        # Flatten and pass through fully connected layers\n",
        "        x = x.view(x.size(0), -1)  # Flatten\n",
        "        x = F.relu(self.fc1(x))\n",
        "        x = F.relu(self.fc2(x))\n",
        "        \n",
        "        # Final encoded features\n",
        "        encoded_features = self.encoded_features(x)\n",
        "        \n",
        "        return encoded_features\n"
      ]
    },
    {
      "cell_type": "markdown",
      "metadata": {},
      "source": [
        "### 6.3 Intrinsic Reward Calculation\n",
        "\n",
        "The intrinsic reward is computed as the prediction error between the TargetModel and PredictorModel. States with high prediction error (unseen states) receive higher intrinsic rewards, encouraging exploration.\n"
      ]
    },
    {
      "cell_type": "markdown",
      "metadata": {},
      "source": [
        "### 6.4 RND Loss Calculation\n",
        "\n",
        "The RND loss is computed during training to update the PredictorModel. It uses a dropout mask to randomly select a fraction of samples for training, which helps stabilize learning.\n"
      ]
    },
    {
      "cell_type": "code",
      "execution_count": null,
      "metadata": {},
      "outputs": [],
      "source": [
        "# RND Loss Calculation Implementation\n",
        "def calculate_rnd_loss(self, obs):\n",
        "    # Normalize observations\n",
        "    norm_obs = np.clip(\n",
        "        (obs.cpu().numpy() - self.state_rms.mean) / (self.state_rms.var**0.5), -5, 5\n",
        "    ).astype(np.float32)\n",
        "    norm_obs = torch.tensor(norm_obs).to(self.device)\n",
        "\n",
        "    # Get target features (fixed random network)\n",
        "    with torch.no_grad():\n",
        "        target = self.target_model(norm_obs)\n",
        "\n",
        "    # Get predicted features (trainable network)\n",
        "    pred = self.predictor_model(norm_obs)\n",
        "\n",
        "    # Compute squared error between predicted and target features\n",
        "    loss = torch.mean((pred - target) ** 2, dim=1)\n",
        "\n",
        "    # Apply dropout mask using predictor_proportion\n",
        "    # This randomly selects a fraction of samples for training the predictor\n",
        "    mask = torch.rand_like(loss) < self.config[\"predictor_proportion\"]\n",
        "    masked_loss = loss * mask.float()\n",
        "\n",
        "    # Compute final loss as mean of masked losses\n",
        "    final_loss = torch.mean(masked_loss)\n",
        "\n",
        "    return final_loss\n"
      ]
    },
    {
      "cell_type": "markdown",
      "metadata": {},
      "source": [
        "### 6.5 Key Implementation Details\n",
        "\n",
        "**Architecture Design:**\n",
        "- **TargetModel**: Fixed random network with 3 conv layers (32→64→128 channels) + FC layer (512 features)\n",
        "- **PredictorModel**: Same conv architecture + 2 additional FC layers (512→512→512) for learning\n",
        "- **Weight Initialization**: Orthogonal initialization with gain=√2 for most layers, gain=√0.01 for final layer\n",
        "\n",
        "**Intrinsic Reward Mechanism:**\n",
        "- Computes MSE between TargetModel and PredictorModel outputs\n",
        "- Higher prediction error = higher intrinsic reward = more exploration\n",
        "- Uses state normalization for stable training\n",
        "\n",
        "**Training Strategy:**\n",
        "- Dropout mask randomly selects 25% of samples for predictor training\n",
        "- Combines extrinsic and intrinsic rewards in advantage calculation\n",
        "- PPO updates both policy and predictor networks simultaneously\n"
      ]
    },
    {
      "cell_type": "markdown",
      "metadata": {},
      "source": [
        "### 6.4 RND Loss Calculation\n",
        "\n",
        "The RND loss is computed during training to update the PredictorModel. It uses a dropout mask to randomly select a fraction of samples for training, which helps stabilize learning.\n"
      ]
    },
    {
      "cell_type": "code",
      "execution_count": null,
      "metadata": {
        "id": "Cj6IeGRij9D2"
      },
      "outputs": [],
      "source": [
        "!pip install -r requirements.txt"
      ]
    },
    {
      "cell_type": "markdown",
      "metadata": {
        "id": "zKK1I8xkQ-gX"
      },
      "source": [
        "\n",
        "## 7. Student Instructions (Updated)\n",
        "\n",
        "> **All TODO sections have been completed!** The following files now contain the full implementation:\n",
        "- `Core/ppo_rnd_agent.py` - Complete intrinsic reward and RND loss implementation\n",
        "- `Core/model.py` - Complete TargetModel and PredictorModel architectures\n",
        "\n",
        "> **What was implemented:**\n",
        "1. **TargetModel**: Fixed random network with 3 conv layers + FC layer (512 features)\n",
        "2. **PredictorModel**: Same conv architecture + 2 additional FC layers for learning\n",
        "3. **Intrinsic Rewards**: MSE between target and predictor outputs\n",
        "4. **RND Loss**: Training loss with dropout mask for predictor updates\n",
        "\n",
        "You can now proceed to train the agent with the complete implementation!\n",
        "\n",
        "\n"
      ]
    },
    {
      "cell_type": "markdown",
      "metadata": {
        "id": "4F01w4apP5oo"
      },
      "source": [
        "## 8. Train the Agent\n",
        "\n",
        "Now that all implementations are complete, let's train the RND agent from scratch!"
      ]
    },
    {
      "cell_type": "code",
      "execution_count": null,
      "metadata": {
        "id": "42IgzWrukAjM"
      },
      "outputs": [],
      "source": [
        "!python main.py --train_from_scratch"
      ]
    },
    {
      "cell_type": "markdown",
      "metadata": {
        "id": "As19xqS3kZP4"
      },
      "source": [
        "\n",
        "## 9. Visualize Training Logs\n",
        "\n",
        "Launch TensorBoard to monitor your training progress and analyze the RND agent's performance.\n",
        "\n"
      ]
    },
    {
      "cell_type": "code",
      "execution_count": null,
      "metadata": {
        "id": "riwgtJAUkh56"
      },
      "outputs": [],
      "source": [
        "# Start Tensorboard\n",
        "%load_ext tensorboard\n",
        "%tensorboard --logdir Logs"
      ]
    },
    {
      "cell_type": "markdown",
      "metadata": {
        "id": "5nBRTZdHkknG"
      },
      "source": [
        "\n",
        "## 10. Summary\n",
        "\n",
        "**Congratulations!** You have successfully implemented the complete Random Network Distillation (RND) algorithm with PPO. \n",
        "\n",
        "**Key Components Implemented:**\n",
        "1. ✅ **TargetModel**: Fixed random neural network for generating target features\n",
        "2. ✅ **PredictorModel**: Trainable network that learns to predict target features  \n",
        "3. ✅ **Intrinsic Rewards**: Prediction error-based exploration bonuses\n",
        "4. ✅ **RND Loss**: Training objective with dropout masking for stability\n",
        "\n",
        "**How RND Works:**\n",
        "- The TargetModel generates random features for each state\n",
        "- The PredictorModel learns to predict these features for seen states\n",
        "- Unseen states have high prediction error → high intrinsic reward → more exploration\n",
        "- This encourages the agent to visit novel states and improve exploration\n",
        "\n",
        "**Expected Results:**\n",
        "- The agent should show improved exploration in the MiniGrid environment\n",
        "- Intrinsic rewards should decrease over time as the agent explores more states\n",
        "- The agent should learn to solve the environment more efficiently than standard PPO\n",
        "\n",
        "Good luck with your training! 🚀"
      ]
    }
  ],
  "metadata": {
    "colab": {
      "provenance": []
    },
    "kernelspec": {
      "display_name": "Python 3",
      "name": "python3"
    },
    "language_info": {
      "name": "python"
    }
  },
  "nbformat": 4,
  "nbformat_minor": 0
}
