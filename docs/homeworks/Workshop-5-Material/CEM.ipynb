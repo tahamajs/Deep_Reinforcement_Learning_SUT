{
  "cells": [
    {
      "cell_type": "markdown",
      "id": "3e646804",
      "metadata": {
        "id": "3e646804"
      },
      "source": [
        "# Workshop 5. Cross Entropy Method\n",
        "\n",
        "**[CE716: Reinforcement Learning](https://deeprlcourse.github.io/)**\n",
        "\n",
        "__Course Instructor__: Dr. Mohammad Hossein Rohban\n",
        "\n",
        "__Notebook Author__: Ramtin Moslemi\n",
        "\n",
        "[![Open In Colab](https://colab.research.google.com/assets/colab-badge.svg)](https://colab.research.google.com/github/DeepRLCourse/Workshop-5-Material/blob/main/CEM.ipynb)\n",
        "[![Open In kaggle](https://kaggle.com/static/images/open-in-kaggle.svg)](https://kaggle.com/kernels/welcome?src=https://raw.githubusercontent.com/DeepRLCourse/Workshop-5-Material/main/CEM.ipynb)\n",
        "\n",
        "---\n",
        "## Notebook Objectives\n",
        "\n",
        "Welcome to this workshop on **Reinforcement Learning (RL)**!\n",
        "\n",
        "In this notebook, we implement the **Cross Entropy Method (CEM)**, which is a Stochastic Optimization method, on the [Mountain Car Continuous](https://gymnasium.farama.org/environments/classic_control/mountain_car_continuous/) environment.\n",
        "CEM iteratively suggests a small number of neighboring policies, and uses a small percentage of the best performing policies to calculate a new estimate.\n",
        "\n",
        "This notebook is heavily inspired by Chanseok Kang's [notebook on Cross Entropy Methods](https://goodboychan.github.io/python/reinforcement_learning/pytorch/udacity/2021/05/11/CEM-MountainCar.html)."
      ]
    },
    {
      "cell_type": "code",
      "execution_count": 1,
      "id": "063a557c",
      "metadata": {
        "cellView": "form",
        "id": "063a557c"
      },
      "outputs": [],
      "source": [
        "# @title Imports\n",
        "\n",
        "import gymnasium as gym\n",
        "import math\n",
        "import numpy as np\n",
        "from collections import deque\n",
        "from tqdm.notebook import trange\n",
        "\n",
        "import torch\n",
        "import torch.nn as nn\n",
        "import torch.nn.functional as F\n",
        "from torch.autograd import Variable\n",
        "\n",
        "import base64, io\n",
        "\n",
        "# For visualization\n",
        "import logging\n",
        "from IPython.display import HTML\n",
        "import matplotlib\n",
        "from matplotlib import pyplot as plt\n",
        "import imageio\n",
        "import glob"
      ]
    },
    {
      "cell_type": "code",
      "execution_count": 2,
      "id": "de727785",
      "metadata": {
        "cellView": "form",
        "colab": {
          "base_uri": "https://localhost:8080/"
        },
        "id": "de727785",
        "outputId": "69718f2e-7060-4f7b-97a0-c7690fa3c3c3"
      },
      "outputs": [
        {
          "data": {
            "text/plain": [
              "device(type='cpu')"
            ]
          },
          "execution_count": 2,
          "metadata": {},
          "output_type": "execute_result"
        }
      ],
      "source": [
        "# @title Device setup\n",
        "\n",
        "# You're probably better off using cpu\n",
        "device = torch.device(\"cuda\" if torch.cuda.is_available() else \"cpu\")\n",
        "device"
      ]
    },
    {
      "cell_type": "code",
      "execution_count": 3,
      "id": "q7pMsRfWzYls",
      "metadata": {
        "cellView": "form",
        "id": "q7pMsRfWzYls"
      },
      "outputs": [],
      "source": [
        "# @title Helper functions\n",
        "\n",
        "logging.getLogger().setLevel(logging.ERROR)\n",
        "\n",
        "is_ipython = 'inline' in matplotlib.get_backend()\n",
        "if is_ipython:\n",
        "    from IPython import display\n",
        "\n",
        "\n",
        "def embed_mp4(filename):\n",
        "    video = open(filename, 'rb').read()\n",
        "    b64 = base64.b64encode(video)\n",
        "    tag = '''\n",
        "    <video width=\"640\" height=\"480\" controls>\n",
        "    <source src=\"data:video/mp4;base64,{0}\" type=\"video/mp4\">\n",
        "    Your browser does not support the video tag.\n",
        "    </video>'''.format(b64.decode())\n",
        "    return HTML(tag)\n",
        "\n",
        "\n",
        "def create_policy_eval_video(env, agent, filename, format='mp4', max_steps=1000, num_episodes=1):\n",
        "    filename = filename + \".mp4\"\n",
        "    fps = env.metadata['render_fps']\n",
        "    with imageio.get_writer(filename, fps=fps) as video:\n",
        "        for _ in range(num_episodes):\n",
        "            counter = 0\n",
        "            state, info = env.reset()\n",
        "            video.append_data(env.render())\n",
        "            while True:\n",
        "                action = agent.act(state)\n",
        "                state, reward, terminated, truncated, info = env.step(action)\n",
        "                video.append_data(env.render())\n",
        "                counter += 1\n",
        "                if terminated or truncated or counter > max_steps:\n",
        "                    break\n",
        "    return embed_mp4(filename)\n",
        "\n",
        "\n",
        "def plot_rewards(scores):\n",
        "    plt.plot(np.arange(1, len(scores)+1), scores)\n",
        "    plt.ylabel('Score')\n",
        "    plt.xlabel('Episode #')\n",
        "    plt.show()"
      ]
    },
    {
      "cell_type": "markdown",
      "id": "67faf368",
      "metadata": {
        "id": "67faf368"
      },
      "source": [
        "# Instantiate the Environment\n",
        "\n",
        "MountainCar environment has two types: Discrete and Continuous. In this notebook, we used Continuous version of MountainCar. That is, we can move the car to the left (or right) precisely."
      ]
    },
    {
      "cell_type": "code",
      "execution_count": 4,
      "id": "c6c02db1",
      "metadata": {
        "colab": {
          "base_uri": "https://localhost:8080/"
        },
        "id": "c6c02db1",
        "outputId": "c14c324a-cb19-42bb-ff58-630c4c1d2d4d"
      },
      "outputs": [
        {
          "name": "stdout",
          "output_type": "stream",
          "text": [
            "observation space: Box([-1.2  -0.07], [0.6  0.07], (2,), float32)\n",
            "action space: Box(-1.0, 1.0, (1,), float32)\n",
            "  - low: [-1.]\n",
            "  - high: [1.]\n"
          ]
        }
      ],
      "source": [
        "env = gym.make('MountainCarContinuous-v0')\n",
        "\n",
        "print('observation space:', env.observation_space)\n",
        "print('action space:', env.action_space)\n",
        "print('  - low:', env.action_space.low)\n",
        "print('  - high:', env.action_space.high)"
      ]
    },
    {
      "cell_type": "markdown",
      "id": "d6ebff61",
      "metadata": {
        "id": "d6ebff61"
      },
      "source": [
        "# Agent"
      ]
    },
    {
      "cell_type": "markdown",
      "id": "TJbF8S0-1xSQ",
      "metadata": {
        "id": "TJbF8S0-1xSQ"
      },
      "source": [
        "This Agent class implements a simple neural network for reinforcement learning.\n",
        "It consists of a two-layer fully connected network and can evaluate different sets of weights in an environment.\n",
        "The agent selects actions based on the learned policy and can be evaluated by running episodes using the provided weights."
      ]
    },
    {
      "cell_type": "code",
      "execution_count": 5,
      "id": "8a769b19",
      "metadata": {
        "id": "8a769b19"
      },
      "outputs": [],
      "source": [
        "class Agent(nn.Module):\n",
        "    \"\"\"\n",
        "    A simple neural network agent for reinforcement learning. The agent consists of a two-layer fully connected network\n",
        "    and can evaluate different sets of weights. It interacts with a given environment by selecting actions based on\n",
        "    learned policies.\n",
        "    \"\"\"\n",
        "\n",
        "    def __init__(self, env: gym.Env, h_size: int = 16) -> None:\n",
        "        \"\"\"Initializes the agent with a given environment and network structure.\"\"\"\n",
        "        super().__init__()\n",
        "        self.env = env\n",
        "        self.s_size: int = env.observation_space.shape[0]  # State dimension\n",
        "        self.h_size: int = h_size  # Hidden layer size\n",
        "        self.a_size: int = env.action_space.shape[0]  # Action dimension\n",
        "\n",
        "        # Define a two-layer fully connected network\n",
        "        self.fc1 = nn.Linear(self.s_size, self.h_size)\n",
        "        self.fc2 = nn.Linear(self.h_size, self.a_size)\n",
        "\n",
        "    def set_weights(self, weights: np.ndarray) -> None:\n",
        "        \"\"\"Sets the network weights from a given flattened array.\"\"\"\n",
        "        fc1_end = (self.s_size * self.h_size) + self.h_size\n",
        "\n",
        "        fc1_W = torch.from_numpy(weights[: self.s_size * self.h_size].reshape(self.s_size, self.h_size))\n",
        "        fc1_b = torch.from_numpy(weights[self.s_size * self.h_size : fc1_end])\n",
        "\n",
        "        fc2_W = torch.from_numpy(weights[fc1_end : fc1_end + (self.h_size * self.a_size)].reshape(self.h_size, self.a_size))\n",
        "        fc2_b = torch.from_numpy(weights[fc1_end + (self.h_size * self.a_size) :])\n",
        "\n",
        "        # Assign new weights to network layers\n",
        "        self.fc1.weight.data.copy_(fc1_W.view_as(self.fc1.weight.data))\n",
        "        self.fc1.bias.data.copy_(fc1_b.view_as(self.fc1.bias.data))\n",
        "        self.fc2.weight.data.copy_(fc2_W.view_as(self.fc2.weight.data))\n",
        "        self.fc2.bias.data.copy_(fc2_b.view_as(self.fc2.bias.data))\n",
        "\n",
        "    def get_weights_dim(self) -> int:\n",
        "        \"\"\"Returns the total number of parameters in the network.\"\"\"\n",
        "        return (self.s_size + 1) * self.h_size + (self.h_size + 1) * self.a_size\n",
        "\n",
        "    def forward(self, x: torch.Tensor) -> torch.Tensor:\n",
        "        \"\"\"Performs a forward pass through the network.\"\"\"\n",
        "        x = F.relu(self.fc1(x))\n",
        "        x = torch.tanh(self.fc2(x))\n",
        "        return x.cpu().data\n",
        "\n",
        "    def act(self, state: np.ndarray) -> torch.Tensor:\n",
        "        \"\"\"Selects an action given a state.\"\"\"\n",
        "        state_tensor = torch.from_numpy(state).float().to(device)\n",
        "        with torch.no_grad():\n",
        "            action = self.forward(state_tensor)\n",
        "        return action\n",
        "\n",
        "    def evaluate(self, weights: np.ndarray, gamma: float = 1.0, max_t: int = 5000) -> float:\n",
        "        \"\"\"Evaluates the agent's performance by running an episode with a given set of weights.\"\"\"\n",
        "        self.set_weights(weights)\n",
        "        episode_return = 0.0\n",
        "        state, _ = self.env.reset()\n",
        "\n",
        "        for t in range(max_t):\n",
        "            state_tensor = torch.from_numpy(state).float().to(device)\n",
        "            action = self.forward(state_tensor)\n",
        "            state, reward, terminated, truncated, _ = self.env.step(action.cpu().numpy())\n",
        "            episode_return += reward * (gamma ** t)\n",
        "            if terminated or truncated:\n",
        "                break\n",
        "\n",
        "        return episode_return\n"
      ]
    },
    {
      "cell_type": "markdown",
      "id": "ea18646f",
      "metadata": {
        "id": "ea18646f"
      },
      "source": [
        "# Cross Entropy Method"
      ]
    },
    {
      "cell_type": "markdown",
      "id": "eONocT7P2qfZ",
      "metadata": {
        "id": "eONocT7P2qfZ"
      },
      "source": [
        "The cem function implements the Cross-Entropy Method (CEM) to optimize an agent's policy in a reinforcement learning setting.\n",
        "It iteratively samples a population of candidate weight vectors by adding Gaussian noise to the current best weights and evaluates their performance in the environment.\n",
        "The top-performing candidates (elite set) are selected, and their average is used to update the best weights.\n",
        "This process continues for a specified number of iterations or until the agent achieves an average score above 90 over the last 100 episodes.\n",
        "The function also saves the agent's model after each iteration and provides progress updates."
      ]
    },
    {
      "cell_type": "code",
      "execution_count": 6,
      "id": "e0c930e7",
      "metadata": {
        "id": "e0c930e7"
      },
      "outputs": [],
      "source": [
        "def cem(agent, n_iterations: int = 300, max_t: int = 1000, gamma: float = 1.0,\n",
        "        pop_size: int = 100, elite_frac: float = 0.2, sigma: float = 0.5):\n",
        "    \"\"\"\n",
        "    PyTorch implementation of the cross-entropy method (CEM) for optimizing agent policies.\n",
        "\n",
        "    Parameters:\n",
        "    - agent: The agent instance to be optimized.\n",
        "    - n_iterations: Number of training iterations.\n",
        "    - max_t: Maximum number of timesteps per episode.\n",
        "    - gamma: Discount factor for rewards.\n",
        "    - pop_size: Population size at each iteration.\n",
        "    - elite_frac: Fraction of top-performing candidates used to update weights.\n",
        "    - sigma: Standard deviation of additive noise.\n",
        "\n",
        "    Returns:\n",
        "    - scores: A list of cumulative rewards obtained over iterations.\n",
        "    \"\"\"\n",
        "    n_elite = int(pop_size * elite_frac)\n",
        "    scores_deque = deque(maxlen=100)\n",
        "    scores = []\n",
        "\n",
        "    # Initialize weights with random noise\n",
        "    best_weight = sigma * np.random.randn(agent.get_weights_dim())\n",
        "\n",
        "    for i_iteration in (pbar := trange(1, n_iterations + 1)):\n",
        "        # Generate candidate weights with Gaussian noise\n",
        "        weights_pop = [best_weight + sigma * np.random.randn(agent.get_weights_dim()) for _ in range(pop_size)]\n",
        "\n",
        "        # Evaluate all candidates\n",
        "        rewards = np.array([agent.evaluate(weights, gamma, max_t) for weights in weights_pop])\n",
        "\n",
        "        # Select elite candidates\n",
        "        elite_idxs = rewards.argsort()[-n_elite:]\n",
        "        elite_weights = [weights_pop[i] for i in elite_idxs]\n",
        "\n",
        "        # Update best weights\n",
        "        best_weight = np.mean(elite_weights, axis=0)\n",
        "\n",
        "        # Evaluate updated weights\n",
        "        reward = agent.evaluate(best_weight, gamma=1.0)\n",
        "        scores_deque.append(reward)\n",
        "        scores.append(reward)\n",
        "\n",
        "        pbar.set_description(f'Average Score = {np.mean(scores_deque):.2f}')\n",
        "\n",
        "        # Check if environment is solved\n",
        "        if np.mean(scores_deque) >= 90.0:\n",
        "            print(f'\\nEnvironment solved in {i_iteration - 100} iterations!\\tAverage Score: {np.mean(scores_deque):.2f}\\n')\n",
        "            break\n",
        "\n",
        "    # Save model checkpoint\n",
        "    torch.save(agent.state_dict(), 'checkpoint.pth')\n",
        "\n",
        "    # Plot results\n",
        "    plot_rewards(scores)\n",
        "\n",
        "    return scores\n"
      ]
    },
    {
      "cell_type": "markdown",
      "id": "3735df07",
      "metadata": {
        "id": "3735df07"
      },
      "source": [
        "# Results"
      ]
    },
    {
      "cell_type": "code",
      "execution_count": 7,
      "id": "4c662c01",
      "metadata": {
        "colab": {
          "base_uri": "https://localhost:8080/",
          "height": 532,
          "referenced_widgets": [
            "bcc72a611ba04e8889890378e6f1eb44",
            "da54c9c82ced497fac378a98095c115b",
            "6f59fc0f5414477ba5d69b83849ce1cd",
            "1d4e1dcaadf143b8b4f038927d6a4fc0",
            "f4f3749617644e90a85bd4261b3f54f8",
            "4a8f9ca9dd3b4d7cb4fbd1d2b86ecbb8",
            "3649352cec66498b8881ab08c7c2a85d",
            "e6479695cabf445aa87c856ba3b29721",
            "80e8dd46d21e4b4e9ba2c5c5c4563f91",
            "0397c2a7c914415292330aaa0ae3ca18",
            "5c4acdab15fe4d8ebb33bb0c0da167c1"
          ]
        },
        "id": "4c662c01",
        "outputId": "c41e875f-f3af-4049-ea23-fef06b6dfd02"
      },
      "outputs": [
        {
          "data": {
            "application/vnd.jupyter.widget-view+json": {
              "model_id": "bcc72a611ba04e8889890378e6f1eb44",
              "version_major": 2,
              "version_minor": 0
            },
            "text/plain": [
              "  0%|          | 0/300 [00:00<?, ?it/s]"
            ]
          },
          "metadata": {},
          "output_type": "display_data"
        },
        {
          "name": "stdout",
          "output_type": "stream",
          "text": [
            "\n",
            "Environment solved in 93 iterations!\tAverage Score: 90.08\n",
            "\n"
          ]
        },
        {
          "data": {
            "image/png": "[encoded data removed]",
            "text/plain": [
              "<Figure size 640x480 with 1 Axes>"
            ]
          },
          "metadata": {},
          "output_type": "display_data"
        }
      ],
      "source": [
        "torch.manual_seed(2025)\n",
        "\n",
        "agent = Agent(env).to(device)\n",
        "scores = cem(agent)"
      ]
    },
    {
      "cell_type": "code",
      "execution_count": 8,
      "id": "Gwft6Nvw5_dP",
      "metadata": {
        "colab": {
          "base_uri": "https://localhost:8080/",
          "height": 501
        },
        "id": "Gwft6Nvw5_dP",
        "outputId": "7b3d2783-bf3d-4212-934d-ffbbe1181026"
      },
      "outputs": [
        {
          "data": {
            "text/html": [
              "\n",
              "    <video width=\"640\" height=\"480\" controls>\n",
              "    <source src=\"data:video/mp4;base64,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\" type=\"video/mp4\">\n",
              "    Your browser does not support the video tag.\n",
              "    </video>"
            ],
            "text/plain": [
              "<IPython.core.display.HTML object>"
            ]
          },
          "execution_count": 8,
          "metadata": {},
          "output_type": "execute_result"
        }
      ],
      "source": [
        "env = gym.make('MountainCarContinuous-v0', render_mode='rgb_array')\n",
        "create_policy_eval_video(env, agent, 'cem')"
      ]
    },
    {
      "cell_type": "markdown",
      "id": "YZomtSAIIOOR",
      "metadata": {
        "id": "YZomtSAIIOOR"
      },
      "source": [
        "# Vectorized Version"
      ]
    },
    {
      "cell_type": "markdown",
      "id": "-gldImZWJc9C",
      "metadata": {
        "id": "-gldImZWJc9C"
      },
      "source": [
        "One of the major advantages of the **CEM** is that it is **Parallelizable**!\n",
        "\n",
        "In this section we explore how **Vectorized** environments allow us to take advantage of this fact."
      ]
    },
    {
      "cell_type": "markdown",
      "id": "sPzhgzw0KJbZ",
      "metadata": {
        "id": "sPzhgzw0KJbZ"
      },
      "source": [
        "## Vectorized Agent"
      ]
    },
    {
      "cell_type": "markdown",
      "id": "MDacTe3RKKyY",
      "metadata": {
        "id": "MDacTe3RKKyY"
      },
      "source": [
        "To utilize the benefits of vectorization, we must implement our agent once more to support batch evaluations on vectorized environments."
      ]
    },
    {
      "cell_type": "code",
      "execution_count": 9,
      "id": "M4rLkq5zAF70",
      "metadata": {
        "id": "M4rLkq5zAF70"
      },
      "outputs": [],
      "source": [
        "class VectorizedAgent:\n",
        "    \"\"\"\n",
        "    Handles batched weight evaluations using parallel environments and GPU acceleration.\n",
        "    \"\"\"\n",
        "    def __init__(self, env_maker, pop_size: int = 100, h_size: int = 16):\n",
        "        self.pop_size = pop_size\n",
        "        self.vec_env = gym.vector.SyncVectorEnv([env_maker for _ in range(pop_size)])\n",
        "        self.s_size = self.vec_env.single_observation_space.shape[0]\n",
        "        self.h_size = h_size\n",
        "        self.a_size = self.vec_env.single_action_space.shape[0]\n",
        "\n",
        "        # Pre-calculate weight slicing indices\n",
        "        self.fc1_end = self.s_size * self.h_size\n",
        "        self.fc1_b_end = self.fc1_end + self.h_size\n",
        "        self.fc2_end = self.fc1_b_end + self.h_size * self.a_size\n",
        "        self.total_params = self.fc2_end + self.a_size\n",
        "\n",
        "    def batched_forward(self, states: np.ndarray, weights_batch: np.ndarray) -> np.ndarray:\n",
        "        # Convert to tensors and move to GPU\n",
        "        states_tensor = torch.as_tensor(states, dtype=torch.float32, device=device)\n",
        "        weights_tensor = torch.as_tensor(weights_batch, dtype=torch.float32, device=device)\n",
        "\n",
        "        # Split weights into layer components\n",
        "        fc1_W = weights_tensor[:, :self.fc1_end].view(-1, self.s_size, self.h_size)\n",
        "        fc1_b = weights_tensor[:, self.fc1_end:self.fc1_b_end].view(-1, self.h_size)\n",
        "        fc2_W = weights_tensor[:, self.fc1_b_end:self.fc2_end].view(-1, self.h_size, self.a_size)\n",
        "        fc2_b = weights_tensor[:, self.fc2_end:].view(-1, self.a_size)\n",
        "\n",
        "        # Batched forward pass\n",
        "        x = torch.einsum('bs,bsh->bh', states_tensor, fc1_W) + fc1_b\n",
        "        x = F.relu(x)\n",
        "        x = torch.einsum('bh,bha->ba', x, fc2_W) + fc2_b\n",
        "        return torch.tanh(x).cpu().numpy()\n",
        "\n",
        "    def evaluate_batch(self, weights_batch: np.ndarray, gamma: float = 1.0, max_t: int = 1000) -> np.ndarray:\n",
        "        states, _ = self.vec_env.reset()\n",
        "        episode_returns = np.zeros(self.pop_size)\n",
        "        discount = 1.0\n",
        "\n",
        "        for _ in range(max_t):\n",
        "            actions = self.batched_forward(states, weights_batch)\n",
        "            next_states, rewards, _, _, _ = self.vec_env.step(actions)\n",
        "            episode_returns += rewards * discount\n",
        "            discount *= gamma\n",
        "            states = next_states\n",
        "\n",
        "        return episode_returns\n",
        "\n",
        "    def save_weights(self, filepath: str, weights: np.ndarray):\n",
        "        \"\"\"\n",
        "        Save the agent's weights to a file.\n",
        "        \"\"\"\n",
        "        torch.save(torch.from_numpy(weights), filepath)\n",
        "\n",
        "    def load_weights(self, filepath: str) -> np.ndarray:\n",
        "        \"\"\"\n",
        "        Load the agent's weights from a file.\n",
        "        \"\"\"\n",
        "        return torch.load(filepath).numpy()"
      ]
    },
    {
      "cell_type": "markdown",
      "id": "rTGqUrh2LU-P",
      "metadata": {
        "id": "rTGqUrh2LU-P"
      },
      "source": [
        "## Parallel CEM"
      ]
    },
    {
      "cell_type": "markdown",
      "id": "jFnl4XAhLgSH",
      "metadata": {
        "id": "jFnl4XAhLgSH"
      },
      "source": [
        "Now we can modify the `cem` method as well to support the vectorized agents."
      ]
    },
    {
      "cell_type": "code",
      "execution_count": 10,
      "id": "ZkjV0ZZ0EwKG",
      "metadata": {
        "id": "ZkjV0ZZ0EwKG"
      },
      "outputs": [],
      "source": [
        "# Create the environment maker function\n",
        "def make_env():\n",
        "    return gym.make(\"MountainCarContinuous-v0\")\n",
        "\n",
        "\n",
        "def cem(env_maker = make_env, n_iterations: int = 300, pop_size: int = 100,\n",
        "        elite_frac: float = 0.2, sigma: float = 0.5, h_size: int = 16):\n",
        "    agent = VectorizedAgent(env_maker, pop_size, h_size)\n",
        "    n_elite = int(pop_size * elite_frac)\n",
        "    best_weight = sigma * np.random.randn(agent.total_params)\n",
        "    scores_deque = deque(maxlen=100)\n",
        "    scores = []\n",
        "\n",
        "    for _ in (pbar := trange(n_iterations)):\n",
        "        # Generate population (batched on CPU)\n",
        "        weights_batch = best_weight + sigma * np.random.randn(pop_size, agent.total_params)\n",
        "\n",
        "        # Evaluate entire population in parallel\n",
        "        rewards = agent.evaluate_batch(weights_batch)\n",
        "\n",
        "        # Elite selection (GPU not needed here)\n",
        "        elite_idx = np.argsort(rewards)[-n_elite:]\n",
        "        elite_weights = weights_batch[elite_idx]\n",
        "        best_weight = elite_weights.mean(axis=0)\n",
        "\n",
        "        # Track performance\n",
        "        scores.append(rewards.mean())\n",
        "        scores_deque.append(rewards.mean())\n",
        "        pbar.set_description(f'Average Reward = {scores[-1]:.2f} ')\n",
        "\n",
        "    # Save model checkpoint\n",
        "    agent.save_weights(\"best_weights.pth\", best_weight)\n",
        "\n",
        "    # Plot results\n",
        "    plot_rewards(scores)\n",
        "\n",
        "    return scores"
      ]
    },
    {
      "cell_type": "markdown",
      "id": "mi2wc-u4LwE0",
      "metadata": {
        "id": "mi2wc-u4LwE0"
      },
      "source": [
        "## Speed Up Results"
      ]
    },
    {
      "cell_type": "markdown",
      "id": "00aP3xo0LyKY",
      "metadata": {
        "id": "00aP3xo0LyKY"
      },
      "source": [
        "As you can see our new iterations take less time even with larger networks and population sizes!\n",
        "Keep in mind the average reward reported here refers to the average reward of the entire population!"
      ]
    },
    {
      "cell_type": "code",
      "execution_count": 11,
      "id": "JK3ZoEIKHCkz",
      "metadata": {
        "colab": {
          "base_uri": "https://localhost:8080/",
          "height": 481,
          "referenced_widgets": [
            "1683a84cbd054e149bdaf5ecb1a4271d",
            "135a366b327d494fb820a102eb348426",
            "d0098433da304bc5a8f7c98701c0ad83",
            "edb1b5f1897047878d7c5aa8e9fcaa03",
            "e9d28917c3a44f20a5d993c38b0f63f4",
            "9ab2aa5106a54389874f0974ec3f8767",
            "b88d111c29ef434eb5f52c82ccb5855b",
            "68b4ec41608f42ccb82a64b90e36b711",
            "7501045a23214ad284a896ccfab64559",
            "89155b357f294539acf094d5c69a969d",
            "2523f8040f51495c8e379a0955ff1933"
          ]
        },
        "id": "JK3ZoEIKHCkz",
        "outputId": "79d9b532-aad3-4476-e58a-de9ef55cdccf"
      },
      "outputs": [
        {
          "data": {
            "application/vnd.jupyter.widget-view+json": {
              "model_id": "1683a84cbd054e149bdaf5ecb1a4271d",
              "version_major": 2,
              "version_minor": 0
            },
            "text/plain": [
              "  0%|          | 0/300 [00:00<?, ?it/s]"
            ]
          },
          "metadata": {},
          "output_type": "display_data"
        },
        {
          "data": {
            "image/png": "[encoded data removed]",
            "text/plain": [
              "<Figure size 640x480 with 1 Axes>"
            ]
          },
          "metadata": {},
          "output_type": "display_data"
        }
      ],
      "source": [
        "# Run CEM on MountainCarContinuous-v0\n",
        "scores = cem(n_iterations=300,  # Number of training iterations\n",
        "             pop_size=300,      # Population size\n",
        "             elite_frac=0.2,    # Fraction of elite candidates\n",
        "             sigma=0.5,         # Noise scale\n",
        "             h_size=32          # Hidden layer size\n",
        "             )"
      ]
    }
  ],
  "metadata": {
    "colab": {
      "collapsed_sections": [
        "3e646804",
        "sPzhgzw0KJbZ",
        "rTGqUrh2LU-P"
      ],
      "provenance": []
    },
    "kernelspec": {
      "display_name": "Python 3",
      "name": "python3"
    },
    "language_info": {
      "codemirror_mode": {
        "name": "ipython",
        "version": 3
      },
      "file_extension": ".py",
      "mimetype": "text/x-python",
      "name": "python",
      "nbconvert_exporter": "python",
      "pygments_lexer": "ipython3",
      "version": "3.7.10"
    },
    "widgets": {
      "application/vnd.jupyter.widget-state+json": {
        "0397c2a7c914415292330aaa0ae3ca18": {
          "model_module": "@jupyter-widgets/base",
          "model_module_version": "1.2.0",
          "model_name": "LayoutModel",
          "state": {
            "_model_module": "@jupyter-widgets/base",
            "_model_module_version": "1.2.0",
            "_model_name": "LayoutModel",
            "_view_count": null,
            "_view_module": "@jupyter-widgets/base",
            "_view_module_version": "1.2.0",
            "_view_name": "LayoutView",
            "align_content": null,
            "align_items": null,
            "align_self": null,
            "border": null,
            "bottom": null,
            "display": null,
            "flex": null,
            "flex_flow": null,
            "grid_area": null,
            "grid_auto_columns": null,
            "grid_auto_flow": null,
            "grid_auto_rows": null,
            "grid_column": null,
            "grid_gap": null,
            "grid_row": null,
            "grid_template_areas": null,
            "grid_template_columns": null,
            "grid_template_rows": null,
            "height": null,
            "justify_content": null,
            "justify_items": null,
            "left": null,
            "margin": null,
            "max_height": null,
            "max_width": null,
            "min_height": null,
            "min_width": null,
            "object_fit": null,
            "object_position": null,
            "order": null,
            "overflow": null,
            "overflow_x": null,
            "overflow_y": null,
            "padding": null,
            "right": null,
            "top": null,
            "visibility": null,
            "width": null
          }
        },
        "135a366b327d494fb820a102eb348426": {
          "model_module": "@jupyter-widgets/controls",
          "model_module_version": "1.5.0",
          "model_name": "HTMLModel",
          "state": {
            "_dom_classes": [],
            "_model_module": "@jupyter-widgets/controls",
            "_model_module_version": "1.5.0",
            "_model_name": "HTMLModel",
            "_view_count": null,
            "_view_module": "@jupyter-widgets/controls",
            "_view_module_version": "1.5.0",
            "_view_name": "HTMLView",
            "description": "",
            "description_tooltip": null,
            "layout": "IPY_MODEL_9ab2aa5106a54389874f0974ec3f8767",
            "placeholder": "​",
            "style": "IPY_MODEL_b88d111c29ef434eb5f52c82ccb5855b",
            "value": "Average Reward = -17.57 : 100%"
          }
        },
        "1683a84cbd054e149bdaf5ecb1a4271d": {
          "model_module": "@jupyter-widgets/controls",
          "model_module_version": "1.5.0",
          "model_name": "HBoxModel",
          "state": {
            "_dom_classes": [],
            "_model_module": "@jupyter-widgets/controls",
            "_model_module_version": "1.5.0",
            "_model_name": "HBoxModel",
            "_view_count": null,
            "_view_module": "@jupyter-widgets/controls",
            "_view_module_version": "1.5.0",
            "_view_name": "HBoxView",
            "box_style": "",
            "children": [
              "IPY_MODEL_135a366b327d494fb820a102eb348426",
              "IPY_MODEL_d0098433da304bc5a8f7c98701c0ad83",
              "IPY_MODEL_edb1b5f1897047878d7c5aa8e9fcaa03"
            ],
            "layout": "IPY_MODEL_e9d28917c3a44f20a5d993c38b0f63f4"
          }
        },
        "1d4e1dcaadf143b8b4f038927d6a4fc0": {
          "model_module": "@jupyter-widgets/controls",
          "model_module_version": "1.5.0",
          "model_name": "HTMLModel",
          "state": {
            "_dom_classes": [],
            "_model_module": "@jupyter-widgets/controls",
            "_model_module_version": "1.5.0",
            "_model_name": "HTMLModel",
            "_view_count": null,
            "_view_module": "@jupyter-widgets/controls",
            "_view_module_version": "1.5.0",
            "_view_name": "HTMLView",
            "description": "",
            "description_tooltip": null,
            "layout": "IPY_MODEL_0397c2a7c914415292330aaa0ae3ca18",
            "placeholder": "​",
            "style": "IPY_MODEL_5c4acdab15fe4d8ebb33bb0c0da167c1",
            "value": " 192/300 [36:13&lt;14:43,  8.18s/it]"
          }
        },
        "2523f8040f51495c8e379a0955ff1933": {
          "model_module": "@jupyter-widgets/controls",
          "model_module_version": "1.5.0",
          "model_name": "DescriptionStyleModel",
          "state": {
            "_model_module": "@jupyter-widgets/controls",
            "_model_module_version": "1.5.0",
            "_model_name": "DescriptionStyleModel",
            "_view_count": null,
            "_view_module": "@jupyter-widgets/base",
            "_view_module_version": "1.2.0",
            "_view_name": "StyleView",
            "description_width": ""
          }
        },
        "3649352cec66498b8881ab08c7c2a85d": {
          "model_module": "@jupyter-widgets/controls",
          "model_module_version": "1.5.0",
          "model_name": "DescriptionStyleModel",
          "state": {
            "_model_module": "@jupyter-widgets/controls",
            "_model_module_version": "1.5.0",
            "_model_name": "DescriptionStyleModel",
            "_view_count": null,
            "_view_module": "@jupyter-widgets/base",
            "_view_module_version": "1.2.0",
            "_view_name": "StyleView",
            "description_width": ""
          }
        },
        "4a8f9ca9dd3b4d7cb4fbd1d2b86ecbb8": {
          "model_module": "@jupyter-widgets/base",
          "model_module_version": "1.2.0",
          "model_name": "LayoutModel",
          "state": {
            "_model_module": "@jupyter-widgets/base",
            "_model_module_version": "1.2.0",
            "_model_name": "LayoutModel",
            "_view_count": null,
            "_view_module": "@jupyter-widgets/base",
            "_view_module_version": "1.2.0",
            "_view_name": "LayoutView",
            "align_content": null,
            "align_items": null,
            "align_self": null,
            "border": null,
            "bottom": null,
            "display": null,
            "flex": null,
            "flex_flow": null,
            "grid_area": null,
            "grid_auto_columns": null,
            "grid_auto_flow": null,
            "grid_auto_rows": null,
            "grid_column": null,
            "grid_gap": null,
            "grid_row": null,
            "grid_template_areas": null,
            "grid_template_columns": null,
            "grid_template_rows": null,
            "height": null,
            "justify_content": null,
            "justify_items": null,
            "left": null,
            "margin": null,
            "max_height": null,
            "max_width": null,
            "min_height": null,
            "min_width": null,
            "object_fit": null,
            "object_position": null,
            "order": null,
            "overflow": null,
            "overflow_x": null,
            "overflow_y": null,
            "padding": null,
            "right": null,
            "top": null,
            "visibility": null,
            "width": null
          }
        },
        "5c4acdab15fe4d8ebb33bb0c0da167c1": {
          "model_module": "@jupyter-widgets/controls",
          "model_module_version": "1.5.0",
          "model_name": "DescriptionStyleModel",
          "state": {
            "_model_module": "@jupyter-widgets/controls",
            "_model_module_version": "1.5.0",
            "_model_name": "DescriptionStyleModel",
            "_view_count": null,
            "_view_module": "@jupyter-widgets/base",
            "_view_module_version": "1.2.0",
            "_view_name": "StyleView",
            "description_width": ""
          }
        },
        "68b4ec41608f42ccb82a64b90e36b711": {
          "model_module": "@jupyter-widgets/base",
          "model_module_version": "1.2.0",
          "model_name": "LayoutModel",
          "state": {
            "_model_module": "@jupyter-widgets/base",
            "_model_module_version": "1.2.0",
            "_model_name": "LayoutModel",
            "_view_count": null,
            "_view_module": "@jupyter-widgets/base",
            "_view_module_version": "1.2.0",
            "_view_name": "LayoutView",
            "align_content": null,
            "align_items": null,
            "align_self": null,
            "border": null,
            "bottom": null,
            "display": null,
            "flex": null,
            "flex_flow": null,
            "grid_area": null,
            "grid_auto_columns": null,
            "grid_auto_flow": null,
            "grid_auto_rows": null,
            "grid_column": null,
            "grid_gap": null,
            "grid_row": null,
            "grid_template_areas": null,
            "grid_template_columns": null,
            "grid_template_rows": null,
            "height": null,
            "justify_content": null,
            "justify_items": null,
            "left": null,
            "margin": null,
            "max_height": null,
            "max_width": null,
            "min_height": null,
            "min_width": null,
            "object_fit": null,
            "object_position": null,
            "order": null,
            "overflow": null,
            "overflow_x": null,
            "overflow_y": null,
            "padding": null,
            "right": null,
            "top": null,
            "visibility": null,
            "width": null
          }
        },
        "6f59fc0f5414477ba5d69b83849ce1cd": {
          "model_module": "@jupyter-widgets/controls",
          "model_module_version": "1.5.0",
          "model_name": "FloatProgressModel",
          "state": {
            "_dom_classes": [],
            "_model_module": "@jupyter-widgets/controls",
            "_model_module_version": "1.5.0",
            "_model_name": "FloatProgressModel",
            "_view_count": null,
            "_view_module": "@jupyter-widgets/controls",
            "_view_module_version": "1.5.0",
            "_view_name": "ProgressView",
            "bar_style": "danger",
            "description": "",
            "description_tooltip": null,
            "layout": "IPY_MODEL_e6479695cabf445aa87c856ba3b29721",
            "max": 300,
            "min": 0,
            "orientation": "horizontal",
            "style": "IPY_MODEL_80e8dd46d21e4b4e9ba2c5c5c4563f91",
            "value": 192
          }
        },
        "7501045a23214ad284a896ccfab64559": {
          "model_module": "@jupyter-widgets/controls",
          "model_module_version": "1.5.0",
          "model_name": "ProgressStyleModel",
          "state": {
            "_model_module": "@jupyter-widgets/controls",
            "_model_module_version": "1.5.0",
            "_model_name": "ProgressStyleModel",
            "_view_count": null,
            "_view_module": "@jupyter-widgets/base",
            "_view_module_version": "1.2.0",
            "_view_name": "StyleView",
            "bar_color": null,
            "description_width": ""
          }
        },
        "80e8dd46d21e4b4e9ba2c5c5c4563f91": {
          "model_module": "@jupyter-widgets/controls",
          "model_module_version": "1.5.0",
          "model_name": "ProgressStyleModel",
          "state": {
            "_model_module": "@jupyter-widgets/controls",
            "_model_module_version": "1.5.0",
            "_model_name": "ProgressStyleModel",
            "_view_count": null,
            "_view_module": "@jupyter-widgets/base",
            "_view_module_version": "1.2.0",
            "_view_name": "StyleView",
            "bar_color": null,
            "description_width": ""
          }
        },
        "89155b357f294539acf094d5c69a969d": {
          "model_module": "@jupyter-widgets/base",
          "model_module_version": "1.2.0",
          "model_name": "LayoutModel",
          "state": {
            "_model_module": "@jupyter-widgets/base",
            "_model_module_version": "1.2.0",
            "_model_name": "LayoutModel",
            "_view_count": null,
            "_view_module": "@jupyter-widgets/base",
            "_view_module_version": "1.2.0",
            "_view_name": "LayoutView",
            "align_content": null,
            "align_items": null,
            "align_self": null,
            "border": null,
            "bottom": null,
            "display": null,
            "flex": null,
            "flex_flow": null,
            "grid_area": null,
            "grid_auto_columns": null,
            "grid_auto_flow": null,
            "grid_auto_rows": null,
            "grid_column": null,
            "grid_gap": null,
            "grid_row": null,
            "grid_template_areas": null,
            "grid_template_columns": null,
            "grid_template_rows": null,
            "height": null,
            "justify_content": null,
            "justify_items": null,
            "left": null,
            "margin": null,
            "max_height": null,
            "max_width": null,
            "min_height": null,
            "min_width": null,
            "object_fit": null,
            "object_position": null,
            "order": null,
            "overflow": null,
            "overflow_x": null,
            "overflow_y": null,
            "padding": null,
            "right": null,
            "top": null,
            "visibility": null,
            "width": null
          }
        },
        "9ab2aa5106a54389874f0974ec3f8767": {
          "model_module": "@jupyter-widgets/base",
          "model_module_version": "1.2.0",
          "model_name": "LayoutModel",
          "state": {
            "_model_module": "@jupyter-widgets/base",
            "_model_module_version": "1.2.0",
            "_model_name": "LayoutModel",
            "_view_count": null,
            "_view_module": "@jupyter-widgets/base",
            "_view_module_version": "1.2.0",
            "_view_name": "LayoutView",
            "align_content": null,
            "align_items": null,
            "align_self": null,
            "border": null,
            "bottom": null,
            "display": null,
            "flex": null,
            "flex_flow": null,
            "grid_area": null,
            "grid_auto_columns": null,
            "grid_auto_flow": null,
            "grid_auto_rows": null,
            "grid_column": null,
            "grid_gap": null,
            "grid_row": null,
            "grid_template_areas": null,
            "grid_template_columns": null,
            "grid_template_rows": null,
            "height": null,
            "justify_content": null,
            "justify_items": null,
            "left": null,
            "margin": null,
            "max_height": null,
            "max_width": null,
            "min_height": null,
            "min_width": null,
            "object_fit": null,
            "object_position": null,
            "order": null,
            "overflow": null,
            "overflow_x": null,
            "overflow_y": null,
            "padding": null,
            "right": null,
            "top": null,
            "visibility": null,
            "width": null
          }
        },
        "b88d111c29ef434eb5f52c82ccb5855b": {
          "model_module": "@jupyter-widgets/controls",
          "model_module_version": "1.5.0",
          "model_name": "DescriptionStyleModel",
          "state": {
            "_model_module": "@jupyter-widgets/controls",
            "_model_module_version": "1.5.0",
            "_model_name": "DescriptionStyleModel",
            "_view_count": null,
            "_view_module": "@jupyter-widgets/base",
            "_view_module_version": "1.2.0",
            "_view_name": "StyleView",
            "description_width": ""
          }
        },
        "bcc72a611ba04e8889890378e6f1eb44": {
          "model_module": "@jupyter-widgets/controls",
          "model_module_version": "1.5.0",
          "model_name": "HBoxModel",
          "state": {
            "_dom_classes": [],
            "_model_module": "@jupyter-widgets/controls",
            "_model_module_version": "1.5.0",
            "_model_name": "HBoxModel",
            "_view_count": null,
            "_view_module": "@jupyter-widgets/controls",
            "_view_module_version": "1.5.0",
            "_view_name": "HBoxView",
            "box_style": "",
            "children": [
              "IPY_MODEL_da54c9c82ced497fac378a98095c115b",
              "IPY_MODEL_6f59fc0f5414477ba5d69b83849ce1cd",
              "IPY_MODEL_1d4e1dcaadf143b8b4f038927d6a4fc0"
            ],
            "layout": "IPY_MODEL_f4f3749617644e90a85bd4261b3f54f8"
          }
        },
        "d0098433da304bc5a8f7c98701c0ad83": {
          "model_module": "@jupyter-widgets/controls",
          "model_module_version": "1.5.0",
          "model_name": "FloatProgressModel",
          "state": {
            "_dom_classes": [],
            "_model_module": "@jupyter-widgets/controls",
            "_model_module_version": "1.5.0",
            "_model_name": "FloatProgressModel",
            "_view_count": null,
            "_view_module": "@jupyter-widgets/controls",
            "_view_module_version": "1.5.0",
            "_view_name": "ProgressView",
            "bar_style": "success",
            "description": "",
            "description_tooltip": null,
            "layout": "IPY_MODEL_68b4ec41608f42ccb82a64b90e36b711",
            "max": 300,
            "min": 0,
            "orientation": "horizontal",
            "style": "IPY_MODEL_7501045a23214ad284a896ccfab64559",
            "value": 300
          }
        },
        "da54c9c82ced497fac378a98095c115b": {
          "model_module": "@jupyter-widgets/controls",
          "model_module_version": "1.5.0",
          "model_name": "HTMLModel",
          "state": {
            "_dom_classes": [],
            "_model_module": "@jupyter-widgets/controls",
            "_model_module_version": "1.5.0",
            "_model_name": "HTMLModel",
            "_view_count": null,
            "_view_module": "@jupyter-widgets/controls",
            "_view_module_version": "1.5.0",
            "_view_name": "HTMLView",
            "description": "",
            "description_tooltip": null,
            "layout": "IPY_MODEL_4a8f9ca9dd3b4d7cb4fbd1d2b86ecbb8",
            "placeholder": "​",
            "style": "IPY_MODEL_3649352cec66498b8881ab08c7c2a85d",
            "value": "Average Score = 90.08:  64%"
          }
        },
        "e6479695cabf445aa87c856ba3b29721": {
          "model_module": "@jupyter-widgets/base",
          "model_module_version": "1.2.0",
          "model_name": "LayoutModel",
          "state": {
            "_model_module": "@jupyter-widgets/base",
            "_model_module_version": "1.2.0",
            "_model_name": "LayoutModel",
            "_view_count": null,
            "_view_module": "@jupyter-widgets/base",
            "_view_module_version": "1.2.0",
            "_view_name": "LayoutView",
            "align_content": null,
            "align_items": null,
            "align_self": null,
            "border": null,
            "bottom": null,
            "display": null,
            "flex": null,
            "flex_flow": null,
            "grid_area": null,
            "grid_auto_columns": null,
            "grid_auto_flow": null,
            "grid_auto_rows": null,
            "grid_column": null,
            "grid_gap": null,
            "grid_row": null,
            "grid_template_areas": null,
            "grid_template_columns": null,
            "grid_template_rows": null,
            "height": null,
            "justify_content": null,
            "justify_items": null,
            "left": null,
            "margin": null,
            "max_height": null,
            "max_width": null,
            "min_height": null,
            "min_width": null,
            "object_fit": null,
            "object_position": null,
            "order": null,
            "overflow": null,
            "overflow_x": null,
            "overflow_y": null,
            "padding": null,
            "right": null,
            "top": null,
            "visibility": null,
            "width": null
          }
        },
        "e9d28917c3a44f20a5d993c38b0f63f4": {
          "model_module": "@jupyter-widgets/base",
          "model_module_version": "1.2.0",
          "model_name": "LayoutModel",
          "state": {
            "_model_module": "@jupyter-widgets/base",
            "_model_module_version": "1.2.0",
            "_model_name": "LayoutModel",
            "_view_count": null,
            "_view_module": "@jupyter-widgets/base",
            "_view_module_version": "1.2.0",
            "_view_name": "LayoutView",
            "align_content": null,
            "align_items": null,
            "align_self": null,
            "border": null,
            "bottom": null,
            "display": null,
            "flex": null,
            "flex_flow": null,
            "grid_area": null,
            "grid_auto_columns": null,
            "grid_auto_flow": null,
            "grid_auto_rows": null,
            "grid_column": null,
            "grid_gap": null,
            "grid_row": null,
            "grid_template_areas": null,
            "grid_template_columns": null,
            "grid_template_rows": null,
            "height": null,
            "justify_content": null,
            "justify_items": null,
            "left": null,
            "margin": null,
            "max_height": null,
            "max_width": null,
            "min_height": null,
            "min_width": null,
            "object_fit": null,
            "object_position": null,
            "order": null,
            "overflow": null,
            "overflow_x": null,
            "overflow_y": null,
            "padding": null,
            "right": null,
            "top": null,
            "visibility": null,
            "width": null
          }
        },
        "edb1b5f1897047878d7c5aa8e9fcaa03": {
          "model_module": "@jupyter-widgets/controls",
          "model_module_version": "1.5.0",
          "model_name": "HTMLModel",
          "state": {
            "_dom_classes": [],
            "_model_module": "@jupyter-widgets/controls",
            "_model_module_version": "1.5.0",
            "_model_name": "HTMLModel",
            "_view_count": null,
            "_view_module": "@jupyter-widgets/controls",
            "_view_module_version": "1.5.0",
            "_view_name": "HTMLView",
            "description": "",
            "description_tooltip": null,
            "layout": "IPY_MODEL_89155b357f294539acf094d5c69a969d",
            "placeholder": "​",
            "style": "IPY_MODEL_2523f8040f51495c8e379a0955ff1933",
            "value": " 300/300 [29:21&lt;00:00,  6.02s/it]"
          }
        },
        "f4f3749617644e90a85bd4261b3f54f8": {
          "model_module": "@jupyter-widgets/base",
          "model_module_version": "1.2.0",
          "model_name": "LayoutModel",
          "state": {
            "_model_module": "@jupyter-widgets/base",
            "_model_module_version": "1.2.0",
            "_model_name": "LayoutModel",
            "_view_count": null,
            "_view_module": "@jupyter-widgets/base",
            "_view_module_version": "1.2.0",
            "_view_name": "LayoutView",
            "align_content": null,
            "align_items": null,
            "align_self": null,
            "border": null,
            "bottom": null,
            "display": null,
            "flex": null,
            "flex_flow": null,
            "grid_area": null,
            "grid_auto_columns": null,
            "grid_auto_flow": null,
            "grid_auto_rows": null,
            "grid_column": null,
            "grid_gap": null,
            "grid_row": null,
            "grid_template_areas": null,
            "grid_template_columns": null,
            "grid_template_rows": null,
            "height": null,
            "justify_content": null,
            "justify_items": null,
            "left": null,
            "margin": null,
            "max_height": null,
            "max_width": null,
            "min_height": null,
            "min_width": null,
            "object_fit": null,
            "object_position": null,
            "order": null,
            "overflow": null,
            "overflow_x": null,
            "overflow_y": null,
            "padding": null,
            "right": null,
            "top": null,
            "visibility": null,
            "width": null
          }
        }
      }
    }
  },
  "nbformat": 4,
  "nbformat_minor": 5
}
