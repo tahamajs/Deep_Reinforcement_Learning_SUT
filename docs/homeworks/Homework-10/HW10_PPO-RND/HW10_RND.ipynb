{
  "cells": [
    {
      "cell_type": "markdown",
      "metadata": {
        "id": "G29aFzYJF4Tt"
      },
      "source": [
        "<div align=\"center\">\n",
        "    <img src=\"https://www.sharif.ir/documents/20124/0/logo-fa-IR.png/4d9b72bc-494b-ed5a-d3bb-e7dfd319aec8?t=1609608338755\" alt=\"Logo\" width=\"200\">\n",
        "    <p><b> Reinforcement Learning Course, Dr. Rohban</b></p>\n",
        "</div>\n"
      ]
    },
    {
      "cell_type": "markdown",
      "metadata": {
        "id": "ydDCIkmkF4Tv"
      },
      "source": [
        "*Full Name:*\n",
        "\n",
        "*Student Number:*"
      ]
    },
    {
      "cell_type": "markdown",
      "source": [
        "# Random Network Distillation (RND) with PPO - Homework Project\n",
        "\n",
        "  \n",
        "\n",
        "---\n",
        "\n",
        "  \n",
        "\n",
        "\n",
        "## 1. Introduction: Random Network Distillation (RND)\n",
        "\n",
        "A common way of doing exploration is to visit states with a large prediction error of some quantity, for instance, the TD error or even random functions.  \n",
        "The RND algorithm aims at encouraging exploration by asking the exploration policy to more frequently undertake transitions where the prediction error of a random neural network function is high.\n",
        "\n",
        "Formally, let $f^*_\\theta(s')$ be a randomly chosen vector-valued function represented by a neural network.  \n",
        "RND trains another neural network, $\\hat{f}_\\phi(s')$, to match the predictions of $f^*_\\theta(s')$ under the distribution of datapoints in the buffer, as shown below:\n",
        "\n",
        "$$\n",
        "\\phi^* = \\arg\\min_\\phi \\mathbb{E}_{s,a,s'\\sim\\mathcal{D}} \\left[ \\left\\| \\hat{f}_\\phi(s') - f^*_\\theta(s') \\right\\| \\right]\n",
        "$$\n",
        "\n",
        "If a transition $(s, a, s')$ is in the distribution of the data buffer, the prediction error $\\mathcal{E}_\\phi(s')$ is expected to be small.  \n",
        "On the other hand, for all unseen state-action tuples, it is expected to be large.\n",
        "\n",
        "In practice, RND uses two critics:\n",
        "- an exploitation critic $Q_R(s,a)$, which estimates returns based on the true rewards,\n",
        "- and an exploration critic $Q_E(s,a)$, which estimates returns based on the exploration bonuses.\n",
        "\n",
        "To stabilize training, prediction errors are normalized before being used.\n",
        "\n",
        "---\n",
        "\n",
        "## 2. What You Will Implement\n",
        "\n",
        "  \n",
        "\n",
        "You will implement the missing core components of Random Network Distillation (RND) combined with a Proximal Policy Optimization (PPO) agent inside the MiniGrid environment.\n",
        "\n",
        "  \n",
        "\n",
        "Specifically, you will:\n",
        "\n",
        "  \n",
        "\n",
        "- Complete the architecture of TargetModel and PredictorModel.\n",
        "\n",
        "  \n",
        "\n",
        "- Complete the initialization of weights for these models.\n",
        "\n",
        "  \n",
        "\n",
        "- Implement the intrinsic reward calculation (prediction error).\n",
        "\n",
        "  \n",
        "\n",
        "- Implement the RND loss calculation.\n",
        "\n",
        "  \n",
        "\n",
        "You will complete TODO sections inside two main files:\n",
        "\n",
        "  \n",
        "\n",
        "    Brain/brain.py\n",
        "    Brain/model.py\n",
        "\n",
        "  \n",
        "\n",
        "---\n",
        "\n",
        "  \n",
        "\n",
        "## 3. Project Structure\n",
        "\n",
        "\n",
        "```\n",
        "RND_PPO_Project/\n",
        " ├── main.py               # Main training loop and evaluation\n",
        " ├──requirements.txt       # Python dependencies               \n",
        " ├── Brain/\n",
        " │    └── brain.py         # Agent logic (policy + RND + training)\n",
        " │    └── model.py         # Model architectures (policy, predictor, target)\n",
        " ├── Common/\n",
        " │    ├── config.py        # Hyperparameters and argument parsing\n",
        " │    ├── utils.py         # Utilities (normalization, helper functions)\n",
        " │    ├── logger.py        # Tensorboard logger\n",
        " │    └── play.py          # Evaluation / Play script\n",
        "```\n",
        "\n",
        "\n",
        "\n",
        "---\n",
        "\n",
        "## 4. Modules Explanation\n",
        "\n",
        "| Module        | Description |\n",
        "|---------------|-------------|\n",
        "| `brain.py`    | **Core agent logic.** This file contains the PPO algorithm implementation and also handles the RND intrinsic reward mechanism. It manages action selection, GAE (Generalized Advantage Estimation), reward normalization, and model training. <br>➡️ You will modify this file to implement the intrinsic reward and RND loss functions. |\n",
        "| `model.py`    | **Neural network architectures.** This defines the structure of the policy network (used for action selection) and the two RND networks — Target and Predictor. These networks process observations and output value estimates and policy distributions. <br>➡️ You will define the structure of the `TargetModel` and `PredictorModel` classes here and implement proper initialization. |\n",
        "| `utils.py`    | **Support utilities.** This includes helper functions like setting random seeds for reproducibility, maintaining running mean and variance for normalization, and a few decorators. It helps the rest of the codebase stay clean and modular. |\n",
        "| `config.py`   | **Experiment settings.** It defines all training hyperparameters (learning rate, batch size, gamma, etc.) and parses command-line flags such as `--train_from_scratch` or `--do_test`. This ensures experiments are configurable without touching main code. |\n",
        "| `logger.py`   | **Logging training metrics.** Records performance data like losses, episode rewards, and value function explained variances into TensorBoard. This helps you visually inspect whether the agent is learning or not. |\n",
        "| `play.py`     | **Evaluation module.** This file runs a trained agent in the environment without further learning. It resets the environment, feeds observations through the trained policy, and executes actions until the episode terminates. |\n",
        "| `runner.py`     | **Parallel environment interaction.** Runs a Gym environment in a separate process using torch.multiprocessing. It communicates with the main process to exchange observations and actions, enabling parallel experience collection. Supports episode reset and optional rendering. |\n",
        "| `main.py`     | **Project entry point.** Orchestrates the full experiment — sets up environment, models, logger, and executes training or testing depending on the flag. This is where everything comes together. |\n",
        "\n",
        "---\n",
        "\n",
        "## 5. TODO Parts (Your Tasks)\n",
        "\n",
        "You must complete the following parts:\n",
        "\n",
        "| File | TODO Description |\n",
        "| :--- | :--- |\n",
        "| `Brain/model.py` | Implement the architecture of `TargetModel` and `PredictorModel`. |\n",
        "| `Brain/model.py` | Implement `_init_weights()` method for proper initialization. |\n",
        "| `Brain/brain.py` | Implement `calculate_int_rewards()` to compute intrinsic rewards. |\n",
        "| `Brain/brain.py` | Implement `calculate_rnd_loss()` to compute predictor training loss. |\n",
        "\n",
        "\n",
        "---"
      ],
      "metadata": {
        "id": "xBaiqMVHM2bP"
      }
    },
    {
      "cell_type": "markdown",
      "metadata": {
        "id": "JNM0OHRNjy62"
      },
      "source": [
        "\n",
        "# Random Network Distillation\n",
        "\n",
        "## Overview\n",
        "\n",
        "RND (Random Network Distillation) was first proposed in [Exploration by Random Network Distillation](https://arxiv.org/abs/1810.12894), which introduces an exploration bonus for deep reinforcement learning methods that is easy to implement and adds minimal overhead to the computation performed. The exploration bonus is the error of a neural network predicting features of the observations given by a fixed randomly initialized neural network. RND claims that it is the first method that achieves better than average human performance on Montezuma’s Revenge without using demonstrations or having access to the underlying state of the game.\n",
        "\n",
        "## Quick Facts\n",
        "\n",
        "1. The insight behind exploration approaches is that we first establish a method to measure the **novelty of states**, namely, how well we know this state, or the number of times we have visited a state similar to it. Then we assign an exploration reward in proportional to the novelty measure of the state. If the visited state is more novel, or say the state is explored very few times, the agent will get a bigger intrinsic reward. On the contrary, if the agent is more familiar with this state, or say, the state has been explored many times, the agent will get a smaller intrinsic reward on this state.\n",
        "\n",
        "2. RND is a **prediction-error-based** exploration approach that can be applied in non-tabular cases. The main idea of prediction-error-based approaches is that defining the intrinsic reward as the prediction error for a problem related to the agent’s transitions, such as learning forward dynamics model, learning inverse dynamics model, or even a randomly generated problem, which is the case in RND algorithm.\n",
        "\n",
        "3. RND involves **two neural networks**: a fixed and randomly initialized target network which sets the prediction problem, and a predictor network trained on data collected by the agent.\n",
        "\n",
        "4. In RND paper, the underlying base RL algorithm is off-policy PPO. Generally, RND intrinsic reward generation model can be combined with many different RL algorithms such as DDPG, TD3, **SAC** conveniently.\n",
        "\n",
        "## Key Equations or Key Graphs\n",
        "\n",
        "The following two graphs are from OpenAI’s blog. The overall sketch of RND is as follows:\n",
        "\n",
        "### Random Network Distillation\n",
        "\n",
        "<div style=\"text-align: center; margin: 20px 0;\">\n",
        "    <img src=\"https://opendilab.github.io/DI-engine/_images/rnd.png\"\n",
        "         alt=\"RND Architecture Diagram\"\n",
        "         style=\"max-width: 70%; border: 1px solid #ddd; box-shadow: 0 4px 8px rgba(0,0,0,0.1);\">\n",
        "    <p style=\"font-style: italic; color: #666;\">Random Network Distillation (RND) Architecture</p>\n",
        "</div>\n",
        "\n",
        "The overall sketch of next_sate_prediction exploration method is as follows:\n",
        "\n",
        "\n",
        "<div style=\"text-align: center; margin: 20px 0;\">\n",
        "    <img src=\"https://opendilab.github.io/DI-engine/_images/rnd.png\"\n",
        "         alt=\"RND Architecture Diagram\"\n",
        "         style=\"max-width: 70%; border: 1px solid #ddd; box-shadow: 0 4px 8px rgba(0,0,0,0.1);\">\n",
        "    <p style=\"font-style: italic; color: #666;\">Random Network Distillation (RND) Architecture</p>\n",
        "</div>\n",
        "\n",
        "\n",
        "\n",
        "\n",
        "## Prediction Error Factors in RND\n",
        "\n",
        "In the RND paper, the authors point out that prediction errors can be attributed to the following factors:\n",
        "\n",
        "1. **Amount of training data**  \n",
        "   Prediction error is high where few similar examples were seen by the predictor.\n",
        "\n",
        "2. **Stochasticity**  \n",
        "   Prediction error is high because the target function is stochastic. Stochastic transitions are a source of such error for forward dynamics prediction.\n",
        "\n",
        "3. **Model misspecification**  \n",
        "   Prediction error is high because information necessary for the prediction is missing, or the model class of predictors is too limited to fit the complexity of the target function.\n",
        "\n",
        "---\n",
        "\n",
        "\n",
        "\n",
        "## Implementation Details That Matter\n",
        "\n",
        "### 1. Intrinsic Reward Normalization and Weight Factors\n",
        "- **Normalization Method**: Min-max normalization  \n",
        "  `normalized_reward = (reward - batch_min) / (batch_max - batch_min)`  \n",
        "  (Scales intrinsic reward to [0,1] range)\n",
        "  \n",
        "- **Weight Factors**:\n",
        "  - For MiniGrid: Last non-zero positive reward × 1000\n",
        "  - General case: Can use max game length as weight factor\n",
        "  - Critical for balancing exploration vs exploitation\n",
        "  - Experiments show proper weighting is essential for good performance in MiniGrid environments\n",
        "\n",
        "### 2. Observation Normalization\n",
        "- **Process**:\n",
        "  1. Subtract running mean\n",
        "  2. Divide by running standard deviation\n",
        "  3. Clip values to [-5, 5] range\n",
        "- **Initialization**:\n",
        "  - Use random agent to collect normalization parameters\n",
        "  - Small number of steps before training begins\n",
        "- **Application**:\n",
        "  - Same normalization for predictor and target networks\n",
        "  - Different normalization for policy network\n",
        "\n",
        "### 3. Non-Episodic Intrinsic Reward and Two Value Heads\n",
        "- **Non-Episodic Setting**:\n",
        "  - Returns continue across episodes (\"game over\" doesn't reset)\n",
        "  - Leads to more exploration without extrinsic rewards\n",
        "- **Dual Value Heads**:\n",
        "  - Recommended for combining episodic/non-episodic rewards\n",
        "- **Discount Factors**:\n",
        "  - Extrinsic rewards: γ = 0.999 (higher for better performance)\n",
        "  - Intrinsic rewards: γ = 0.99 (lower to maintain exploration)\n",
        "\n"
      ]
    },
    {
      "cell_type": "markdown",
      "metadata": {
        "id": "ho_lAcI7F4Tv"
      },
      "source": [
        "# 1. Setup Code\n",
        "Before getting started we need to run some boilerplate code to set up our environment. You'll need to rerun this setup code each time you start the notebook.\n",
        "\n",
        "First, run this cell load the [autoreload](https://ipython.readthedocs.io/en/stable/config/extensions/autoreload.html?highlight=autoreload) extension. This allows us to edit `.py` source files, and re-import them into the notebook for a seamless editing and debugging experience."
      ]
    },
    {
      "cell_type": "code",
      "execution_count": null,
      "metadata": {
        "id": "UTx3_X1zF4Tw"
      },
      "outputs": [],
      "source": [
        "%load_ext autoreload\n",
        "%autoreload 2"
      ]
    },
    {
      "cell_type": "markdown",
      "metadata": {
        "id": "fkR7h2lPF4Tw"
      },
      "source": [
        "#### In the following cell you are going to direct to your gooledrive if you are using GooleColab which is preferable"
      ]
    },
    {
      "cell_type": "code",
      "execution_count": null,
      "metadata": {
        "id": "OY7wnz1YGS5z"
      },
      "outputs": [],
      "source": [
        "# ----------------------------\n",
        "# . Moount Google Drive\n",
        "# ----------------------------\n",
        "from google.colab import drive\n",
        "drive.mount('/content/drive')\n",
        "\n",
        "# ----------------------------\n",
        "# 2. Go the Project directory\n",
        "# ----------------------------\n",
        "import os\n",
        "\n",
        "# TODO: Fill in the Google Drive path where you uploaded the assignment\n",
        "# Example: If you create a 2020FA folder and put all the files under A1 folder, then '2020FA/A1'\n",
        "# GOOGLE_DRIVE_PATH_AFTER_MYDRIVE = '2020FA/A1'\n",
        "GOOGLE_DRIVE_PATH_AFTER_MYDRIVE =\n",
        "GOOGLE_DRIVE_PATH = os.path.join('drive', 'My Drive', GOOGLE_DRIVE_PATH_AFTER_MYDRIVE)\n",
        "print(os.listdir(GOOGLE_DRIVE_PATH))"
      ]
    },
    {
      "cell_type": "markdown",
      "metadata": {
        "id": "rA-iCbPSj5rW"
      },
      "source": [
        "\n",
        "# 2. Install dependencies\n"
      ]
    },
    {
      "cell_type": "code",
      "execution_count": null,
      "metadata": {
        "id": "Cj6IeGRij9D2"
      },
      "outputs": [],
      "source": [
        "!pip install -r requirements.txt"
      ]
    },
    {
      "cell_type": "markdown",
      "source": [
        "\n",
        "# 3. Student Instructions (Reminder)\n",
        "\n",
        "> Please open and edit the following files:\n",
        "- `Brain/brain.py`\n",
        "- `Brain/model.py`\n",
        "\n",
        "> Specifically, look for `TODO` markers in the code and complete the necessary parts.\n",
        "\n",
        "After you have filled in the missing parts, you can proceed to train the agent.\n",
        "\n",
        "\n"
      ],
      "metadata": {
        "id": "zKK1I8xkQ-gX"
      }
    },
    {
      "cell_type": "markdown",
      "source": [
        "# 4. Train the agent from scratch:\n",
        "\n",
        "Now that you've completed the TODOs, let's train your agent!\n",
        "This will launch the main script with training from scratch."
      ],
      "metadata": {
        "id": "4F01w4apP5oo"
      }
    },
    {
      "cell_type": "code",
      "execution_count": null,
      "metadata": {
        "id": "42IgzWrukAjM"
      },
      "outputs": [],
      "source": [
        "!python main.py --train_from_scratch"
      ]
    },
    {
      "cell_type": "markdown",
      "metadata": {
        "id": "As19xqS3kZP4"
      },
      "source": [
        "\n",
        "# 5. Visualize Logs\n",
        "launch TensorBoard to monitor your training logs.\n",
        "\n"
      ]
    },
    {
      "cell_type": "code",
      "execution_count": null,
      "metadata": {
        "id": "riwgtJAUkh56"
      },
      "outputs": [],
      "source": [
        "# Start Tensorboard\n",
        "%load_ext tensorboard\n",
        "%tensorboard --logdir Logs"
      ]
    },
    {
      "cell_type": "markdown",
      "metadata": {
        "id": "5nBRTZdHkknG"
      },
      "source": [
        "\n",
        "# End of Notebook\n",
        "# Good Luck :)"
      ]
    }
  ],
  "metadata": {
    "colab": {
      "provenance": []
    },
    "kernelspec": {
      "display_name": "Python 3",
      "name": "python3"
    },
    "language_info": {
      "name": "python"
    }
  },
  "nbformat": 4,
  "nbformat_minor": 0
}