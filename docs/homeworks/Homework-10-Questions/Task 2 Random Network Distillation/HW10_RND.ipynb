{
  "cells": [
    {
      "cell_type": "markdown",
      "metadata": {
        "id": "G29aFzYJF4Tt"
      },
      "source": [
        "<div align=\"center\">\n",
        "    <img src=\"https://www.sharif.ir/documents/20124/0/logo-fa-IR.png/4d9b72bc-494b-ed5a-d3bb-e7dfd319aec8?t=1609608338755\" alt=\"Logo\" width=\"200\">\n",
        "    <p><b> Reinforcement Learning Course, Dr. Rohban</b></p>\n",
        "</div>\n"
      ]
    },
    {
      "cell_type": "markdown",
      "metadata": {
        "id": "ydDCIkmkF4Tv"
      },
      "source": [
        "*Full Name:*\n",
        "\n",
        "*Student Number:*"
      ]
    },
    {
      "cell_type": "markdown",
      "source": [
        "# Random Network Distillation (RND) with PPO - Homework Project\n",
        "\n",
        "  \n",
        "\n",
        "---\n",
        "\n",
        "  \n",
        "\n",
        "\n",
        "## 1. Introduction: Random Network Distillation (RND)\n",
        "\n",
        "A common way of doing exploration is to visit states with a large prediction error of some quantity, for instance, the TD error or even random functions.  \n",
        "The RND algorithm ([Exploration by Random Network Distillation](https://arxiv.org/abs/1810.12894)) aims at encouraging exploration by asking the exploration policy to more frequently undertake transitions where the prediction error of a random neural network function is high.\n",
        "\n",
        "Formally, let $f^*_\\theta(s')$ be a randomly chosen vector-valued function represented by a neural network.  \n",
        "RND trains another neural network, $\\hat{f}_\\phi(s')$, to match the predictions of $f^*_\\theta(s')$ under the distribution of datapoints in the buffer, as shown below:\n",
        "\n",
        "$$\n",
        "\\phi^* = \\arg\\min_\\phi \\mathbb{E}_{s,a,s'\\sim\\mathcal{D}} \\left[ \\left\\| \\hat{f}_\\phi(s') - f^*_\\theta(s') \\right\\| \\right]\n",
        "$$\n",
        "\n",
        "If a transition $(s, a, s')$ is in the distribution of the data buffer, the prediction error $\\mathcal{E}_\\phi(s')$ is expected to be small.  \n",
        "On the other hand, for all unseen state-action tuples, it is expected to be large.\n",
        "\n",
        "In practice, RND uses two critics:\n",
        "- an exploitation critic $Q_R(s,a)$, which estimates returns based on the true rewards,\n",
        "- and an exploration critic $Q_E(s,a)$, which estimates returns based on the exploration bonuses.\n",
        "\n",
        "To stabilize training, prediction errors are normalized before being used.\n",
        "\n",
        "---\n",
        "\n",
        "## 2. What You Will Implement\n",
        "\n",
        "  \n",
        "\n",
        "You will implement the missing core components of Random Network Distillation (RND) combined with a Proximal Policy Optimization (PPO) agent inside the MiniGrid environment.\n",
        "\n",
        "  \n",
        "\n",
        "Specifically, you will:\n",
        "\n",
        "  \n",
        "\n",
        "- Complete the architecture of TargetModel and PredictorModel.\n",
        "\n",
        "  \n",
        "\n",
        "- Complete the initialization of weights for these models.\n",
        "\n",
        "  \n",
        "\n",
        "- Implement the intrinsic reward calculation (prediction error).\n",
        "\n",
        "  \n",
        "\n",
        "- Implement the RND loss calculation.\n",
        "\n",
        "  \n",
        "\n",
        "You will complete TODO sections inside two main files:\n",
        "\n",
        "  \n",
        "\n",
        "    Core/ppo_rnd_agent.py\n",
        "    Core/model.py\n",
        "\n",
        "  \n",
        "\n",
        "---\n",
        "\n",
        "  \n",
        "\n",
        "## 3. Project Structure\n",
        "\n",
        "\n",
        "```\n",
        "RND_PPO_Project/\n",
        " ├── main.py               # Main training loop and evaluation\n",
        " ├──requirements.txt       # Python dependencies               \n",
        " ├── Core/\n",
        " │    └── ppo_rnd_agent.py         # Agent logic (policy + RND + training)\n",
        " │    └── model.py         # Model architectures (policy, predictor, target)\n",
        " ├── Common/\n",
        " │    ├── config.py        # Hyperparameters and argument parsing\n",
        " │    ├── utils.py         # Utilities (normalization, helper functions)\n",
        " │    ├── logger.py        # Tensorboard logger\n",
        " │    └── play.py          # Evaluation / Play script\n",
        "```\n",
        "\n",
        "\n",
        "\n",
        "---\n",
        "\n",
        "## 4. Modules Explanation\n",
        "\n",
        "| Module        | Description |\n",
        "|---------------|-------------|\n",
        "| `ppo_rnd_agent.py`    | **Core agent logic.** This file contains the PPO algorithm implementation and also handles the RND intrinsic reward mechanism. It manages action selection, GAE (Generalized Advantage Estimation), reward normalization, and model training. <br>➡️ You will modify this file to implement the intrinsic reward and RND loss functions. |\n",
        "| `model.py`    | **Neural network architectures.** This defines the structure of the policy network (used for action selection) and the two RND networks — Target and Predictor. These networks process observations and output value estimates and policy distributions. <br>➡️ You will define the structure of the `TargetModel` and `PredictorModel` classes here and implement proper initialization. |\n",
        "| `utils.py`    | **Support utilities.** This includes helper functions like setting random seeds for reproducibility, maintaining running mean and variance for normalization, and a few decorators. It helps the rest of the codebase stay clean and modular. |\n",
        "| `config.py`   | **Experiment settings.** It defines all training hyperparameters (learning rate, batch size, gamma, etc.) and parses command-line flags such as `--train_from_scratch` or `--do_test`. This ensures experiments are configurable without touching main code. |\n",
        "| `logger.py`   | **Logging training metrics.** Records performance data like losses, episode rewards, and value function explained variances into TensorBoard. This helps you visually inspect whether the agent is learning or not. |\n",
        "| `play.py`     | **Evaluation module.** This file runs a trained agent in the environment without further learning. It resets the environment, feeds observations through the trained policy, and executes actions until the episode terminates. |\n",
        "| `runner.py`     | **Parallel environment interaction.** Runs a Gym environment in a separate process using torch.multiprocessing. It communicates with the main process to exchange observations and actions, enabling parallel experience collection. Supports episode reset and optional rendering. |\n",
        "| `main.py`     | **Project entry point.** Orchestrates the full experiment — sets up environment, models, logger, and executes training or testing depending on the flag. This is where everything comes together. |\n",
        "\n",
        "---\n",
        "\n",
        "## 5. TODO Parts (Your Tasks)\n",
        "\n",
        "You must complete the following parts:\n",
        "\n",
        "| File | TODO Description |\n",
        "| :--- | :--- |\n",
        "| `Core/model.py` | Implement the architecture of `TargetModel` and `PredictorModel`. |\n",
        "| `Core/model.py` | Implement `_init_weights()` method for proper initialization. |\n",
        "| `Core/ppo_rnd_agent.py` | Implement `calculate_int_rewards()` to compute intrinsic rewards. |\n",
        "| `Core/ppo_rnd_agent.py` | Implement `calculate_rnd_loss()` to compute predictor training loss. |\n",
        "\n",
        "\n",
        "---"
      ],
      "metadata": {
        "id": "xBaiqMVHM2bP"
      }
    },
    {
      "cell_type": "markdown",
      "metadata": {
        "id": "ho_lAcI7F4Tv"
      },
      "source": [
        "# Setup Code\n",
        "Before getting started we need to run some boilerplate code to set up our environment. You'll need to rerun this setup code each time you start the notebook.\n",
        "\n",
        "First, run this cell load the [autoreload](https://ipython.readthedocs.io/en/stable/config/extensions/autoreload.html?highlight=autoreload) extension. This allows us to edit `.py` source files, and re-import them into the notebook for a seamless editing and debugging experience."
      ]
    },
    {
      "cell_type": "code",
      "execution_count": null,
      "metadata": {
        "id": "UTx3_X1zF4Tw"
      },
      "outputs": [],
      "source": [
        "%load_ext autoreload\n",
        "%autoreload 2"
      ]
    },
    {
      "cell_type": "markdown",
      "metadata": {
        "id": "fkR7h2lPF4Tw"
      },
      "source": [
        "#### In the following cell you are going to direct to your gooledrive if you are using GooleColab which is preferable"
      ]
    },
    {
      "cell_type": "code",
      "execution_count": null,
      "metadata": {
        "id": "OY7wnz1YGS5z"
      },
      "outputs": [],
      "source": [
        "# ----------------------------\n",
        "# . Moount Google Drive\n",
        "# ----------------------------\n",
        "from google.colab import drive\n",
        "drive.mount('/content/drive')\n",
        "\n",
        "# ----------------------------\n",
        "# 2. Go the Project directory\n",
        "# ----------------------------\n",
        "import os\n",
        "\n",
        "# TODO: Fill in the Google Drive path where you uploaded the assignment\n",
        "# Example: If you create a 2020FA folder and put all the files under A1 folder, then '2020FA/A1'\n",
        "# GOOGLE_DRIVE_PATH_AFTER_MYDRIVE = '2020FA/A1'\n",
        "GOOGLE_DRIVE_PATH_AFTER_MYDRIVE =\n",
        "GOOGLE_DRIVE_PATH = os.path.join('drive', 'My Drive', GOOGLE_DRIVE_PATH_AFTER_MYDRIVE)\n",
        "print(os.listdir(GOOGLE_DRIVE_PATH))"
      ]
    },
    {
      "cell_type": "markdown",
      "metadata": {
        "id": "rA-iCbPSj5rW"
      },
      "source": [
        "\n",
        "## 1. Install dependencies\n"
      ]
    },
    {
      "cell_type": "code",
      "execution_count": null,
      "metadata": {
        "id": "Cj6IeGRij9D2"
      },
      "outputs": [],
      "source": [
        "!pip install -r requirements.txt"
      ]
    },
    {
      "cell_type": "markdown",
      "source": [
        "\n",
        "## 2. Student Instructions (Reminder)\n",
        "\n",
        "> Please open and edit the following files:\n",
        "- `Core/ppo_rnd_agent.py`\n",
        "- `Core/model.py`\n",
        "\n",
        "> Specifically, look for `TODO` markers in the code and complete the necessary parts.\n",
        "\n",
        "After you have filled in the missing parts, you can proceed to train the agent.\n",
        "\n",
        "\n"
      ],
      "metadata": {
        "id": "zKK1I8xkQ-gX"
      }
    },
    {
      "cell_type": "markdown",
      "source": [
        "## 3. Train the agent from scratch:\n",
        "\n",
        "Now that you've completed the TODOs, let's train your agent!\n",
        "This will launch the main script with training from scratch."
      ],
      "metadata": {
        "id": "4F01w4apP5oo"
      }
    },
    {
      "cell_type": "code",
      "execution_count": null,
      "metadata": {
        "id": "42IgzWrukAjM"
      },
      "outputs": [],
      "source": [
        "!python main.py --train_from_scratch"
      ]
    },
    {
      "cell_type": "markdown",
      "metadata": {
        "id": "As19xqS3kZP4"
      },
      "source": [
        "\n",
        "## 4. Visualize Logs\n",
        "launch TensorBoard to monitor your training logs.\n",
        "\n"
      ]
    },
    {
      "cell_type": "code",
      "execution_count": null,
      "metadata": {
        "id": "riwgtJAUkh56"
      },
      "outputs": [],
      "source": [
        "# Start Tensorboard\n",
        "%load_ext tensorboard\n",
        "%tensorboard --logdir Logs"
      ]
    },
    {
      "cell_type": "markdown",
      "metadata": {
        "id": "5nBRTZdHkknG"
      },
      "source": [
        "\n",
        "# End of Notebook\n",
        "# Good Luck :)"
      ]
    }
  ],
  "metadata": {
    "colab": {
      "provenance": []
    },
    "kernelspec": {
      "display_name": "Python 3",
      "name": "python3"
    },
    "language_info": {
      "name": "python"
    }
  },
  "nbformat": 4,
  "nbformat_minor": 0
}