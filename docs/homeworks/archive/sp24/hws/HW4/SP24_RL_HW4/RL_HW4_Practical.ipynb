{
  "cells": [
    {
      "cell_type": "markdown",
      "metadata": {
        "id": "r9HxtwHbk6Pc"
      },
      "source": [
        "# Offline RL (80 Points)\n",
        "\n",
        "> Name:\n",
        "\n",
        "> SID:\n",
        "\n"
      ]
    },
    {
      "cell_type": "markdown",
      "metadata": {
        "id": "1PJUxRV4MIod"
      },
      "source": [
        "\n",
        "In this notebook, we will implement the Soft Actor Critic (SAC) algorithm on the CartPole environment in both online and offline settings. The SAC framework focuses on maximizing the expected reward while also maximizing entropy, meaning the actor aims to succeed at the task while maintaining a high level of randomness in its actions. This approach explicitly encourages exploration by seeking a high entropy in the policy.\n",
        "\n",
        "In the second part, we will use the policy learned in the first part to collect a dataset of expert trajectories and perform behavioral cloning.\n",
        "\n",
        "*The existing results are the baseline for the quality of your implementation.*"
      ]
    },
    {
      "cell_type": "code",
      "execution_count": 1,
      "metadata": {
        "id": "UC-BecdPmdb3"
      },
      "outputs": [],
      "source": [
        "import torch\n",
        "import torch.nn as nn\n",
        "import torch.nn.functional as F\n",
        "from torch.distributions import Normal\n",
        "import torch.optim as optim\n",
        "import numpy as np\n",
        "import random\n",
        "import gym\n",
        "import matplotlib.pyplot as plt\n",
        "import imageio\n",
        "from tqdm import tqdm\n",
        "\n",
        "\n",
        "seed = 42\n",
        "random.seed(seed)\n",
        "np.random.seed(seed)\n",
        "torch.manual_seed(seed)\n",
        "torch.cuda.manual_seed(seed)\n",
        "torch.backends.cudnn.deterministic = True"
      ]
    },
    {
      "cell_type": "code",
      "execution_count": null,
      "metadata": {
        "id": "GSpSSRB-zCea"
      },
      "outputs": [],
      "source": [
        "from IPython.display import HTML\n",
        "from base64 import b64encode\n",
        "\n",
        "def show_video(path):\n",
        "    mp4 = open(path, 'rb').read()\n",
        "    data_url = \"data:video/mp4;base64,\" + b64encode(mp4).decode()\n",
        "    return HTML(\"\"\"\n",
        "    <video width=400 controls>\n",
        "          <source src=\"%s\" type=\"video/mp4\">\n",
        "    </video>\n",
        "    \"\"\" % data_url)"
      ]
    },
    {
      "cell_type": "markdown",
      "metadata": {
        "id": "_whWTLZejkm3"
      },
      "source": [
        "## Network Structure (10 points)\n",
        "For constructing SAC agent, we use objects of feedforward neural networks with 3 layers. Complete the code below."
      ]
    },
    {
      "cell_type": "code",
      "execution_count": 3,
      "metadata": {
        "id": "4pxOyt0xh4nN"
      },
      "outputs": [],
      "source": [
        "class Network(torch.nn.Module):\n",
        "\n",
        "    def __init__(self, input_dimension, output_dimension, output_activation=torch.nn.Identity()):\n",
        "        super(Network, self).__init__()\n",
        "        ##########################################################\n",
        "        # TODO\n",
        "        # Define your network layers\n",
        "        ##########################################################\n",
        "\n",
        "    def forward(self, inpt):\n",
        "        output = None\n",
        "        ##########################################################\n",
        "        # TODO\n",
        "        # Calculate the output\n",
        "        ##########################################################\n",
        "\n",
        "        return output"
      ]
    },
    {
      "cell_type": "markdown",
      "metadata": {
        "id": "DToSGdmDka1u"
      },
      "source": [
        "## Replay Buffer\n",
        "\n",
        "A SAC agent requires a replay buffer to sample previously visited states. You can utilize the implemented code below to set up this replay buffer."
      ]
    },
    {
      "cell_type": "code",
      "execution_count": 4,
      "metadata": {
        "id": "UC7jTwJXh8wl"
      },
      "outputs": [],
      "source": [
        "import numpy as np\n",
        "\n",
        "\n",
        "class ReplayBuffer:\n",
        "\n",
        "    def __init__(self, environment, capacity=500000):\n",
        "        transition_type_str = self.get_transition_type_str(environment)\n",
        "        self.buffer = np.zeros(capacity, dtype=transition_type_str)\n",
        "        self.weights = np.zeros(capacity)\n",
        "        self.head_idx = 0\n",
        "        self.count = 0\n",
        "        self.capacity = capacity\n",
        "        self.max_weight = 1e-2\n",
        "        self.delta = 1e-4\n",
        "        self.indices = None\n",
        "        self.mirror_index = np.random.permutation(range(self.buffer.shape[0]))\n",
        "\n",
        "    def get_transition_type_str(self, environment):\n",
        "        state_dim = environment.observation_space.shape[0]\n",
        "        state_dim_str = '' if state_dim == () else str(state_dim)\n",
        "        state_type_str = environment.observation_space.sample().dtype.name\n",
        "        action_dim = environment.action_space.shape\n",
        "        action_dim_str = '' if action_dim == () else str(action_dim)\n",
        "        action_type_str = environment.action_space.sample().__class__.__name__\n",
        "\n",
        "        transition_type_str = '{0}{1}, {2}{3}, float32, {0}{1}, bool'.format(state_dim_str, state_type_str,\n",
        "                                                                             action_dim_str, action_type_str)\n",
        "\n",
        "        return transition_type_str\n",
        "\n",
        "    def add_transition(self, transition):\n",
        "        self.buffer[self.head_idx] = transition\n",
        "        self.weights[self.head_idx] = self.max_weight\n",
        "\n",
        "        self.head_idx = (self.head_idx + 1) % self.capacity\n",
        "        self.count = min(self.count + 1, self.capacity)\n",
        "\n",
        "    def sample_minibatch(self, size=100, batch_deterministic_start=None):\n",
        "        set_weights = self.weights[:self.count] + self.delta\n",
        "        probabilities = set_weights / sum(set_weights)\n",
        "        if batch_deterministic_start is None:\n",
        "            self.indices = np.random.choice(range(self.count), size, p=probabilities, replace=False)\n",
        "        else:\n",
        "            self.indices = self.mirror_index[batch_deterministic_start:batch_deterministic_start+size]\n",
        "        return self.buffer[self.indices]\n",
        "\n",
        "    def update_weights(self, prediction_errors):\n",
        "        max_error = max(prediction_errors)\n",
        "        self.max_weight = max(self.max_weight, max_error)\n",
        "        self.weights[self.indices] = prediction_errors\n",
        "\n",
        "    def get_size(self):\n",
        "        return self.count"
      ]
    },
    {
      "cell_type": "markdown",
      "metadata": {
        "id": "5wOrt_EmfFFD"
      },
      "source": [
        "## SAC Agent (50 points)"
      ]
    },
    {
      "cell_type": "markdown",
      "metadata": {
        "id": "ScEk94Ubb01W"
      },
      "source": [
        "Now complete the following class. You can use the auxiliary methods provided in the class."
      ]
    },
    {
      "cell_type": "code",
      "execution_count": 5,
      "metadata": {
        "id": "A8bEgUc2hmet"
      },
      "outputs": [],
      "source": [
        "class SACAgent:\n",
        "    def __init__(self, environment, replay_buffer=None, offline=False, learning_rate=3e-4, discount=0.99, buffer_batch_size=100, alpha_init=1, interpolation_factor=0.01):\n",
        "        self.environment = environment\n",
        "        self.state_dim = self.environment.observation_space.shape[0]\n",
        "        self.action_dim = self.environment.action_space.n\n",
        "\n",
        "        self.alpha_init = alpha_init\n",
        "        self.learning_rate = learning_rate\n",
        "        self.discount = discount\n",
        "        self.buffer_batch_size = buffer_batch_size\n",
        "        self.interpolation_factor = interpolation_factor\n",
        "\n",
        "        self.replay_buffer = ReplayBuffer(self.environment) if replay_buffer is None else replay_buffer\n",
        "        self.offline = offline\n",
        "\n",
        "        ##########################################################\n",
        "        # TODO\n",
        "        # Define critics usig your implemented feed forward netwrok\n",
        "        ##########################################################\n",
        "        self.critic_local = None\n",
        "        self.critic_local2 = None\n",
        "        self.critic_optimiser = None\n",
        "        self.critic_optimiser2 = None\n",
        "        self.critic_target = None\n",
        "        self.critic_target2 = None\n",
        "        ##########################################################\n",
        "\n",
        "        self.soft_update_target_networks(tau=1.)\n",
        "\n",
        "        ##########################################################\n",
        "        # TODO\n",
        "        # Define the actor\n",
        "        # Define the actor optimizer\n",
        "        ##########################################################\n",
        "        self.actor_local = None\n",
        "        self.actor_optimiser  = None\n",
        "        ##########################################################\n",
        "        self.target_entropy = 0.98 * -np.log(1 / self.environment.action_space.n)\n",
        "        self.log_alpha = torch.tensor(np.log(self.alpha_init), requires_grad=True)\n",
        "        self.alpha = self.log_alpha\n",
        "        self.alpha_optimiser = torch.optim.Adam([self.log_alpha], lr=self.learning_rate)\n",
        "\n",
        "    def get_next_action(self, state, evaluation_episode=False):\n",
        "        if evaluation_episode:\n",
        "            discrete_action = self.get_action_deterministically(state)\n",
        "        else:\n",
        "            discrete_action = self.get_action_nondeterministically(state)\n",
        "        return discrete_action\n",
        "\n",
        "    def get_action_nondeterministically(self, state):\n",
        "        action_probabilities = self.get_action_probabilities(state)\n",
        "        discrete_action = np.random.choice(range(self.action_dim), p=action_probabilities)\n",
        "        return discrete_action\n",
        "\n",
        "    def get_action_deterministically(self, state):\n",
        "        action_probabilities = self.get_action_probabilities(state)\n",
        "        discrete_action = np.argmax(action_probabilities)\n",
        "        return discrete_action\n",
        "\n",
        "    def critic_loss(self, states_tensor, actions_tensor, rewards_tensor,\n",
        "                    next_states_tensor, done_tensor):\n",
        "        ##########################################################\n",
        "        # TODO\n",
        "        # You are going to calculate critic losses in this method\n",
        "        ##########################################################\n",
        "\n",
        "        return critic_loss, critic2_loss\n",
        "        ##########################################################\n",
        "\n",
        "    def actor_loss(self, states_tensor, actions_tensor):\n",
        "        ##########################################################\n",
        "        # TODO\n",
        "        # Implement the actor loss\n",
        "        ##########################################################\n",
        "\n",
        "        return actor_loss, log_action_probabilities\n",
        "        ##########################################################\n",
        "\n",
        "    def train_on_transition(self, state, discrete_action, next_state, reward, done):\n",
        "        transition = (state, discrete_action, reward, next_state, done)\n",
        "        self.train_networks(transition)\n",
        "\n",
        "    def train_networks(self, transition=None, batch_deterministic_start=None):\n",
        "        ##########################################################\n",
        "        # TODO\n",
        "        # Set all the gradients stored in the optimizers to zero\n",
        "        # Add the new transition to the replay buffer for online case\n",
        "        ##########################################################\n",
        "        \n",
        "        if self.replay_buffer.get_size() >= self.buffer_batch_size:\n",
        "            minibatch = self.replay_buffer.sample_minibatch(self.buffer_batch_size, batch_deterministic_start=batch_deterministic_start)\n",
        "            minibatch_separated = list(map(list, zip(*minibatch)))\n",
        "\n",
        "            states_tensor = torch.tensor(np.array(minibatch_separated[0]))\n",
        "            actions_tensor = torch.tensor(np.array(minibatch_separated[1]))\n",
        "            rewards_tensor = torch.tensor(np.array(minibatch_separated[2])).float()\n",
        "            next_states_tensor = torch.tensor(np.array(minibatch_separated[3]))\n",
        "            done_tensor = torch.tensor(np.array(minibatch_separated[4]))\n",
        "\n",
        "            ##########################################################\n",
        "            # TODO\n",
        "            # compute the critic loss and perform the backpropagation,\n",
        "            # then compute the actor loss and backpropagate the gradient on it\n",
        "            # You also need to update \\alpha\n",
        "            ##########################################################\n",
        "\n",
        "            self.soft_update_target_networks(self.interpolation_factors)\n",
        "\n",
        "    def temperature_loss(self, log_action_probabilities):\n",
        "        alpha_loss = -(self.log_alpha * (log_action_probabilities + self.target_entropy).detach()).mean()\n",
        "        return alpha_loss\n",
        "\n",
        "    def get_action_info(self, states_tensor):\n",
        "        action_probabilities = self.actor_local.forward(states_tensor)\n",
        "        z = action_probabilities == 0.0\n",
        "        z = z.float() * 1e-8\n",
        "        log_action_probabilities = torch.log(action_probabilities + z)\n",
        "        return action_probabilities, log_action_probabilities\n",
        "\n",
        "    def get_action_probabilities(self, state):\n",
        "        state_tensor = torch.tensor(state, dtype=torch.float32).unsqueeze(0)\n",
        "        action_probabilities = self.actor_local.forward(state_tensor)\n",
        "        return action_probabilities.squeeze(0).detach().numpy()\n",
        "\n",
        "    def soft_update_target_networks(self, tau):\n",
        "        self.soft_update(self.critic_target, self.critic_local, tau)\n",
        "        self.soft_update(self.critic_target2, self.critic_local2, tau)\n",
        "\n",
        "    def soft_update(self, target_model, origin_model, tau):\n",
        "        for target_param, local_param in zip(target_model.parameters(), origin_model.parameters()):\n",
        "            target_param.data.copy_(tau * local_param.data + (1 - tau) * target_param.data)\n",
        "\n",
        "    def predict_q_values(self, state, action):\n",
        "        q_values = self.critic_local(state)\n",
        "        q_values2 = self.critic_local2(state)\n",
        "        return torch.min(q_values, q_values2)"
      ]
    },
    {
      "cell_type": "markdown",
      "metadata": {
        "id": "X7Tx4pS_kdo-"
      },
      "source": [
        "## Online SAC (10 points)"
      ]
    },
    {
      "cell_type": "markdown",
      "metadata": {
        "id": "jUm9_qfAlvf_"
      },
      "source": [
        "Now evaluate your model in CartPole environment in the online setting. After each 4 episodes, you should evaluate your model on a separate test environment. Run your model 4 times separately and plot the mean and deviation of the evaluation curves.\n",
        "\n",
        "**NOTE:** Since you are going to use the replay buffer of this agent as the offline dataset, you may want to save it for later use."
      ]
    },
    {
      "cell_type": "code",
      "execution_count": 7,
      "metadata": {
        "colab": {
          "base_uri": "https://localhost:8080/",
          "height": 655
        },
        "id": "c6quXtBzZ6nZ",
        "outputId": "378d6340-fff3-4372-afe1-e7ce5bd6e628"
      },
      "outputs": [
        {
          "name": "stderr",
          "output_type": "stream",
          "text": [
            "/usr/local/lib/python3.10/dist-packages/ipykernel/ipkernel.py:283: DeprecationWarning: `should_run_async` will not call `transform_cell` automatically in the future. Please pass the result to `transformed_cell` argument and any exception that happen during thetransform in `preprocessing_exc_tuple` in IPython 7.17 and above.\n",
            "  and should_run_async(code)\n",
            "/usr/local/lib/python3.10/dist-packages/gym/core.py:317: DeprecationWarning: \u001b[33mWARN: Initializing wrapper in old step API which returns one bool instead of two. It is recommended to set `new_step_api=True` to use new step API. This will be the default behaviour in future.\u001b[0m\n",
            "  deprecation(\n",
            "/usr/local/lib/python3.10/dist-packages/gym/wrappers/step_api_compatibility.py:39: DeprecationWarning: \u001b[33mWARN: Initializing environment in old step API which returns one bool instead of two. It is recommended to set `new_step_api=True` to use new step API. This will be the default behaviour in future.\u001b[0m\n",
            "  deprecation(\n",
            "  0%|          | 0/500 [00:00<?, ?it/s]/usr/local/lib/python3.10/dist-packages/gym/utils/passive_env_checker.py:241: DeprecationWarning: `np.bool8` is a deprecated alias for `np.bool_`.  (Deprecated NumPy 1.24)\n",
            "  if not isinstance(terminated, (bool, np.bool8)):\n",
            "100%|██████████| 500/500 [14:23<00:00,  1.73s/it]\n"
          ]
        },
        {
          "data": {
            "image/png": "[encoded data removed]",
            "text/plain": [
              "<Figure size 640x480 with 1 Axes>"
            ]
          },
          "metadata": {},
          "output_type": "display_data"
        }
      ],
      "source": [
        "TRAINING_EVALUATION_RATIO = 4\n",
        "EPISODES_PER_RUN = 500\n",
        "STEPS_PER_EPISODE = 200\n",
        "env = gym.make(\"CartPole-v1\")\n",
        "\n",
        "##########################################################\n",
        "# TODO\n",
        "# Implement the training loop for the online SAC.\n",
        "# After each epoch, run validation\n",
        "# and plot the mean return over these\n",
        "# episodes in the end\n",
        "# Plot the learning curves\n",
        "##########################################################"
      ]
    },
    {
      "cell_type": "code",
      "execution_count": 8,
      "metadata": {
        "colab": {
          "base_uri": "https://localhost:8080/",
          "height": 322
        },
        "id": "Ge2uIJtGzGUW",
        "outputId": "9df8a782-375f-43f8-8475-27a8fa143e28"
      },
      "outputs": [
        {
          "name": "stderr",
          "output_type": "stream",
          "text": [
            "WARNING:imageio_ffmpeg:IMAGEIO FFMPEG_WRITER WARNING: input image is not divisible by macro_block_size=16, resizing from (600, 400) to (608, 400) to ensure video compatibility with most codecs and players. To prevent resizing, make your input image divisible by the macro_block_size or set the macro_block_size to 1 (risking incompatibility).\n"
          ]
        },
        {
          "data": {
            "text/html": [
              "\n",
              "    <video width=400 controls>\n",
              "          <source src=\"data:video/mp4;base64,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\" type=\"video/mp4\">\n",
              "    </video>\n",
              "    "
            ],
            "text/plain": [
              "<IPython.core.display.HTML object>"
            ]
          },
          "execution_count": 8,
          "metadata": {},
          "output_type": "execute_result"
        }
      ],
      "source": [
        "env = gym.make(\"CartPole-v1\", render_mode=\"rgb_array\")\n",
        "frames = []\n",
        "\n",
        "state = env.reset()\n",
        "for _ in range(100):\n",
        "    frames.append(env.render()[0])\n",
        "    action = None # TODO\n",
        "    state, reward, done, info = env.step(action)\n",
        "    if done:\n",
        "        break\n",
        "\n",
        "env.close()\n",
        "imageio.mimsave('./online.mp4', frames, fps=25)\n",
        "show_video('./online.mp4')"
      ]
    },
    {
      "cell_type": "markdown",
      "metadata": {
        "id": "WxqbDN6DU0AY"
      },
      "source": [
        "## Offline SAC (10 points)"
      ]
    },
    {
      "cell_type": "markdown",
      "metadata": {
        "id": "QRwciG6WU6ES"
      },
      "source": [
        "In this part you are going to train an SAC agent using the replay buffer from the online agent. During training you sample from this replay buffer and train the offline agent **without adding transitions to the replay buffer**. The loss function and every thing else is the same as the online setting."
      ]
    },
    {
      "cell_type": "code",
      "execution_count": 35,
      "metadata": {
        "colab": {
          "base_uri": "https://localhost:8080/",
          "height": 490
        },
        "id": "AcArEy_EU5H0",
        "outputId": "8b7d0a76-1db7-4286-e0a3-20daadb68fdc"
      },
      "outputs": [
        {
          "name": "stderr",
          "output_type": "stream",
          "text": [
            "100%|██████████| 200/200 [22:52<00:00,  6.86s/it]\n"
          ]
        },
        {
          "data": {
            "image/png": "[encoded data removed]",
            "text/plain": [
              "<Figure size 640x480 with 1 Axes>"
            ]
          },
          "metadata": {},
          "output_type": "display_data"
        }
      ],
      "source": [
        "NUM_EPOCHS = 200\n",
        "EPISODES_PER_RUN = 100\n",
        "\n",
        "env = gym.make(\"CartPole-v1\")\n",
        "\n",
        "##########################################################\n",
        "# TODO\n",
        "# Implement the training loop for the offline SAC.\n",
        "# After each epoch, run  validation\n",
        "# and plot the mean return over these\n",
        "# episodes in the end\n",
        "##########################################################"
      ]
    },
    {
      "cell_type": "code",
      "execution_count": 36,
      "metadata": {
        "colab": {
          "base_uri": "https://localhost:8080/",
          "height": 322
        },
        "id": "UQCpir_G2tIP",
        "outputId": "9ce837f1-1101-42b7-fce0-dcf51a965893"
      },
      "outputs": [
        {
          "name": "stderr",
          "output_type": "stream",
          "text": [
            "WARNING:imageio_ffmpeg:IMAGEIO FFMPEG_WRITER WARNING: input image is not divisible by macro_block_size=16, resizing from (600, 400) to (608, 400) to ensure video compatibility with most codecs and players. To prevent resizing, make your input image divisible by the macro_block_size or set the macro_block_size to 1 (risking incompatibility).\n"
          ]
        },
        {
          "data": {
            "text/html": [
              "\n",
              "    <video width=400 controls>\n",
              "          <source src=\"data:video/mp4;base64,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\" type=\"video/mp4\">\n",
              "    </video>\n",
              "    "
            ],
            "text/plain": [
              "<IPython.core.display.HTML object>"
            ]
          },
          "execution_count": 36,
          "metadata": {},
          "output_type": "execute_result"
        }
      ],
      "source": [
        "env = gym.make(\"CartPole-v1\", render_mode=\"rgb_array\")\n",
        "frames = []\n",
        "\n",
        "state = env.reset()\n",
        "for _ in range(100):\n",
        "    frames.append(env.render()[0])\n",
        "    action = None # TODO\n",
        "    state, reward, done, info = env.step(action)\n",
        "    if done:\n",
        "        break\n",
        "env.close()\n",
        "imageio.mimsave('./offline.mp4', frames, fps=25)\n",
        "show_video('./offline.mp4')"
      ]
    },
    {
      "cell_type": "markdown",
      "metadata": {
        "id": "WtI9ifQeSG2O"
      },
      "source": [
        " # Behavioural Cloning (20 points)\n",
        "\n",
        "Behavioral cloning works by mimicking expert behavior through supervised learning. It involves collecting a dataset of expert trajectories, which are sequences of state-action pairs (unlike offline reinforcement learning, which also collects rewards to train the model). The model is then trained to predict the expert's actions based on the observed states. The goal is for the model to replicate the expert's behavior by minimizing the difference between its predicted actions and the expert's actions."
      ]
    },
    {
      "cell_type": "markdown",
      "metadata": {
        "id": "TEGow3ZtSex2"
      },
      "source": [
        "We first need to collect data using the previously trained model."
      ]
    },
    {
      "cell_type": "code",
      "execution_count": 31,
      "metadata": {
        "colab": {
          "base_uri": "https://localhost:8080/"
        },
        "id": "83vk-JHqSdqV",
        "outputId": "3bc33b1a-f111-42f5-adc9-70c0e7706966"
      },
      "outputs": [
        {
          "name": "stderr",
          "output_type": "stream",
          "text": [
            "100%|██████████| 1000/1000 [01:28<00:00, 11.35it/s]\n"
          ]
        }
      ],
      "source": [
        "env = gym.make('CartPole-v1')\n",
        "num_episodes = 1000\n",
        "expert_data = []\n",
        "\n",
        "# TODO\n",
        "# Collect state-action pairs"
      ]
    },
    {
      "cell_type": "markdown",
      "metadata": {
        "id": "TzBsilklUdV_"
      },
      "source": [
        "Define the model for behaviuoral cloning."
      ]
    },
    {
      "cell_type": "code",
      "execution_count": 32,
      "metadata": {
        "id": "Xojov1LeUl_F"
      },
      "outputs": [],
      "source": [
        "class BCModel(nn.Module):\n",
        "    def __init__(self, input_dimension, hidden_dimension, output_dimension):\n",
        "        super(BCModel, self).__init__()\n",
        "        # TODO\n",
        "        # Define the model\n",
        "        self.fc1 = nn.Linear(input_dimension, hidden_dimension)\n",
        "        self.fc2 = nn.Linear(hidden_dimension, output_dimension)\n",
        "\n",
        "    def forward(self, x):\n",
        "        # TODO\n",
        "        # Perform forward pass\n",
        "        return output"
      ]
    },
    {
      "cell_type": "markdown",
      "metadata": {
        "id": "2_guGo3XvrCH"
      },
      "source": [
        "In this section, we implement the training loop for behavioral cloning. During each iteration, we sample a minibatch of state-action pairs from the expert dataset. This minibatch is then used to update the model."
      ]
    },
    {
      "cell_type": "code",
      "execution_count": 33,
      "metadata": {
        "colab": {
          "base_uri": "https://localhost:8080/"
        },
        "id": "ZxLrpNIpg2Mu",
        "outputId": "874ce031-c3bf-4447-efca-d8b5b0a6fd6a"
      },
      "outputs": [
        {
          "name": "stderr",
          "output_type": "stream",
          "text": [
            "100%|██████████| 6591/6591 [00:09<00:00, 706.61it/s]\n"
          ]
        },
        {
          "name": "stdout",
          "output_type": "stream",
          "text": [
            "Epoch 1/5, Loss: 2605.390963062644\n"
          ]
        },
        {
          "name": "stderr",
          "output_type": "stream",
          "text": [
            "100%|██████████| 6591/6591 [00:08<00:00, 789.85it/s]\n"
          ]
        },
        {
          "name": "stdout",
          "output_type": "stream",
          "text": [
            "Epoch 2/5, Loss: 2117.426242940128\n"
          ]
        },
        {
          "name": "stderr",
          "output_type": "stream",
          "text": [
            "100%|██████████| 6591/6591 [00:09<00:00, 719.40it/s]\n"
          ]
        },
        {
          "name": "stdout",
          "output_type": "stream",
          "text": [
            "Epoch 3/5, Loss: 2032.5100237503648\n"
          ]
        },
        {
          "name": "stderr",
          "output_type": "stream",
          "text": [
            "100%|██████████| 6591/6591 [00:09<00:00, 677.11it/s]\n"
          ]
        },
        {
          "name": "stdout",
          "output_type": "stream",
          "text": [
            "Epoch 4/5, Loss: 1958.5455607548356\n"
          ]
        },
        {
          "name": "stderr",
          "output_type": "stream",
          "text": [
            "100%|██████████| 6591/6591 [00:08<00:00, 811.80it/s]"
          ]
        },
        {
          "name": "stdout",
          "output_type": "stream",
          "text": [
            "Epoch 5/5, Loss: 1892.8886617273092\n"
          ]
        },
        {
          "name": "stderr",
          "output_type": "stream",
          "text": [
            "\n"
          ]
        }
      ],
      "source": [
        "bc_model = None\n",
        "criterion = None\n",
        "optimizer = None\n",
        "\n",
        "num_epochs = None\n",
        "batch_size = None\n",
        "\n",
        "\n",
        "for epoch in range(num_epochs):\n",
        "    total_loss = 0\n",
        "    # TODO\n",
        "    # Implement behavioural cloning training loop\n",
        "\n",
        "    print(f'Epoch {epoch+1}/{num_epochs}, Loss: {total_loss}')"
      ]
    },
    {
      "cell_type": "markdown",
      "metadata": {
        "id": "eAe_p1uTw7uP"
      },
      "source": [
        "Evaluate and render the results."
      ]
    },
    {
      "cell_type": "code",
      "execution_count": 34,
      "metadata": {
        "colab": {
          "base_uri": "https://localhost:8080/",
          "height": 322
        },
        "id": "LL1Qik9DhJh0",
        "outputId": "9dd9b233-cd91-4bc0-a867-4fcaaff1952a"
      },
      "outputs": [
        {
          "name": "stderr",
          "output_type": "stream",
          "text": [
            "WARNING:imageio_ffmpeg:IMAGEIO FFMPEG_WRITER WARNING: input image is not divisible by macro_block_size=16, resizing from (600, 400) to (608, 400) to ensure video compatibility with most codecs and players. To prevent resizing, make your input image divisible by the macro_block_size or set the macro_block_size to 1 (risking incompatibility).\n"
          ]
        },
        {
          "data": {
            "text/html": [
              "\n",
              "    <video width=400 controls>\n",
              "          <source src=\"data:video/mp4;base64,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\" type=\"video/mp4\">\n",
              "    </video>\n",
              "    "
            ],
            "text/plain": [
              "<IPython.core.display.HTML object>"
            ]
          },
          "execution_count": 34,
          "metadata": {},
          "output_type": "execute_result"
        }
      ],
      "source": [
        "env = gym.make(\"CartPole-v1\", render_mode=\"rgb_array\")\n",
        "frames = []\n",
        "\n",
        "state = env.reset()\n",
        "for _ in range(100):\n",
        "    frames.append(env.render()[0])\n",
        "    state = torch.tensor(state).unsqueeze(0)\n",
        "    action = None # TODO\n",
        "    state, reward, done, info = env.step(action)\n",
        "    if done:\n",
        "        break\n",
        "env.close()\n",
        "imageio.mimsave('./bc.mp4', frames, fps=25)\n",
        "show_video('./bc.mp4')"
      ]
    }
  ],
  "metadata": {
    "colab": {
      "provenance": []
    },
    "kernelspec": {
      "display_name": "Python 3",
      "name": "python3"
    },
    "language_info": {
      "codemirror_mode": {
        "name": "ipython",
        "version": 3
      },
      "file_extension": ".py",
      "mimetype": "text/x-python",
      "name": "python",
      "nbconvert_exporter": "python",
      "pygments_lexer": "ipython3",
      "version": "3.10.4"
    }
  },
  "nbformat": 4,
  "nbformat_minor": 0
}
