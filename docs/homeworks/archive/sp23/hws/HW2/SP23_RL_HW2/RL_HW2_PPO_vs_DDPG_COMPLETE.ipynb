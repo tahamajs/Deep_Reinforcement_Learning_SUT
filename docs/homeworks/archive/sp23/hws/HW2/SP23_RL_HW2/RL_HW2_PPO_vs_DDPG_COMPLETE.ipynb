{
  "cells": [
    {
      "cell_type": "markdown",
      "metadata": {
        "id": "0eloi8xzEKxK"
      },
      "source": [
        "# Configuration & Tools"
      ]
    },
    {
      "cell_type": "code",
      "execution_count": null,
      "metadata": {
        "id": "1wxOlYMmEKxQ"
      },
      "outputs": [],
      "source": [
        "import sys\n",
        "IN_COLAB = \"google.colab\" in sys.modules\n",
        "\n",
        "if IN_COLAB:\n",
        "    !apt install python-opengl\n",
        "    !apt install ffmpeg\n",
        "    !apt install xvfb\n",
        "    !pip install pyvirtualdisplay\n",
        "    from pyvirtualdisplay import Display\n",
        "    \n",
        "    # Start virtual display\n",
        "    dis = Display(visible=0, size=(600, 400))\n",
        "    dis.start()"
      ]
    },
    {
      "cell_type": "markdown",
      "metadata": {
        "id": "Gkq77hRTNnOq"
      },
      "source": [
        "## Import modules"
      ]
    },
    {
      "cell_type": "code",
      "execution_count": null,
      "metadata": {
        "id": "bZySGWaENnOw"
      },
      "outputs": [],
      "source": [
        "import random\n",
        "from collections import deque\n",
        "from typing import Deque, Dict, List, Tuple\n",
        "\n",
        "import gym\n",
        "import matplotlib.pyplot as plt\n",
        "import numpy as np\n",
        "import torch\n",
        "import torch.nn as nn\n",
        "import torch.nn.functional as F\n",
        "import torch.optim as optim\n",
        "from IPython.display import clear_output\n",
        "from torch.distributions import Normal"
      ]
    },
    {
      "cell_type": "markdown",
      "metadata": {
        "id": "v0guayZuNnOx"
      },
      "source": [
        "## Set random seed"
      ]
    },
    {
      "cell_type": "code",
      "execution_count": null,
      "metadata": {
        "id": "V-jU9MarNnOx"
      },
      "outputs": [],
      "source": [
        "if torch.backends.cudnn.enabled:\n",
        "    torch.backends.cudnn.benchmark = False\n",
        "    torch.backends.cudnn.deterministic = True\n",
        "\n",
        "seed = 777\n",
        "torch.manual_seed(seed)\n",
        "np.random.seed(seed)\n",
        "random.seed(seed)"
      ]
    },
    {
      "cell_type": "markdown",
      "metadata": {
        "id": "KTevK5iRNnOx"
      },
      "source": [
        "## Replay buffer\n",
        "Typically, people implement replay buffers with one of the following three data structures:\n",
        "\n",
        "- collections.deque\n",
        "- list\n",
        "- numpy.ndarray\n",
        "\n",
        "**deque** is very easy to handle once you initialize its maximum length (e.g. deque(maxlen=buffer_size)). However, the indexing operation of deque gets terribly slow as it grows up because it is [internally doubly linked list](https://wiki.python.org/moin/TimeComplexity#collections.deque). On the other hands, **list** is an array, so it is relatively faster than deque when you sample batches at every step. Its amortized cost of Get item is [O(1)](https://wiki.python.org/moin/TimeComplexity#list).\n",
        "\n",
        "Last but not least, let's see **numpy.ndarray**. numpy.ndarray is even faster than list due to the fact that it is [a homogeneous array of fixed-size items](https://docs.scipy.org/doc/numpy/reference/generated/numpy.ndarray.html#numpy.ndarray), so you can get the benefits of [locality of reference](https://en.wikipedia.org/wiki/Locality_of_reference), . Whereas list is an array of pointers to objects, even when all of them are of the same type.\n",
        "\n",
        "Here, we are going to implement a replay buffer using numpy.ndarray.\n",
        "\n",
        "Reference: \n",
        "- [OpenAI spinning-up](https://github.com/openai/spinningup/blob/master/spinup/algos/sac/sac.py#L10)\n",
        "- [rainbow-is-all-you-need](https://render.githubusercontent.com/view/ipynb?commit=032d11277cf2436853478a69ca5a4aba03202598&enc_url=68747470733a2f2f7261772e67697468756275736572636f6e74656e742e636f6d2f437572742d5061726b2f7261696e626f772d69732d616c6c2d796f752d6e6565642f303332643131323737636632343336383533343738613639636135613461626130333230323539382f30312e64716e2e6970796e62&nwo=Curt-Park%2Frainbow-is-all-you-need&path=01.dqn.ipynb&repository_id=191133946&repository_type=Repository#Replay-buffer)"
      ]
    },
    {
      "cell_type": "code",
      "execution_count": null,
      "metadata": {
        "id": "NTSyz91HNnOy"
      },
      "outputs": [],
      "source": [
        "class ReplayBuffer:\n",
        "    \"\"\"A simple numpy replay buffer.\"\"\"\n",
        "\n",
        "    def __init__(self, obs_dim: int, size: int, batch_size: int = 32):\n",
        "        \"\"\"Initialize.\"\"\"\n",
        "        # ==================================== Your Code (Begin) ====================================\n",
        "        self.obs_buf = np.zeros([size, obs_dim], dtype=np.float32)\n",
        "        self.next_obs_buf = np.zeros([size, obs_dim], dtype=np.float32)\n",
        "        self.acts_buf = np.zeros([size], dtype=np.float32)\n",
        "        self.rews_buf = np.zeros([size], dtype=np.float32)\n",
        "        self.done_buf = np.zeros([size], dtype=np.float32)\n",
        "        self.max_size, self.batch_size = size, batch_size\n",
        "        self.ptr, self.size = 0, 0\n",
        "        # ==================================== Your Code (End) ====================================\n",
        "\n",
        "\n",
        "    def store(self,\n",
        "        obs: np.ndarray,\n",
        "        act: np.ndarray, \n",
        "        rew: float, \n",
        "        next_obs: np.ndarray, \n",
        "        done: bool,\n",
        "    ):\n",
        "        \"\"\"Store the transition in buffer.\"\"\"\n",
        "        # ==================================== Your Code (Begin) ====================================\n",
        "        self.obs_buf[self.ptr] = obs\n",
        "        self.next_obs_buf[self.ptr] = next_obs\n",
        "        self.acts_buf[self.ptr] = act\n",
        "        self.rews_buf[self.ptr] = rew\n",
        "        self.done_buf[self.ptr] = done\n",
        "        self.ptr = (self.ptr + 1) % self.max_size\n",
        "        self.size = min(self.size + 1, self.max_size)\n",
        "        # ==================================== Your Code (End) ====================================\n",
        "\n",
        "\n",
        "    def sample_batch(self) -> Dict[str, np.ndarray]:\n",
        "        \"\"\"Randomly sample a batch of experiences from memory.\"\"\"\n",
        "        # ==================================== Your Code (Begin) ====================================\n",
        "        idxs = np.random.choice(self.size, size=self.batch_size, replace=False)\n",
        "        return dict(\n",
        "            obs=self.obs_buf[idxs],\n",
        "            next_obs=self.next_obs_buf[idxs],\n",
        "            acts=self.acts_buf[idxs],\n",
        "            rews=self.rews_buf[idxs],\n",
        "            done=self.done_buf[idxs]\n",
        "        )\n",
        "        # ==================================== Your Code (End) ====================================\n",
        "\n",
        "\n",
        "    def __len__(self) -> int:\n",
        "        # ==================================== Your Code (Begin) ====================================\n",
        "        return self.size\n",
        "        # ==================================== Your Code (End) ====================================\n"
      ]
    },
    {
      "cell_type": "markdown",
      "metadata": {
        "id": "qQ-eZmnsNnOy"
      },
      "source": [
        "## OU Noise\n",
        "**Ornstein-Uhlenbeck** process generates temporally correlated exploration, and it effectively copes with physical control problems of inertia.\n",
        "\n",
        "$$\n",
        "dx_t = \\theta(\\mu - x_t) dt + \\sigma dW_t\n",
        "$$\n",
        "\n",
        "Reference: \n",
        "- [Udacity github](https://github.com/udacity/deep-reinforcement-learning/blob/master/ddpg-pendulum/ddpg_agent.py)\n",
        "- [Wiki](https://en.wikipedia.org/wiki/Ornstein%E2%80%93Uhlenbeck_process)"
      ]
    },
    {
      "cell_type": "code",
      "execution_count": null,
      "metadata": {
        "id": "VgdO5XcUNnOy"
      },
      "outputs": [],
      "source": [
        "import copy\n",
        "class OUNoise:\n",
        "    \"\"\"Ornstein-Uhlenbeck process.\n",
        "    Taken from Udacity deep-reinforcement-learning github repository:\n",
        "    https://github.com/udacity/deep-reinforcement-learning/blob/master/\n",
        "    ddpg-pendulum/ddpg_agent.py\n",
        "    \"\"\"\n",
        "\n",
        "    def __init__(\n",
        "        self, \n",
        "        size: int, \n",
        "        mu: float = 0.0, \n",
        "        theta: float = 0.15, \n",
        "        sigma: float = 0.2,\n",
        "    ):\n",
        "        \"\"\"Initialize parameters and noise process.\"\"\"\n",
        "        self.state = np.float64(0.0)\n",
        "        self.mu = mu * np.ones(size)\n",
        "        self.theta = theta\n",
        "        self.sigma = sigma\n",
        "        self.reset()\n",
        "\n",
        "    def reset(self):\n",
        "        \"\"\"Reset the internal state (= noise) to mean (mu).\"\"\"\n",
        "        self.state = copy.copy(self.mu)\n",
        "\n",
        "    def sample(self) -> np.ndarray:\n",
        "        \"\"\"Update internal state and return it as a noise sample.\"\"\"\n",
        "        x = self.state\n",
        "        dx = self.theta * (self.mu - x) + self.sigma * np.array(\n",
        "            [random.random() for _ in range(len(x))]\n",
        "        )\n",
        "        self.state = x + dx\n",
        "        return self.state"
      ]
    },
    {
      "cell_type": "markdown",
      "metadata": {
        "id": "iTZ15C_3EKxT"
      },
      "source": [
        "# PPO\n",
        "\n",
        "- PPO: [J. Schulman et al., \"Proximal Policy Optimization Algorithms.\" arXiv preprint arXiv:1707.06347, 2017.](https://arxiv.org/abs/1707.06347.pdf)\n",
        "- TRPO: [Schulman, John, et al. \"Trust region policy optimization.\" International conference on machine learning. 2015.](http://proceedings.mlr.press/v37/schulman15.pdf)\n",
        "\n",
        "There are two kinds of algorithms of PPO: PPO-Penalty and PPO-Clip. Here, we'll implement PPO-clip version.\n",
        "\n",
        "TRPO computes the gradients with a complex second-order method. On the other hand, PPO tries to solve the problem with a first-order methods that keep new policies close to old. To simplify the surrogate objective, let $r(\\theta)$ denote the probability ratio\n",
        "\n",
        "$$ L^{CPI}(\\theta) = \\hat {\\mathbb{E}}_t \\left [ {\\pi_\\theta(a_t|s_t) \\over \\pi_{\\theta_{old}}(a_t|s_t)} \\hat A_t\\right] = \\hat {\\mathbb{E}}_t \\left [ r_t(\\theta) \\hat A_t \\right ].$$\n",
        "\n",
        "The objective is penalized further away from $r_t(\\theta)$\n",
        "\n",
        "$$ L^{CLIP}(\\theta)=\\hat {\\mathbb{E}}_t \\left [ \\min(r_t(\\theta) \\hat A_t, \\text{clip}(r_t(\\theta), 1-\\epsilon, 1+\\epsilon)\\hat A_t) \\right ] $$\n",
        "\n",
        "If the advantage is positive, the objective will increase. As a result, the action becomes more likely. If advantage is negative, the objective will decrease. AS a result, the action becomes less likely."
      ]
    },
    {
      "cell_type": "markdown",
      "metadata": {
        "id": "hKyhiD5yFSyO"
      },
      "source": [
        "# DDPG \n",
        "\n",
        "[T. P. Lillicrap et al., \"Continuous control with deep reinforcement learning.\" arXiv preprint arXiv:1509.02971, 2015.](https://arxiv.org/pdf/1509.02971.pdf)\n",
        "\n",
        "Deep Q Network(DQN)([Mnih et al., 2013;2015](https://storage.googleapis.com/deepmind-media/dqn/DQNNaturePaper.pdf)) algorithm is combined advances in deep learning with reinforcement learning. However, while DQN solves problems with high-dimentional observation spaces, it can only handle discrete and low-dimentional action spaces because of using greedy policy. For learning in high-dimentional and continous action spaces, the authors combine the actor-critic approach with insights from the recent success of DQN. Deep DPG(DDPG) is based on the deterministic policy gradient(DPG) algorithm ([Silver et al., 2014](http://proceedings.mlr.press/v32/silver14.pdf)). \n",
        "\n",
        "### Deterministic policy gradient\n",
        "The DPG algorithm maintains a parameterized actor function $\\mu(s|\\theta^{\\mu})$ which specifies the current policy by deterministically mapping states to a specific action. The critic $Q(s, a)$ is learned using the Bellman equation as in Q-learning. The actor is updated by following the applying the chain rule to the expected return from the start distribution $J$ with respect to the actor parameters\n",
        "\n",
        "$$\n",
        "\\begin{align*}\n",
        "\\nabla_{\\theta^{\\mu}}J &\\approx E_{s_t\\sim\\rho^\\beta} [\\nabla_{\\theta^{\\mu}} Q(s,a|\\theta^Q)|_{s=s_t, a=\\mu(s_t|\\theta^\\mu)}] \\\\\n",
        "&= E_{s_t\\sim\\rho^\\beta} [\\nabla_{a} Q(s,a|\\theta^Q)|_{s=s_t, a=\\mu(s_t)} \\nabla_{\\theta^{\\mu}} \\mu(s|\\theta^\\mu)|_{s=s_t}]\n",
        "\\end{align*}\n",
        "$$\n",
        "\n",
        "### Soft update target network\n",
        "Since the network $(Q(s,a|\\theta^Q)$ being updated is also used in calculating the target value, the Q update is prone to divergence. To avoid this, the authors use **the target network** like DQN, but modified for actor-critic and using **soft target updates**. Target netwokrs is created by copying the actor and critic networks, $Q'(s,a|\\theta^{Q'})$ and $\\mu'(s|\\theta^{\\mu`})$ respectively, that are used for calculating the target values. The weights of these target networks are then updated by having them slowly track the learned networks:\n",
        "\n",
        "$$\n",
        "\\theta' \\leftarrow \\tau \\theta + (1 - \\tau)\\theta' \\ \\ \\ {with} \\ \\tau \\ll 1.\n",
        "$$\n",
        "\n",
        "It greatly improves the stability of learning.\n",
        "\n",
        "### Exploration for continuous action space\n",
        "An advantage of offpolicies algorithms such as DDPG is that we can treat the problem of exploration independently from the learning algorithm. The authors construct an exploration policy $\\mu'$ by adding noise sampled from a noise process $\\mathcal{N}$ to the actor policy\n",
        "\n",
        "$$\n",
        "\\mu'(s_t) = \\mu(s_t|\\theta^{\\mu}_t) + \\mathcal{N}\n",
        "$$\n",
        "\n",
        "$\\mathcal{N}$ can be chosen to suit the environment. The authors used **Ornstein-Uhlenbeck process** to generate temporally correlated exploration."
      ]
    },
    {
      "cell_type": "markdown",
      "metadata": {
        "id": "SkVtrKceEKxW"
      },
      "source": [
        "# Networks\n"
      ]
    },
    {
      "cell_type": "markdown",
      "metadata": {
        "id": "oeuLWo64L4Vi"
      },
      "source": [
        "## PPO Networks"
      ]
    },
    {
      "cell_type": "markdown",
      "metadata": {
        "id": "j91bMF9TPjPo"
      },
      "source": [
        "We will use two separated networks for actor and critic respectively. The actor network consists of two fully connected hidden layer with ReLU branched out two fully connected output layers for mean and standard deviation of Gaussian distribution. Pendulum-v0 has only one action which has a range from -2 to 2. In order to fit the range, the actor outputs the mean value with tanh. The result will be scaled in ActionNormalizer class. On the one hand, the critic network has three fully connected layers as two hidden layers (ReLU) and an output layer. One thing to note is that we initialize the last layers' weights and biases as uniformly distributed."
      ]
    },
    {
      "cell_type": "code",
      "execution_count": null,
      "metadata": {
        "id": "a17WionpEKxX"
      },
      "outputs": [],
      "source": [
        "def init_layer_uniform(layer: nn.Linear, init_w: float = 3e-3) -> nn.Linear:\n",
        "    \"\"\"Init uniform parameters on the single layer.\"\"\"\n",
        "    # ==================================== Your Code (Begin) ====================================\n",
        "    \n",
        "    # ==================================== Your Code (End) ====================================\n",
        "\n",
        "\n",
        "class PPOActor(nn.Module):\n",
        "    def __init__(\n",
        "        self, \n",
        "        in_dim: int, \n",
        "        out_dim: int, \n",
        "        log_std_min: int = -20,\n",
        "        log_std_max: int = 0,\n",
        "    ):\n",
        "        \"\"\"Initialize.\"\"\"\n",
        "        super(PPOActor, self).__init__()\n",
        "\n",
        "        # ==================================== Your Code (Begin) ====================================\n",
        "        \n",
        "        # ==================================== Your Code (End) ====================================\n",
        "\n",
        "\n",
        "    def forward(self, state: torch.Tensor) -> torch.Tensor:\n",
        "        \"\"\"Forward method implementation.\"\"\"\n",
        "        \n",
        "        # ==================================== Your Code (Begin) ====================================\n",
        "        # return selected action and a normal distribution as output of this module\n",
        "        # ==================================== Your Code (End) ====================================\n",
        "\n",
        "\n",
        "\n",
        "class Critic(nn.Module):\n",
        "    def __init__(self, in_dim: int):\n",
        "        \"\"\"Initialize.\"\"\"\n",
        "        super(Critic, self).__init__()\n",
        "        # ==================================== Your Code (Begin) ====================================\n",
        "        \n",
        "        # ==================================== Your Code (End) ====================================\n",
        "\n",
        "\n",
        "    def forward(self, state: torch.Tensor) -> torch.Tensor:\n",
        "        \"\"\"Forward method implementation.\"\"\"\n",
        "        # ==================================== Your Code (Begin) ====================================\n",
        "        \n",
        "        # ==================================== Your Code (End) ====================================\n"
      ]
    },
    {
      "cell_type": "markdown",
      "metadata": {
        "id": "hY8ylNydFSyU"
      },
      "source": [
        "## DDPG Networks\n",
        "We are going to use two separated networks for actor and critic. The actor network has three fully connected layers and three non-linearity functions, **ReLU** for hidden layers and **tanh** for the output layer. On the other hand, the critic network has three fully connected layers, but it used two activation functions for hidden layers **ReLU**. Plus, its input sizes of critic network are sum of state sizes and action sizes. One thing to note is that we initialize the final layer's weights and biases so that they are **uniformly distributed.**"
      ]
    },
    {
      "cell_type": "code",
      "execution_count": null,
      "metadata": {
        "id": "WyIgq8P0FSyV"
      },
      "outputs": [],
      "source": [
        "class DDPGActor(nn.Module):\n",
        "    def __init__(\n",
        "        self, \n",
        "        in_dim: int, \n",
        "        out_dim: int,\n",
        "        init_w: float = 3e-3,\n",
        "    ):\n",
        "        \"\"\"Initialize.\"\"\"\n",
        "        super(Actor, self).__init__()\n",
        "        \n",
        "        # ==================================== Your Code (Begin) ====================================\n",
        "        # 1. set the hidden layers\n",
        "        # 2. init hidden layers uniformly       \n",
        "        # ==================================== Your Code (End) ====================================\n",
        "\n",
        "    def forward(self, state: torch.Tensor) -> torch.Tensor:\n",
        "        \"\"\"Forward method implementation.\"\"\"\n",
        "        # ==================================== Your Code (Begin) ====================================\n",
        "        # use a tanh function as a ativation function for output layer \n",
        "        # ==================================== Your Code (End) ====================================\n",
        "    \n",
        "    \n",
        "class DDPGCritic(nn.Module):\n",
        "    def __init__(\n",
        "        self, \n",
        "        in_dim: int, \n",
        "        init_w: float = 3e-3,\n",
        "    ):\n",
        "        \"\"\"Initialize.\"\"\"\n",
        "        super(Critic, self).__init__()\n",
        "        \n",
        "        # ==================================== Your Code (Begin) ====================================\n",
        "        # 1. set the hidden layers\n",
        "        # 2. init hidden layers uniformly       \n",
        "        # ==================================== Your Code (End) ====================================\n",
        "\n",
        "    def forward(\n",
        "        self, state: torch.Tensor, action: torch.Tensor\n",
        "    ) -> torch.Tensor:\n",
        "        \"\"\"Forward method implementation.\"\"\"\n",
        "        # ==================================== Your Code (Begin) ====================================\n",
        "        # notice that this value function is Q(s, a)\n",
        "        # ==================================== Your Code (End) ====================================\n"
      ]
    },
    {
      "cell_type": "markdown",
      "metadata": {
        "id": "Nt25nk9AN9CT"
      },
      "source": [
        "# Agents "
      ]
    },
    {
      "cell_type": "markdown",
      "metadata": {
        "id": "KiHRoaq4EKxY"
      },
      "source": [
        "## PPO Agent\n",
        "Here is a summary of PPOAgent class.\n",
        "\n",
        "| Method           | Note                                                 |\n",
        "|---               |---                                                   |\n",
        "|select_action     | select an action from the input state.               |\n",
        "|step              | take an action and return the response of the env.   |\n",
        "|update_model      | update the model by gradient descent.                |\n",
        "|train             | train the agent during num_frames.                   |\n",
        "|test              | test the agent (1 episode).                          |\n",
        "|_plot             | plot the training progresses.                        |\n"
      ]
    },
    {
      "cell_type": "markdown",
      "metadata": {
        "id": "XE8Is2T9EKxZ"
      },
      "source": [
        "PPO updates the model several times(`epoch`) using the stacked memory. By `ppo_iter` function, It yield the samples of stacked memory by interacting a environment."
      ]
    },
    {
      "cell_type": "code",
      "execution_count": null,
      "metadata": {
        "id": "hAurbe2YEKxa"
      },
      "outputs": [],
      "source": [
        "def ppo_iter(\n",
        "    epoch: int,\n",
        "    mini_batch_size: int,\n",
        "    states: torch.Tensor,\n",
        "    actions: torch.Tensor,\n",
        "    values: torch.Tensor,\n",
        "    log_probs: torch.Tensor,\n",
        "    returns: torch.Tensor,\n",
        "    advantages: torch.Tensor,\n",
        "):\n",
        "    \"\"\"Yield mini-batches.\"\"\"\n",
        "    \n",
        "    # ==================================== Your Code (Begin) ====================================\n",
        "        \n",
        "    # ==================================== Your Code (End) ====================================\n"
      ]
    },
    {
      "cell_type": "code",
      "execution_count": null,
      "metadata": {
        "id": "bFja11svEKxa"
      },
      "outputs": [],
      "source": [
        "class PPOAgent:\n",
        "    \"\"\"PPO Agent.\n",
        "    Attributes:\n",
        "        env (gym.Env): Gym env for training\n",
        "        gamma (float): discount factor\n",
        "        tau (float): lambda of generalized advantage estimation (GAE)\n",
        "        batch_size (int): batch size for sampling\n",
        "        epsilon (float): amount of clipping surrogate objective\n",
        "        epoch (int): the number of update\n",
        "        rollout_len (int): the number of rollout\n",
        "        entropy_weight (float): rate of weighting entropy into the loss function\n",
        "        actor (nn.Module): target actor model to select actions\n",
        "        critic (nn.Module): critic model to predict state values\n",
        "        transition (list): temporory storage for the recent transition\n",
        "        device (torch.device): cpu / gpu\n",
        "        total_step (int): total step numbers\n",
        "        is_test (bool): flag to show the current mode (train / test)        \n",
        "    \"\"\"\n",
        "\n",
        "    def __init__(\n",
        "        self,\n",
        "        env: gym.Env,\n",
        "        batch_size: int,\n",
        "        gamma: float,\n",
        "        tau: float,\n",
        "        epsilon: float,\n",
        "        epoch: int,\n",
        "        rollout_len: int,\n",
        "        entropy_weight: float,\n",
        "    ):\n",
        "        \"\"\"Initialize.\"\"\"\n",
        "        # ==================================== Your Code (Begin) ====================================\n",
        "        # 1. set hyperparameters\n",
        "        # 2. check device: cpu/GPU\n",
        "        # 3. init actor critic networks\n",
        "        # 4. set Optimizer for each network\n",
        "        # 5. consider memory for training\n",
        "        # 6. set total step counts equal to 1\n",
        "        # 7. define a mode for train/test\n",
        "        # ==================================== Your Code (End) ====================================\n",
        "\n",
        "    \n",
        "        \n",
        "\n",
        "    def select_action(self, state: np.ndarray) -> np.ndarray:\n",
        "        \"\"\"Select an action from the input state.\"\"\"\n",
        "        # ==================================== Your Code (Begin) ====================================\n",
        "        # 1. select action for train or test mode\n",
        "        # 2. if you are in train mode take care of filing considered memory\n",
        "        # ==================================== Your Code (End) ====================================\n",
        "\n",
        "\n",
        "    def step(self, action: np.ndarray) -> Tuple[np.ndarray, np.float64, bool]:\n",
        "        \"\"\"Take an action and return the response of the env.\"\"\"\n",
        "        # ==================================== Your Code (Begin) ====================================\n",
        "        \n",
        "        # ==================================== Your Code (End) ====================================\n",
        "\n",
        "\n",
        "    def update_model(\n",
        "        self, next_state: np.ndarray\n",
        "    ) -> Tuple[torch.Tensor, torch.Tensor, torch.Tensor]:\n",
        "        \"\"\"Update the model by gradient descent.\"\"\"\n",
        "        # ==================================== Your Code (Begin) ====================================\n",
        "        # 1. set device\n",
        "        # 2. for each step:\n",
        "        # 3.    calculate ratios\n",
        "        # 4.    calculate actor_loss\n",
        "        # 5.    calculate entropy\n",
        "        # 6.    calculate critic_loss\n",
        "        # 7.    Train  critic\n",
        "        # 8.    Train actor\n",
        "        # ==================================== Your Code (End) ====================================\n",
        "\n",
        "    \n",
        "\n",
        "    def train(self, num_frames: int, plotting_interval: int = 200):\n",
        "        \"\"\"Train the agent.\"\"\"\n",
        "        # ==================================== Your Code (Begin) ====================================\n",
        "        # 1. set the status of trainig\n",
        "        # 2. Reset environment\n",
        "        # 3. for number of frames:\n",
        "        # 4.    select an action\n",
        "        # 5.    step in environment\n",
        "        # 6.    update model\n",
        "        # 7. terminate environment after training is finished\n",
        "        # ==================================== Your Code (End) ====================================\n",
        "\n",
        "        \n",
        "\n",
        "    def test(self):\n",
        "        \"\"\"Test the agent.\"\"\"\n",
        "        # ==================================== Your Code (Begin) ====================================\n",
        "        # 1. set the status of trainig\n",
        "        # 2. Reset environment\n",
        "        # 3. roll out one episode living in the environment and save frames for getting render\n",
        "        # ==================================== Your Code (End) ====================================\n",
        "\n",
        "\n",
        "    def _plot(\n",
        "        self,\n",
        "        frame_idx: int,\n",
        "        scores: List[float],\n",
        "        actor_losses: List[float],\n",
        "        critic_losses: List[float],\n",
        "    ):\n",
        "        \"\"\"Plot the training progresses.\"\"\"\n",
        "        # ==================================== Your Code (Begin) ====================================\n",
        "        # 1. define a function for sub plots\n",
        "        # 2. for each variable plot the specific subplot\n",
        "        # 3. plot the whole figure\n",
        "        # ==================================== Your Code (End) ====================================\n"
      ]
    },
    {
      "cell_type": "markdown",
      "metadata": {
        "id": "iyrmZWSWFSyV"
      },
      "source": [
        "## DDPG Agent\n",
        "Here is a summary of DDPGAgent class.\n",
        "\n",
        "| Method           | Note                                                 |\n",
        "|---               |---                                                  |\n",
        "|select_action     | select an action from the input state.               |\n",
        "|step              | take an action and return the response of the env.   |\n",
        "|update_model      | update the model by gradient descent.                |\n",
        "|train             | train the agent during num_frames.                   |\n",
        "|test              | test the agent (1 episode).                          |\n",
        "|\\_target_soft_update| soft update from the local model to the target model.|\n",
        "|\\_plot              | plot the training progresses.                        |"
      ]
    },
    {
      "cell_type": "code",
      "execution_count": null,
      "metadata": {
        "id": "CuPhByk5FSyW"
      },
      "outputs": [],
      "source": [
        "class DDPGAgent:\n",
        "    \"\"\"DDPGAgent interacting with environment.\n",
        "    \n",
        "    Attribute:\n",
        "        env (gym.Env): openAI Gym environment\n",
        "        actor (nn.Module): target actor model to select actions\n",
        "        actor_target (nn.Module): actor model to predict next actions\n",
        "        actor_optimizer (Optimizer): optimizer for training actor\n",
        "        critic (nn.Module): critic model to predict state values\n",
        "        critic_target (nn.Module): target critic model to predict state values\n",
        "        critic_optimizer (Optimizer): optimizer for training critic\n",
        "        memory (ReplayBuffer): replay memory to store transitions\n",
        "        batch_size (int): batch size for sampling\n",
        "        gamma (float): discount factor\n",
        "        tau (float): parameter for soft target update\n",
        "        initial_random_steps (int): initial random action steps\n",
        "        noise (OUNoise): noise generator for exploration\n",
        "        device (torch.device): cpu / gpu\n",
        "        transition (list): temporory storage for the recent transition\n",
        "        total_step (int): total step numbers\n",
        "        is_test (bool): flag to show the current mode (train / test)\n",
        "    \"\"\"\n",
        "    def __init__(\n",
        "        self,\n",
        "        env: gym.Env,\n",
        "        memory_size: int,\n",
        "        batch_size: int,\n",
        "        ou_noise_theta: float,\n",
        "        ou_noise_sigma: float,\n",
        "        gamma: float = 0.99,\n",
        "        tau: float = 5e-3,\n",
        "        initial_random_steps: int = 1e4,\n",
        "    ):\n",
        "        \"\"\"Initialize.\"\"\"\n",
        "\n",
        "        # ==================================== Your Code (Begin) ====================================\n",
        "        # 1. initialize hyper parameters, reply buffer and environment\n",
        "        # 2. set device\n",
        "        # 3. set target entropy, log alpha and alpha optimizer\n",
        "        # 4. init actor network\n",
        "        # 5. init value fuction (value critic)\n",
        "        # 6. init OUNoise \n",
        "        # 7. set Optimizers\n",
        "        # consider stroring transitions in memeory, counting steps and specify train/test mode\n",
        "        # ==================================== Your Code (End) ====================================\n",
        "    \n",
        "    def select_action(self, state: np.ndarray) -> np.ndarray:\n",
        "        \"\"\"Select an action from the input state.\"\"\"\n",
        "        \n",
        "        # ==================================== Your Code (Begin) ====================================\n",
        "        # 1. check if initial random action should be conducted\n",
        "        # 2. add noise for exploration during training\n",
        "        # 3. store transition\n",
        "        # return selected action\n",
        "        # ==================================== Your Code (End) ====================================\n",
        "    \n",
        "    def step(self, action: np.ndarray) -> Tuple[np.ndarray, np.float64, bool]:\n",
        "        \"\"\"Take an action and return the response of the env.\"\"\"\n",
        "        # ==================================== Your Code (Begin) ====================================\n",
        "        # step in environment and save transition in memory if you are not in test mode\n",
        "        # ==================================== Your Code (End) ====================================\n",
        "    \n",
        "    def update_model(self) -> torch.Tensor:\n",
        "        \"\"\"Update the model by gradient descent.\"\"\"\n",
        "        # ==================================== Your Code (Begin) ====================================\n",
        "        # 1. set device\n",
        "        # 2. get a batch from memory and calculate the return\n",
        "        # 3. calculate the loss for actor and critic networks\n",
        "        # 4. update target\n",
        "        # ==================================== Your Code (End) ====================================\n",
        "    \n",
        "    def train(self, num_frames: int, plotting_interval: int = 200):\n",
        "        \"\"\"Train the agent.\"\"\"\n",
        "        # ==================================== Your Code (Begin) ====================================\n",
        "        # 1. set the status of trainig\n",
        "        # 2. Reset environment\n",
        "        # 3. for number of frames:\n",
        "        # 4.    select an action\n",
        "        # 5.    step in environment\n",
        "        # 6.    update model\n",
        "        # 7. plot the computed variables\n",
        "        # 8. terminate environment after training is finished\n",
        "        # ==================================== Your Code (End) ====================================\n",
        "        \n",
        "    def test(self):\n",
        "        \"\"\"Test the agent.\"\"\"\n",
        "        # ==================================== Your Code (Begin) ====================================\n",
        "        # 1. set the status of trainig\n",
        "        # 2. Reset environment\n",
        "        # 3. roll out one episode living in the environment and save frames for getting render\n",
        "        # ==================================== Your Code (End) ====================================\n",
        "    \n",
        "    def _target_soft_update(self):\n",
        "        \"\"\"Soft-update: target = tau*local + (1-tau)*target.\"\"\"\n",
        "        # ==================================== Your Code (Begin) ====================================\n",
        "        \n",
        "        # ==================================== Your Code (End) ====================================\n",
        "    \n",
        "    def _plot(\n",
        "        self, \n",
        "        frame_idx: int, \n",
        "        scores: List[float], \n",
        "        actor_losses: List[float], \n",
        "        critic_losses: List[float], \n",
        "    ):\n",
        "        \"\"\"Plot the training progresses.\"\"\"\n",
        "        # ==================================== Your Code (Begin) ====================================\n",
        "         \n",
        "        # ==================================== Your Code (End) ===================================="
      ]
    },
    {
      "cell_type": "markdown",
      "metadata": {
        "id": "Ncwo8ekkEKxd"
      },
      "source": [
        "# Environment\n",
        "*ActionNormalizer* is an action wrapper class to normalize the action values ranged in (-1. 1). Thanks to this class, we can make the agent simply select action values within the zero centered range (-1, 1)."
      ]
    },
    {
      "cell_type": "code",
      "execution_count": null,
      "metadata": {
        "id": "2omZW-6CEKxd"
      },
      "outputs": [],
      "source": [
        "class ActionNormalizer(gym.ActionWrapper):\n",
        "    \"\"\"Rescale and relocate the actions.\"\"\"\n",
        "\n",
        "    def action(self, action: np.ndarray) -> np.ndarray:\n",
        "        \"\"\"Change the range (-1, 1) to (low, high).\"\"\"\n",
        "        # ==================================== Your Code (Begin) ====================================\n",
        "        \n",
        "        # ==================================== Your Code (End) ====================================\n",
        "\n",
        "    \n",
        "\n",
        "    def reverse_action(self, action: np.ndarray) -> np.ndarray:\n",
        "        \"\"\"Change the range (low, high) to (-1, 1).\"\"\"\n",
        "        # ==================================== Your Code (Begin) ====================================\n",
        "        \n",
        "        # ==================================== Your Code (End) ====================================\n"
      ]
    },
    {
      "cell_type": "markdown",
      "metadata": {
        "id": "cA1LxC3VEKxe"
      },
      "source": [
        "You can see [the code](https://github.com/openai/gym/blob/master/gym/envs/classic_control/pendulum.py) and [configurations](https://github.com/openai/gym/blob/cedecb35e3428985fd4efad738befeb75b9077f1/gym/envs/__init__.py#L81) of Pendulum-v1 from OpenAI's repository."
      ]
    },
    {
      "cell_type": "code",
      "execution_count": null,
      "metadata": {
        "id": "cwRS69ZmEKxe"
      },
      "outputs": [],
      "source": [
        "# environment\n",
        "env_id = \"Pendulum-v1\"\n",
        "env = gym.make(env_id)\n",
        "env = ActionNormalizer(env)\n",
        "env.seed(seed)"
      ]
    },
    {
      "cell_type": "markdown",
      "metadata": {
        "id": "4YPRqbybOEL2"
      },
      "source": [
        "# Train & Test "
      ]
    },
    {
      "cell_type": "markdown",
      "metadata": {
        "id": "vZpoVD0YEKxf"
      },
      "source": [
        "## Initialize"
      ]
    },
    {
      "cell_type": "code",
      "execution_count": null,
      "metadata": {
        "id": "sn6_VF1_EKxf"
      },
      "outputs": [],
      "source": [
        "# parameters\n",
        "num_frames = 50000\n",
        "memory_size = 20000\n",
        "batch_size = 128\n",
        "ou_noise_theta = 1.0\n",
        "ou_noise_sigma = 0.1\n",
        "initial_random_steps = 10000\n",
        "\n",
        "ppo_agent = PPOAgent(\n",
        "    env,\n",
        "    gamma = 0.9,\n",
        "    tau = 0.8,\n",
        "    batch_size = 64,\n",
        "    epsilon = 0.2,\n",
        "    epoch = 64,\n",
        "    rollout_len = 2048,\n",
        "    entropy_weight = 0.005\n",
        ")\n",
        "\n",
        "ddpg_agent = DDPGAgent(\n",
        "    env, \n",
        "    memory_size, \n",
        "    batch_size,\n",
        "    ou_noise_theta,\n",
        "    ou_noise_sigma,\n",
        "    initial_random_steps=initial_random_steps\n",
        ")"
      ]
    },
    {
      "cell_type": "markdown",
      "metadata": {
        "id": "tNvkDrZcEKxf"
      },
      "source": [
        "## Train PPO"
      ]
    },
    {
      "cell_type": "code",
      "execution_count": null,
      "metadata": {
        "id": "penPfG3tEKxg"
      },
      "outputs": [],
      "source": [
        "ppo_agent.train(num_frames)"
      ]
    },
    {
      "cell_type": "markdown",
      "metadata": {
        "id": "ivDH4ooWM7VO"
      },
      "source": [
        "## Train DDPG"
      ]
    },
    {
      "cell_type": "code",
      "execution_count": null,
      "metadata": {
        "id": "CluntoxKM5kF"
      },
      "outputs": [],
      "source": [
        "ddpg_agent.train(num_frames)"
      ]
    },
    {
      "cell_type": "markdown",
      "metadata": {
        "id": "VjtQZlM2EKxg"
      },
      "source": [
        "## Test"
      ]
    },
    {
      "cell_type": "code",
      "execution_count": null,
      "metadata": {
        "id": "hXMKIAX8EKxg"
      },
      "outputs": [],
      "source": [
        "# test\n",
        "if IN_COLAB:\n",
        "    ppo_agent.env = gym.wrappers.Monitor(ppo_agent.env, \"videos\", force=True)\n",
        "    ddpg_agent.env = gym.wrappers.Monitor(ddpg_agent.env, \"videos\", force=True)\n",
        "ppo_frames = ppo_agent.test()\n",
        "ddpg_frames = ddpg_agent.test()"
      ]
    },
    {
      "cell_type": "markdown",
      "metadata": {
        "id": "oZ9cZ8BwEKxg"
      },
      "source": [
        "## Render"
      ]
    },
    {
      "cell_type": "code",
      "execution_count": null,
      "metadata": {
        "id": "gVAiT74AEKxh"
      },
      "outputs": [],
      "source": [
        "if IN_COLAB:  # for colab\n",
        "    import base64\n",
        "    import glob\n",
        "    import io\n",
        "    import os\n",
        "\n",
        "    from IPython.display import HTML, display\n",
        "\n",
        "    def ipython_show_video(path: str) -> None:\n",
        "        \"\"\"Show a video at `path` within IPython Notebook.\"\"\"\n",
        "        if not os.path.isfile(path):\n",
        "            raise NameError(\"Cannot access: {}\".format(path))\n",
        "\n",
        "        video = io.open(path, \"r+b\").read()\n",
        "        encoded = base64.b64encode(video)\n",
        "\n",
        "        display(HTML(\n",
        "            data=\"\"\"\n",
        "            <video alt=\"test\" controls>\n",
        "            <source src=\"data:video/mp4;base64,{0}\" type=\"video/mp4\"/>\n",
        "            </video>\n",
        "            \"\"\".format(encoded.decode(\"ascii\"))\n",
        "        ))\n",
        "\n",
        "    list_of_files = glob.glob(\"videos/*.mp4\")\n",
        "    latest_file = max(list_of_files, key=os.path.getctime)\n",
        "    print(latest_file)\n",
        "    ipython_show_video(latest_file)\n",
        "\n",
        "else:  # for jupyter\n",
        "    from matplotlib import animation\n",
        "    from JSAnimation.IPython_display import display_animation\n",
        "    from IPython.display import display\n",
        "\n",
        "\n",
        "    def display_frames_as_gif(frames):\n",
        "        \"\"\"Displays a list of frames as a gif, with controls.\"\"\"\n",
        "        patch = plt.imshow(frames[0])\n",
        "        plt.axis('off')\n",
        "\n",
        "        def animate(i):\n",
        "            patch.set_data(frames[i])\n",
        "\n",
        "        anim = animation.FuncAnimation(\n",
        "            plt.gcf(), animate, frames = len(frames), interval=50\n",
        "        )\n",
        "        display(display_animation(anim, default_mode='loop'))\n",
        "\n",
        "\n",
        "    # display \n",
        "    display_frames_as_gif(ppo_frames)\n",
        "    display_frames_as_gif(ddpg_frames)"
      ]
    },
    {
      "cell_type": "code",
      "execution_count": null,
      "metadata": {
        "id": "igSqoIbdEKxh"
      },
      "outputs": [],
      "source": []
    }
  ],
  "metadata": {
    "accelerator": "GPU",
    "colab": {
      "provenance": [],
      "toc_visible": true
    },
    "gpuClass": "standard",
    "kernelspec": {
      "display_name": "Python 3",
      "name": "python3"
    },
    "language_info": {
      "name": "python"
    }
  },
  "nbformat": 4,
  "nbformat_minor": 0
}