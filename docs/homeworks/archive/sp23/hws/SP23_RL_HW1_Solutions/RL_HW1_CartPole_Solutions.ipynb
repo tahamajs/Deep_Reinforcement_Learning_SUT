{
  "nbformat": 4,
  "nbformat_minor": 0,
  "metadata": {
    "colab": {
      "provenance": []
    },
    "kernelspec": {
      "name": "python3",
      "display_name": "Python 3"
    },
    "language_info": {
      "name": "python"
    },
    "gpuClass": "standard"
  },
  "cells": [
    {
      "cell_type": "markdown",
      "source": [
        "# Installations and Imports"
      ],
      "metadata": {
        "id": "1ekcge5vHPpR"
      }
    },
    {
      "cell_type": "code",
      "execution_count": null,
      "metadata": {
        "colab": {
          "base_uri": "https://localhost:8080/"
        },
        "id": "iJ6K6gUyFP8v",
        "outputId": "b524a6f1-dcce-4602-ca63-69fcbadec9b3"
      },
      "outputs": [
        {
          "output_type": "stream",
          "name": "stdout",
          "text": [
            "Hit:1 https://cloud.r-project.org/bin/linux/ubuntu focal-cran40/ InRelease\n",
            "Ign:2 https://developer.download.nvidia.com/compute/machine-learning/repos/ubuntu2004/x86_64  InRelease\n",
            "Hit:3 https://developer.download.nvidia.com/compute/cuda/repos/ubuntu2004/x86_64  InRelease\n",
            "Hit:4 https://developer.download.nvidia.com/compute/machine-learning/repos/ubuntu2004/x86_64  Release\n",
            "Hit:5 http://archive.ubuntu.com/ubuntu focal InRelease\n",
            "Get:7 http://security.ubuntu.com/ubuntu focal-security InRelease [114 kB]\n",
            "Get:8 http://archive.ubuntu.com/ubuntu focal-updates InRelease [114 kB]\n",
            "Hit:9 http://ppa.launchpad.net/c2d4u.team/c2d4u4.0+/ubuntu focal InRelease\n",
            "Get:10 http://archive.ubuntu.com/ubuntu focal-backports InRelease [108 kB]\n",
            "Hit:11 http://ppa.launchpad.net/cran/libgit2/ubuntu focal InRelease\n",
            "Hit:12 http://ppa.launchpad.net/deadsnakes/ppa/ubuntu focal InRelease\n",
            "Hit:13 http://ppa.launchpad.net/graphics-drivers/ppa/ubuntu focal InRelease\n",
            "Fetched 336 kB in 3s (114 kB/s)\n",
            "Reading package lists... Done\n",
            "Looking in indexes: https://pypi.org/simple, https://us-python.pkg.dev/colab-wheels/public/simple/\n",
            "Requirement already satisfied: imageio==2.4.0 in /usr/local/lib/python3.8/dist-packages (2.4.0)\n",
            "Requirement already satisfied: numpy in /usr/local/lib/python3.8/dist-packages (from imageio==2.4.0) (1.21.6)\n",
            "Requirement already satisfied: pillow in /usr/local/lib/python3.8/dist-packages (from imageio==2.4.0) (7.1.2)\n",
            "Reading package lists... Done\n",
            "Building dependency tree       \n",
            "Reading state information... Done\n",
            "ffmpeg is already the newest version (7:4.2.7-0ubuntu0.1).\n",
            "xvfb is already the newest version (2:1.20.13-1ubuntu1~20.04.6).\n",
            "The following package was automatically installed and is no longer required:\n",
            "  libnvidia-common-510\n",
            "Use 'sudo apt autoremove' to remove it.\n",
            "0 upgraded, 0 newly installed, 0 to remove and 21 not upgraded.\n",
            "Looking in indexes: https://pypi.org/simple, https://us-python.pkg.dev/colab-wheels/public/simple/\n",
            "Requirement already satisfied: gymnasium[classic_control] in /usr/local/lib/python3.8/dist-packages (0.27.1)\n",
            "Requirement already satisfied: numpy>=1.21.0 in /usr/local/lib/python3.8/dist-packages (from gymnasium[classic_control]) (1.21.6)\n",
            "Requirement already satisfied: typing-extensions>=4.3.0 in /usr/local/lib/python3.8/dist-packages (from gymnasium[classic_control]) (4.4.0)\n",
            "Requirement already satisfied: importlib-metadata>=4.8.0 in /usr/local/lib/python3.8/dist-packages (from gymnasium[classic_control]) (6.0.0)\n",
            "Requirement already satisfied: cloudpickle>=1.2.0 in /usr/local/lib/python3.8/dist-packages (from gymnasium[classic_control]) (2.2.1)\n",
            "Requirement already satisfied: gymnasium-notices>=0.0.1 in /usr/local/lib/python3.8/dist-packages (from gymnasium[classic_control]) (0.0.1)\n",
            "Requirement already satisfied: jax-jumpy>=0.2.0 in /usr/local/lib/python3.8/dist-packages (from gymnasium[classic_control]) (0.2.0)\n",
            "Requirement already satisfied: pygame==2.1.3.dev8 in /usr/local/lib/python3.8/dist-packages (from gymnasium[classic_control]) (2.1.3.dev8)\n",
            "Requirement already satisfied: zipp>=0.5 in /usr/local/lib/python3.8/dist-packages (from importlib-metadata>=4.8.0->gymnasium[classic_control]) (3.12.0)\n"
          ]
        }
      ],
      "source": [
        "!sudo apt-get update\n",
        "!pip install 'imageio==2.4.0'\n",
        "!sudo apt-get install -y xvfb ffmpeg\n",
        "!pip3 install gymnasium[classic_control]"
      ]
    },
    {
      "cell_type": "code",
      "source": [
        "import math\n",
        "import base64\n",
        "import random\n",
        "import imageio\n",
        "import IPython\n",
        "import matplotlib\n",
        "import gymnasium as gym\n",
        "from itertools import count\n",
        "import matplotlib.pyplot as plt\n",
        "from collections import namedtuple, deque\n",
        "\n",
        "import torch\n",
        "import torch.nn as nn\n",
        "import torch.optim as optim\n",
        "import torch.nn.functional as F\n",
        "\n",
        "DEVICE = torch.device(\"cuda\" if torch.cuda.is_available() else \"cpu\")"
      ],
      "metadata": {
        "id": "lzUJnJrQEN1r"
      },
      "execution_count": null,
      "outputs": []
    },
    {
      "cell_type": "markdown",
      "source": [
        "# Utility functions for rendering evironment"
      ],
      "metadata": {
        "id": "csY30Op-HVgu"
      }
    },
    {
      "cell_type": "code",
      "source": [
        "def embed_mp4(filename):\n",
        "  \n",
        "    video = open(filename,'rb').read()\n",
        "    b64 = base64.b64encode(video)\n",
        "    tag = '''\n",
        "    <video width=\"640\" height=\"480\" controls>\n",
        "    <source src=\"data:video/mp4;base64,{0}\" type=\"video/mp4\">\n",
        "    Your browser does not support the video tag.\n",
        "    </video>'''.format(b64.decode())\n",
        "    \n",
        "    return IPython.display.HTML(tag)"
      ],
      "metadata": {
        "id": "B_g_w4-VFqXz"
      },
      "execution_count": null,
      "outputs": []
    },
    {
      "cell_type": "code",
      "source": [
        "def create_policy_eval_video(env, policy, filename, num_episodes=1, fps=30):\n",
        "  \n",
        "    filename = filename + \".mp4\"\n",
        "    with imageio.get_writer(filename, fps=fps) as video:\n",
        "        for _ in range(num_episodes):\n",
        "            state, info = env.reset()\n",
        "            video.append_data(env.render())\n",
        "            while True:\n",
        "                state = torch.from_numpy(state).unsqueeze(0).to(DEVICE)\n",
        "                action = policy(state)\n",
        "                state, reward, terminated, truncated, _ = env.step(action.item())\n",
        "                video.append_data(env.render())\n",
        "                if terminated:\n",
        "                    break\n",
        "    return embed_mp4(filename)"
      ],
      "metadata": {
        "id": "IH96rj7THfsS"
      },
      "execution_count": null,
      "outputs": []
    },
    {
      "cell_type": "markdown",
      "source": [
        "# Replay Memory and Q-Network"
      ],
      "metadata": {
        "id": "ozFEZ_bqH71W"
      }
    },
    {
      "cell_type": "code",
      "source": [
        "class ReplayMemory(object):\n",
        "\n",
        "    def __init__(self, capacity):\n",
        "        self.memory = deque([], maxlen=capacity)\n",
        "\n",
        "    def push(self, transition):\n",
        "        self.memory.append(transition)\n",
        "\n",
        "    def sample(self, batch_size):\n",
        "        return random.sample(self.memory, batch_size)\n",
        "\n",
        "    def __len__(self):\n",
        "        return len(self.memory)"
      ],
      "metadata": {
        "id": "84EJUO1JH7h4"
      },
      "execution_count": null,
      "outputs": []
    },
    {
      "cell_type": "code",
      "source": [
        "# Complete the Q-Network below. \n",
        "# The Q-Network takes a state as input and the output is a vector so that each element is the q-value for an action.\n",
        "\n",
        "class DQN(nn.Module):\n",
        "\n",
        "    def __init__(self, n_observations, n_actions):\n",
        "        super(DQN, self).__init__()\n",
        "        # ==================================== Your Code (Begin) ====================================\n",
        "        self.layer1 = nn.Linear(n_observations, 128)\n",
        "        self.layer2 = nn.Linear(128, 128)\n",
        "        self.layer3 = nn.Linear(128, n_actions)\n",
        "        # ==================================== Your Code (End) ====================================\n",
        "\n",
        "    def forward(self, x):\n",
        "        # ==================================== Your Code (Begin) ====================================\n",
        "        x = F.relu(self.layer1(x))\n",
        "        x = F.relu(self.layer2(x))\n",
        "        return self.layer3(x)\n",
        "        # ==================================== Your Code (End) ===================================="
      ],
      "metadata": {
        "id": "WD_Av2C7IIZ4"
      },
      "execution_count": null,
      "outputs": []
    },
    {
      "cell_type": "markdown",
      "source": [
        "# Policies"
      ],
      "metadata": {
        "id": "f_ZW4F6SQeMZ"
      }
    },
    {
      "cell_type": "markdown",
      "source": [
        "Now we define 2 policies. We use greedy policy for evaluation and e-greedy during training."
      ],
      "metadata": {
        "id": "XJ6SfSblT_6f"
      }
    },
    {
      "cell_type": "code",
      "source": [
        "# This function takes in a state and returns the best action according to your q-network.\n",
        "# Don't forget \"torch.no_grad()\". We don't want gradient flowing through our network. \n",
        "\n",
        "# state shape: (1, state_size) -> output shape: (1, 1)  \n",
        "def greedy_policy(qnet, state):\n",
        "    # ==================================== Your Code (Begin) ====================================\n",
        "    with torch.no_grad():\n",
        "        return qnet(state).max(1)[1].view(1, 1)\n",
        "    # ==================================== Your Code (End) ===================================="
      ],
      "metadata": {
        "id": "fokLsyg5Qc41"
      },
      "execution_count": null,
      "outputs": []
    },
    {
      "cell_type": "code",
      "source": [
        "# state shape: (1, state_size) -> output shape: (1, 1)\n",
        "# Don't forget \"torch.no_grad()\". We don't want gradient flowing through our network.\n",
        "\n",
        "def e_greedy_policy(qnet, state, current_timestep):\n",
        "    \n",
        "    eps_threshold = EPS_END + (EPS_START - EPS_END) * math.exp(-1. * current_timestep / EPS_DECAY)\n",
        "    # ==================================== Your Code (Begin) ====================================\n",
        "    # With probability \"eps_threshold\" choose a random action \n",
        "    # and with probability 1-\"eps_threshold\" choose the best action according to your Q-Network.\n",
        "    \n",
        "    sample = random.random()\n",
        "    if sample < eps_threshold:\n",
        "        return torch.tensor([[env.action_space.sample()]], device=device, dtype=torch.long)\n",
        "    else:\n",
        "        return greedy_policy(qnet, state)\n",
        "    # ==================================== Your Code (End) ===================================="
      ],
      "metadata": {
        "id": "_iE-12xgRc2y"
      },
      "execution_count": null,
      "outputs": []
    },
    {
      "cell_type": "markdown",
      "source": [
        "# Initial setup"
      ],
      "metadata": {
        "id": "0PvG1MpOK9mX"
      }
    },
    {
      "cell_type": "code",
      "source": [
        "BATCH_SIZE = 128\n",
        "GAMMA = 0.99\n",
        "EPS_START = 0.9\n",
        "EPS_END = 0.05\n",
        "EPS_DECAY = 1000\n",
        "TAU = 0.005\n",
        "LR = 1e-4\n",
        "\n",
        "device = torch.device(\"cuda\" if torch.cuda.is_available() else \"cpu\")\n",
        "env = gym.make(\"CartPole-v1\", render_mode='rgb_array')\n",
        "n_actions = env.action_space.n\n",
        "state, info = env.reset()\n",
        "n_observations = len(state)\n",
        "q_network = DQN(n_observations, n_actions).to(device)\n",
        "target_network = DQN(n_observations, n_actions).to(device)\n",
        "optimizer = optim.Adam(q_network.parameters(), lr=LR)\n",
        "memory = ReplayMemory(10000)\n",
        "\n",
        "create_policy_eval_video(env, lambda s: greedy_policy(q_network, s), \"random_agent\")"
      ],
      "metadata": {
        "colab": {
          "base_uri": "https://localhost:8080/",
          "height": 539
        },
        "id": "5Sc1a-6ZLAE1",
        "outputId": "023fab53-d9e4-45f4-8f04-e362b6b90ba9"
      },
      "execution_count": null,
      "outputs": [
        {
          "output_type": "stream",
          "name": "stderr",
          "text": [
            "WARNING:root:IMAGEIO FFMPEG_WRITER WARNING: input image is not divisible by macro_block_size=16, resizing from (400, 600) to (400, 608) to ensure video compatibility with most codecs and players. To prevent resizing, make your input image divisible by the macro_block_size or set the macro_block_size to None (risking incompatibility). You may also see a FFMPEG warning concerning speedloss due to data not being aligned.\n"
          ]
        },
        {
          "output_type": "execute_result",
          "data": {
            "text/plain": [
              "<IPython.core.display.HTML object>"
            ],
            "text/html": [
              "\n",
              "    <video width=\"640\" height=\"480\" controls>\n",
              "    <source src=\"data:video/mp4;base64,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\" type=\"video/mp4\">\n",
              "    Your browser does not support the video tag.\n",
              "    </video>"
            ]
          },
          "metadata": {},
          "execution_count": 21
        }
      ]
    },
    {
      "cell_type": "markdown",
      "source": [
        "# Training"
      ],
      "metadata": {
        "id": "yWq08ZENXx6h"
      }
    },
    {
      "cell_type": "code",
      "source": [
        "num_episodes = 200\n",
        "episode_returns = []\n",
        "episode_durations = []\n",
        "\n",
        "for i_episode in range(num_episodes):\n",
        "\n",
        "    # ==================================== Your Code (Begin) ====================================\n",
        "    # 1. Start a new episode\n",
        "    # 2. Run the environment for 1 step using e-greedy policy\n",
        "    # 3. Add the (state, action, next_state, reward) to replay memory\n",
        "    # 4. Optimize your q_network for 1 iteration\n",
        "    #       4.1 Sample one batch from replay memory\n",
        "    #       4.2 Compute predicted state-action values using q_network\n",
        "    #       4.3 Compute expected state-action values using target_network (Don't forget \"no_grad\" because we don't want gradient through target_network)\n",
        "    #       4.4 Compute loss function and optimize q_network for 1 step\n",
        "    # 5. Soft update the weights of target_network\n",
        "    #       θ′ ← τ θ + (1 −τ )θ′\n",
        "    #       θ   is q_network weights\n",
        "    #       θ′  is target_network weights            \n",
        "    # 6. Keep track of the total reward for each episode to plot later\n",
        "\n",
        "    state, info = env.reset()\n",
        "    state = torch.from_numpy(state).unsqueeze(0).to(DEVICE)\n",
        "    timestep = 0\n",
        "    current_return = 0.0\n",
        "\n",
        "    while True:\n",
        "\n",
        "        action = e_greedy_policy(q_network, state, timestep)\n",
        "        next_state, reward, terminated, truncated, _ = env.step(action.item())\n",
        "        next_state = torch.from_numpy(next_state).unsqueeze(0).to(DEVICE)\n",
        "        reward = torch.tensor([[reward]])\n",
        "        current_return += reward * (GAMMA ** timestep)\n",
        "        timestep += 1\n",
        "        if terminated:\n",
        "            next_state = None\n",
        "        memory.push([state, action, next_state, reward])\n",
        "        state = next_state\n",
        "        \n",
        "        if len(memory) >= BATCH_SIZE:\n",
        "            batch = memory.sample(BATCH_SIZE)\n",
        "            predicted_values = torch.zeros((BATCH_SIZE, )).to(DEVICE)\n",
        "            expected_values = torch.zeros((BATCH_SIZE, )).to(DEVICE)\n",
        "            for i, b in enumerate(batch):\n",
        "                predicted_values[i] = q_network(b[0])[0, b[1][0, 0].item()]\n",
        "                if b[2] is None:\n",
        "                    expected_values[i] = b[3].item()\n",
        "                else:\n",
        "                    expected_values[i] = b[3].item() + GAMMA * (target_network(b[2]).max(1)[0]).item()\n",
        "            \n",
        "            criterion = nn.SmoothL1Loss()\n",
        "            loss = criterion(predicted_values, expected_values)\n",
        "            optimizer.zero_grad()\n",
        "            loss.backward()\n",
        "            torch.nn.utils.clip_grad_value_(q_network.parameters(), 100)\n",
        "            optimizer.step()\n",
        "\n",
        "        # Step 5: Soft-updating target_network weights\n",
        "        target_net_state_dict = target_network.state_dict()\n",
        "        policy_net_state_dict = q_network.state_dict()\n",
        "        for key in policy_net_state_dict:\n",
        "            target_net_state_dict[key] = policy_net_state_dict[key]*TAU + target_net_state_dict[key]*(1-TAU)\n",
        "        target_network.load_state_dict(target_net_state_dict)\n",
        "\n",
        "        if terminated:\n",
        "            episode_returns.append(current_return)\n",
        "            episode_durations.append(timestep)\n",
        "            print(f'Episode {i_episode+1}: Return: {current_return} - Duration: {timestep}')\n",
        "            timestep = 0\n",
        "            current_return = 0.0\n",
        "            break\n",
        "    \n",
        "    # ==================================== Your Code (End) ====================================  \n",
        "\n",
        "print('Complete')\n",
        "plt.plot(range(1, num_episodes+1), episode_durations)"
      ],
      "metadata": {
        "colab": {
          "base_uri": "https://localhost:8080/",
          "height": 1000
        },
        "id": "USGbCrKbFusn",
        "outputId": "637da598-4626-4f28-a0ee-0d165a3129fa"
      },
      "execution_count": null,
      "outputs": [
        {
          "output_type": "stream",
          "name": "stdout",
          "text": [
            "Episode 1: Return: tensor([[28.2269]]) - Duration: 33\n",
            "Episode 2: Return: tensor([[19.0272]]) - Duration: 21\n",
            "Episode 3: Return: tensor([[13.9942]]) - Duration: 15\n",
            "Episode 4: Return: tensor([[21.4322]]) - Duration: 24\n",
            "Episode 5: Return: tensor([[22.2179]]) - Duration: 25\n",
            "Episode 6: Return: tensor([[16.5486]]) - Duration: 18\n",
            "Episode 7: Return: tensor([[13.9942]]) - Duration: 15\n",
            "Episode 8: Return: tensor([[26.0300]]) - Duration: 30\n",
            "Episode 9: Return: tensor([[16.5486]]) - Duration: 18\n",
            "Episode 10: Return: tensor([[19.0272]]) - Duration: 21\n",
            "Episode 11: Return: tensor([[19.0272]]) - Duration: 21\n",
            "Episode 12: Return: tensor([[21.4322]]) - Duration: 24\n",
            "Episode 13: Return: tensor([[9.5618]]) - Duration: 10\n",
            "Episode 14: Return: tensor([[14.8542]]) - Duration: 16\n",
            "Episode 15: Return: tensor([[30.3587]]) - Duration: 36\n",
            "Episode 16: Return: tensor([[18.2093]]) - Duration: 20\n",
            "Episode 17: Return: tensor([[10.4662]]) - Duration: 11\n",
            "Episode 18: Return: tensor([[11.3615]]) - Duration: 12\n",
            "Episode 19: Return: tensor([[15.7057]]) - Duration: 17\n",
            "Episode 20: Return: tensor([[28.9447]]) - Duration: 34\n",
            "Episode 21: Return: tensor([[19.0272]]) - Duration: 21\n",
            "Episode 22: Return: tensor([[9.5618]]) - Duration: 10\n",
            "Episode 23: Return: tensor([[20.6386]]) - Duration: 23\n",
            "Episode 24: Return: tensor([[8.6483]]) - Duration: 9\n",
            "Episode 25: Return: tensor([[31.0551]]) - Duration: 37\n",
            "Episode 26: Return: tensor([[15.7057]]) - Duration: 17\n",
            "Episode 27: Return: tensor([[15.7057]]) - Duration: 17\n",
            "Episode 28: Return: tensor([[13.9942]]) - Duration: 15\n",
            "Episode 29: Return: tensor([[10.4662]]) - Duration: 11\n",
            "Episode 30: Return: tensor([[9.5618]]) - Duration: 10\n",
            "Episode 31: Return: tensor([[13.1254]]) - Duration: 14\n",
            "Episode 32: Return: tensor([[26.7697]]) - Duration: 31\n",
            "Episode 33: Return: tensor([[13.1254]]) - Duration: 14\n",
            "Episode 34: Return: tensor([[17.3831]]) - Duration: 19\n",
            "Episode 35: Return: tensor([[18.2093]]) - Duration: 20\n",
            "Episode 36: Return: tensor([[12.2479]]) - Duration: 13\n",
            "Episode 37: Return: tensor([[9.5618]]) - Duration: 10\n",
            "Episode 38: Return: tensor([[29.6552]]) - Duration: 35\n",
            "Episode 39: Return: tensor([[14.8542]]) - Duration: 16\n",
            "Episode 40: Return: tensor([[10.4662]]) - Duration: 11\n",
            "Episode 41: Return: tensor([[31.7445]]) - Duration: 38\n",
            "Episode 42: Return: tensor([[12.2479]]) - Duration: 13\n",
            "Episode 43: Return: tensor([[68.8339]]) - Duration: 116\n",
            "Episode 44: Return: tensor([[15.7057]]) - Duration: 17\n",
            "Episode 45: Return: tensor([[19.0272]]) - Duration: 21\n",
            "Episode 46: Return: tensor([[33.7718]]) - Duration: 41\n",
            "Episode 47: Return: tensor([[16.5486]]) - Duration: 18\n",
            "Episode 48: Return: tensor([[15.7057]]) - Duration: 17\n",
            "Episode 49: Return: tensor([[25.2828]]) - Duration: 29\n",
            "Episode 50: Return: tensor([[10.4662]]) - Duration: 11\n",
            "Episode 51: Return: tensor([[28.9447]]) - Duration: 34\n",
            "Episode 52: Return: tensor([[14.8542]]) - Duration: 16\n",
            "Episode 53: Return: tensor([[14.8542]]) - Duration: 16\n",
            "Episode 54: Return: tensor([[11.3615]]) - Duration: 12\n",
            "Episode 55: Return: tensor([[10.4662]]) - Duration: 11\n",
            "Episode 56: Return: tensor([[16.5486]]) - Duration: 18\n",
            "Episode 57: Return: tensor([[17.3831]]) - Duration: 19\n",
            "Episode 58: Return: tensor([[13.1254]]) - Duration: 14\n",
            "Episode 59: Return: tensor([[19.8369]]) - Duration: 22\n",
            "Episode 60: Return: tensor([[12.2479]]) - Duration: 13\n",
            "Episode 61: Return: tensor([[17.3831]]) - Duration: 19\n",
            "Episode 62: Return: tensor([[30.3587]]) - Duration: 36\n",
            "Episode 63: Return: tensor([[31.7445]]) - Duration: 38\n",
            "Episode 64: Return: tensor([[10.4662]]) - Duration: 11\n",
            "Episode 65: Return: tensor([[19.0272]]) - Duration: 21\n",
            "Episode 66: Return: tensor([[8.6483]]) - Duration: 9\n",
            "Episode 67: Return: tensor([[21.4322]]) - Duration: 24\n",
            "Episode 68: Return: tensor([[19.8369]]) - Duration: 22\n",
            "Episode 69: Return: tensor([[45.2843]]) - Duration: 60\n",
            "Episode 70: Return: tensor([[12.2479]]) - Duration: 13\n",
            "Episode 71: Return: tensor([[40.7034]]) - Duration: 52\n",
            "Episode 72: Return: tensor([[12.2479]]) - Duration: 13\n",
            "Episode 73: Return: tensor([[15.7057]]) - Duration: 17\n",
            "Episode 74: Return: tensor([[9.5618]]) - Duration: 10\n",
            "Episode 75: Return: tensor([[13.1254]]) - Duration: 14\n",
            "Episode 76: Return: tensor([[30.3587]]) - Duration: 36\n",
            "Episode 77: Return: tensor([[17.3831]]) - Duration: 19\n",
            "Episode 78: Return: tensor([[22.9957]]) - Duration: 26\n",
            "Episode 79: Return: tensor([[44.7316]]) - Duration: 59\n",
            "Episode 80: Return: tensor([[26.7697]]) - Duration: 31\n",
            "Episode 81: Return: tensor([[11.3615]]) - Duration: 12\n",
            "Episode 82: Return: tensor([[19.8369]]) - Duration: 22\n",
            "Episode 83: Return: tensor([[10.4662]]) - Duration: 11\n",
            "Episode 84: Return: tensor([[16.5486]]) - Duration: 18\n",
            "Episode 85: Return: tensor([[43.0399]]) - Duration: 56\n",
            "Episode 86: Return: tensor([[11.3615]]) - Duration: 12\n",
            "Episode 87: Return: tensor([[16.5486]]) - Duration: 18\n",
            "Episode 88: Return: tensor([[45.2843]]) - Duration: 60\n",
            "Episode 89: Return: tensor([[25.2828]]) - Duration: 29\n",
            "Episode 90: Return: tensor([[35.0897]]) - Duration: 43\n",
            "Episode 91: Return: tensor([[37.0176]]) - Duration: 46\n",
            "Episode 92: Return: tensor([[43.6095]]) - Duration: 57\n",
            "Episode 93: Return: tensor([[19.8369]]) - Duration: 22\n",
            "Episode 94: Return: tensor([[22.9957]]) - Duration: 26\n",
            "Episode 95: Return: tensor([[20.6386]]) - Duration: 23\n",
            "Episode 96: Return: tensor([[15.7057]]) - Duration: 17\n",
            "Episode 97: Return: tensor([[12.2479]]) - Duration: 13\n",
            "Episode 98: Return: tensor([[14.8542]]) - Duration: 16\n",
            "Episode 99: Return: tensor([[22.2179]]) - Duration: 25\n",
            "Episode 100: Return: tensor([[21.4322]]) - Duration: 24\n",
            "Episode 101: Return: tensor([[18.2093]]) - Duration: 20\n",
            "Episode 102: Return: tensor([[11.3615]]) - Duration: 12\n",
            "Episode 103: Return: tensor([[11.3615]]) - Duration: 12\n",
            "Episode 104: Return: tensor([[13.1254]]) - Duration: 14\n",
            "Episode 105: Return: tensor([[41.8834]]) - Duration: 54\n",
            "Episode 106: Return: tensor([[13.9942]]) - Duration: 15\n",
            "Episode 107: Return: tensor([[25.2828]]) - Duration: 29\n",
            "Episode 108: Return: tensor([[38.2710]]) - Duration: 48\n",
            "Episode 109: Return: tensor([[15.7057]]) - Duration: 17\n",
            "Episode 110: Return: tensor([[10.4662]]) - Duration: 11\n",
            "Episode 111: Return: tensor([[26.0300]]) - Duration: 30\n",
            "Episode 112: Return: tensor([[16.5486]]) - Duration: 18\n",
            "Episode 113: Return: tensor([[25.2828]]) - Duration: 29\n",
            "Episode 114: Return: tensor([[14.8542]]) - Duration: 16\n",
            "Episode 115: Return: tensor([[19.8369]]) - Duration: 22\n",
            "Episode 116: Return: tensor([[12.2479]]) - Duration: 13\n",
            "Episode 117: Return: tensor([[20.6386]]) - Duration: 23\n",
            "Episode 118: Return: tensor([[13.1254]]) - Duration: 14\n",
            "Episode 119: Return: tensor([[12.2479]]) - Duration: 13\n",
            "Episode 120: Return: tensor([[11.3615]]) - Duration: 12\n",
            "Episode 121: Return: tensor([[19.0272]]) - Duration: 21\n",
            "Episode 122: Return: tensor([[24.5281]]) - Duration: 28\n",
            "Episode 123: Return: tensor([[14.8542]]) - Duration: 16\n",
            "Episode 124: Return: tensor([[15.7057]]) - Duration: 17\n",
            "Episode 125: Return: tensor([[14.8542]]) - Duration: 16\n",
            "Episode 126: Return: tensor([[32.4271]]) - Duration: 39\n",
            "Episode 127: Return: tensor([[14.8542]]) - Duration: 16\n",
            "Episode 128: Return: tensor([[25.2828]]) - Duration: 29\n",
            "Episode 129: Return: tensor([[19.8369]]) - Duration: 22\n",
            "Episode 130: Return: tensor([[10.4662]]) - Duration: 11\n",
            "Episode 131: Return: tensor([[22.9957]]) - Duration: 26\n",
            "Episode 132: Return: tensor([[26.7697]]) - Duration: 31\n",
            "Episode 133: Return: tensor([[20.6386]]) - Duration: 23\n",
            "Episode 134: Return: tensor([[29.6552]]) - Duration: 35\n",
            "Episode 135: Return: tensor([[22.9957]]) - Duration: 26\n",
            "Episode 136: Return: tensor([[14.8542]]) - Duration: 16\n",
            "Episode 137: Return: tensor([[37.6475]]) - Duration: 47\n",
            "Episode 138: Return: tensor([[13.9942]]) - Duration: 15\n",
            "Episode 139: Return: tensor([[51.5009]]) - Duration: 72\n",
            "Episode 140: Return: tensor([[36.3814]]) - Duration: 45\n",
            "Episode 141: Return: tensor([[55.2477]]) - Duration: 80\n",
            "Episode 142: Return: tensor([[20.6386]]) - Duration: 23\n",
            "Episode 143: Return: tensor([[19.0272]]) - Duration: 21\n",
            "Episode 144: Return: tensor([[16.5486]]) - Duration: 18\n",
            "Episode 145: Return: tensor([[16.5486]]) - Duration: 18\n",
            "Episode 146: Return: tensor([[43.0399]]) - Duration: 56\n",
            "Episode 147: Return: tensor([[19.0272]]) - Duration: 21\n",
            "Episode 148: Return: tensor([[22.2179]]) - Duration: 25\n",
            "Episode 149: Return: tensor([[18.2093]]) - Duration: 20\n",
            "Episode 150: Return: tensor([[15.7057]]) - Duration: 17\n",
            "Episode 151: Return: tensor([[33.7718]]) - Duration: 41\n",
            "Episode 152: Return: tensor([[14.8542]]) - Duration: 16\n",
            "Episode 153: Return: tensor([[14.8542]]) - Duration: 16\n",
            "Episode 154: Return: tensor([[34.4341]]) - Duration: 42\n",
            "Episode 155: Return: tensor([[15.7057]]) - Duration: 17\n",
            "Episode 156: Return: tensor([[18.2093]]) - Duration: 20\n",
            "Episode 157: Return: tensor([[43.6095]]) - Duration: 57\n",
            "Episode 158: Return: tensor([[12.2479]]) - Duration: 13\n",
            "Episode 159: Return: tensor([[38.8883]]) - Duration: 49\n",
            "Episode 160: Return: tensor([[27.5020]]) - Duration: 32\n",
            "Episode 161: Return: tensor([[26.7697]]) - Duration: 31\n",
            "Episode 162: Return: tensor([[14.8542]]) - Duration: 16\n",
            "Episode 163: Return: tensor([[13.9942]]) - Duration: 15\n",
            "Episode 164: Return: tensor([[45.8315]]) - Duration: 61\n",
            "Episode 165: Return: tensor([[17.3831]]) - Duration: 19\n",
            "Episode 166: Return: tensor([[8.6483]]) - Duration: 9\n",
            "Episode 167: Return: tensor([[15.7057]]) - Duration: 17\n",
            "Episode 168: Return: tensor([[15.7057]]) - Duration: 17\n",
            "Episode 169: Return: tensor([[19.8369]]) - Duration: 22\n",
            "Episode 170: Return: tensor([[31.0551]]) - Duration: 37\n",
            "Episode 171: Return: tensor([[14.8542]]) - Duration: 16\n",
            "Episode 172: Return: tensor([[21.4322]]) - Duration: 24\n",
            "Episode 173: Return: tensor([[22.2179]]) - Duration: 25\n",
            "Episode 174: Return: tensor([[24.5281]]) - Duration: 28\n",
            "Episode 175: Return: tensor([[13.1254]]) - Duration: 14\n",
            "Episode 176: Return: tensor([[16.5486]]) - Duration: 18\n",
            "Episode 177: Return: tensor([[20.6386]]) - Duration: 23\n",
            "Episode 178: Return: tensor([[12.2479]]) - Duration: 13\n",
            "Episode 179: Return: tensor([[10.4662]]) - Duration: 11\n",
            "Episode 180: Return: tensor([[21.4322]]) - Duration: 24\n",
            "Episode 181: Return: tensor([[11.3615]]) - Duration: 12\n",
            "Episode 182: Return: tensor([[13.1254]]) - Duration: 14\n",
            "Episode 183: Return: tensor([[19.0272]]) - Duration: 21\n",
            "Episode 184: Return: tensor([[26.7697]]) - Duration: 31\n",
            "Episode 185: Return: tensor([[13.1254]]) - Duration: 14\n",
            "Episode 186: Return: tensor([[31.7445]]) - Duration: 38\n",
            "Episode 187: Return: tensor([[22.9957]]) - Duration: 26\n",
            "Episode 188: Return: tensor([[39.4994]]) - Duration: 50\n",
            "Episode 189: Return: tensor([[22.9957]]) - Duration: 26\n",
            "Episode 190: Return: tensor([[15.7057]]) - Duration: 17\n",
            "Episode 191: Return: tensor([[11.3615]]) - Duration: 12\n",
            "Episode 192: Return: tensor([[61.8953]]) - Duration: 96\n",
            "Episode 193: Return: tensor([[36.3814]]) - Duration: 45\n",
            "Episode 194: Return: tensor([[29.6552]]) - Duration: 35\n",
            "Episode 195: Return: tensor([[26.0300]]) - Duration: 30\n",
            "Episode 196: Return: tensor([[19.8369]]) - Duration: 22\n",
            "Episode 197: Return: tensor([[16.5486]]) - Duration: 18\n",
            "Episode 198: Return: tensor([[30.3587]]) - Duration: 36\n",
            "Episode 199: Return: tensor([[31.7445]]) - Duration: 38\n",
            "Episode 200: Return: tensor([[13.1254]]) - Duration: 14\n",
            "Complete\n"
          ]
        },
        {
          "output_type": "execute_result",
          "data": {
            "text/plain": [
              "[<matplotlib.lines.Line2D at 0x7f552eb49640>]"
            ]
          },
          "metadata": {},
          "execution_count": 24
        },
        {
          "output_type": "display_data",
          "data": {
            "text/plain": [
              "<Figure size 432x288 with 1 Axes>"
            ],
            "image/png": "[encoded data removed]"
          },
          "metadata": {
            "needs_background": "light"
          }
        }
      ]
    },
    {
      "cell_type": "code",
      "source": [
        "# Render trained model\n",
        "\n",
        "create_policy_eval_video(env, lambda s: greedy_policy(q_network, s), \"trained_agent\")"
      ],
      "metadata": {
        "colab": {
          "base_uri": "https://localhost:8080/",
          "height": 539
        },
        "id": "1s50clnmF_az",
        "outputId": "9ba83866-f303-4b75-bbfb-88fdb2a0e934"
      },
      "execution_count": null,
      "outputs": [
        {
          "output_type": "stream",
          "name": "stderr",
          "text": [
            "WARNING:root:IMAGEIO FFMPEG_WRITER WARNING: input image is not divisible by macro_block_size=16, resizing from (400, 600) to (400, 608) to ensure video compatibility with most codecs and players. To prevent resizing, make your input image divisible by the macro_block_size or set the macro_block_size to None (risking incompatibility). You may also see a FFMPEG warning concerning speedloss due to data not being aligned.\n"
          ]
        },
        {
          "output_type": "execute_result",
          "data": {
            "text/plain": [
              "<IPython.core.display.HTML object>"
            ],
            "text/html": [
              "\n",
              "    <video width=\"640\" height=\"480\" controls>\n",
              "    <source src=\"data:video/mp4;base64,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\" type=\"video/mp4\">\n",
              "    Your browser does not support the video tag.\n",
              "    </video>"
            ]
          },
          "metadata": {},
          "execution_count": 25
        }
      ]
    },
    {
      "cell_type": "code",
      "source": [],
      "metadata": {
        "id": "uM5dPBUyEHQe"
      },
      "execution_count": null,
      "outputs": []
    }
  ]
}