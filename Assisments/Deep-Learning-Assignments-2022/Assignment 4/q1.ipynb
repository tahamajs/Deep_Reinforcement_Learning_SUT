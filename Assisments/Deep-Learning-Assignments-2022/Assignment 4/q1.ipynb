{
  "cells": [
    {
      "cell_type": "markdown",
      "metadata": {
        "id": "view-in-github",
        "colab_type": "text"
      },
      "source": [
        "<a href=\"https://colab.research.google.com/github/saeedzou/DeepLearning1401-01/blob/main/Assignment%204/q1.ipynb\" target=\"_parent\"><img src=\"https://colab.research.google.com/assets/colab-badge.svg\" alt=\"Open In Colab\"/></a>"
      ]
    },
    {
      "cell_type": "code",
      "execution_count": 1,
      "metadata": {
        "colab": {
          "base_uri": "https://localhost:8080/"
        },
        "id": "43XEpWwu9ZQH",
        "outputId": "d62ac808-085d-422e-c4fa-4e8d5cfeda9e"
      },
      "outputs": [
        {
          "output_type": "stream",
          "name": "stderr",
          "text": [
            "[nltk_data] Downloading package punkt to /root/nltk_data...\n",
            "[nltk_data]   Unzipping tokenizers/punkt.zip.\n"
          ]
        }
      ],
      "source": [
        "# import necessary libraries for pytorch to train a sequence-to-sequence model using LSTM cells to generate poems of Ferdousi\n",
        "# the dataset is in ferdousi.txt which is in persian\n",
        "# the model is trained on a GPU\n",
        "import torch\n",
        "import torch.nn as nn\n",
        "import torch.nn.functional as F\n",
        "import torch.optim as optim\n",
        "import numpy as np\n",
        "import matplotlib.pyplot as plt\n",
        "import nltk\n",
        "nltk.download('punkt')\n",
        "from nltk.tokenize import word_tokenize\n",
        "from nltk.tokenize import sent_tokenize\n",
        "# # for persian\n",
        "# !pip install hazm -q\n",
        "# from hazm import *\n",
        "import string\n",
        "from collections import Counter\n",
        "import random"
      ]
    },
    {
      "cell_type": "code",
      "execution_count": 2,
      "metadata": {
        "colab": {
          "base_uri": "https://localhost:8080/"
        },
        "id": "GxNjFSQr9dmh",
        "outputId": "b9709c23-eea2-48d5-dcd6-a4418f584dba"
      },
      "outputs": [
        {
          "output_type": "stream",
          "name": "stdout",
          "text": [
            "Cloning into 'Persian_poems_corpus'...\n",
            "remote: Enumerating objects: 159, done.\u001b[K\n",
            "remote: Total 159 (delta 0), reused 0 (delta 0), pack-reused 159\u001b[K\n",
            "Receiving objects: 100% (159/159), 45.21 MiB | 11.20 MiB/s, done.\n",
            "Resolving deltas: 100% (3/3), done.\n",
            "Updating files: 100% (148/148), done.\n"
          ]
        }
      ],
      "source": [
        "!git clone https://github.com/amnghd/Persian_poems_corpus.git\n",
        "!cp Persian_poems_corpus/original/ferdousi.txt .\n",
        "!rm -rf Persian_poems_corpus"
      ]
    },
    {
      "cell_type": "code",
      "source": [
        "class Vocabulary:\n",
        "    def __init__(self, poem_path, threshold):\n",
        "        self.poem_path = poem_path\n",
        "        self.threshold = threshold\n",
        "        self.load_poem()\n",
        "        self.build_vocab()\n",
        "        \n",
        "    def load_poem(self):\n",
        "        with open(self.poem_path, 'r', encoding='utf-8') as f:\n",
        "            poem = [line.strip() for line in f.readlines()]\n",
        "        poem = poem[2:]\n",
        "        poem = poem[:-1] if len(poem) % 2 == 1 else poem\n",
        "        poem = [[poem[i], poem[i+1]] for i in range(0, len(poem), 2)]\n",
        "        poem = [mesra[0] + ' <sep> ' + mesra[1] for mesra in poem]\n",
        "        punctuations = string.punctuation + '«»،؛؟'\n",
        "        self.lines = [[word.lower() for word in line.split() if word not in punctuations] for line in poem]\n",
        "    \n",
        "    def build_vocab(self):\n",
        "        words = [word for line in self.lines for word in line]\n",
        "        word_counts = Counter(words)\n",
        "        words = [word for word, count in word_counts.items() if count >= self.threshold]\n",
        "        self.word2idx = {word: idx for idx, word in enumerate(words)}\n",
        "        self.word2idx['<pad>'] = len(self.word2idx)\n",
        "        self.word2idx['<sos>'] = len(self.word2idx)\n",
        "        self.word2idx['<eos>'] = len(self.word2idx)\n",
        "        self.word2idx['<unk>'] = len(self.word2idx)\n",
        "        self.word2idx['<sep>'] = len(self.word2idx)\n",
        "        self.idx2word = {idx: word for word, idx in self.word2idx.items()}"
      ],
      "metadata": {
        "id": "4N95HrKECC81"
      },
      "execution_count": 3,
      "outputs": []
    },
    {
      "cell_type": "code",
      "execution_count": 4,
      "metadata": {
        "id": "8OFdtzP_IgSO"
      },
      "outputs": [],
      "source": [
        "class FerdousiDataset(torch.utils.data.Dataset):\n",
        "    def __init__(self, poem_path, vocab):\n",
        "        self.poem_path = poem_path\n",
        "        self.vocab = vocab\n",
        "        self.load_poem()\n",
        "\n",
        "    def __len__(self):\n",
        "        return len(self.poem) - 1\n",
        "\n",
        "    def __getitem__(self, idx):\n",
        "        return self.poem[idx], self.poem[idx + 1]\n",
        "\n",
        "    def load_poem(self):\n",
        "        with open(self.poem_path, 'r', encoding='utf-8') as f:\n",
        "            poem = [line.strip() for line in f.readlines()]\n",
        "        poem = poem[2:]\n",
        "        poem = poem[:-1] if len(poem) % 2 == 1 else poem\n",
        "        poem = [[poem[i], poem[i + 1]] for i in range(0, len(poem), 2)]\n",
        "        poem = [mesra[0] + ' <sep> ' + mesra[1] for mesra in poem]\n",
        "        poem = [word_tokenize(line) for line in poem]\n",
        "        punctuations = string.punctuation + '«»،؛؟'\n",
        "        poem = [[word for word in line if word not in punctuations] for line in poem]\n",
        "        poem = [line for line in poem if len(line) > 0]\n",
        "        poem = [[word for word in line if len(word) > 1] for line in poem]\n",
        "        self.max_len = max([len(line) for line in poem])\n",
        "        poem = [line + ['<pad>'] * (self.max_len - len(line)) for line in poem]\n",
        "        poem = [['<sos>'] + line + ['<eos>'] for line in poem]\n",
        "\n",
        "        # Create word vectors using the vocabulary\n",
        "        self.poem = []\n",
        "        for line in poem:\n",
        "            line_vec = []\n",
        "            for word in line:\n",
        "                if word in self.vocab.word2idx:\n",
        "                    line_vec.append(self.vocab.word2idx[word])\n",
        "                else:\n",
        "                    line_vec.append(self.vocab.word2idx['<unk>'])\n",
        "            self.poem.append(line_vec)\n",
        "        self.poem = torch.tensor(self.poem).long()\n",
        "\n",
        "vocab = Vocabulary('ferdousi.txt', 2)\n",
        "# create a dataset object\n",
        "dataset = FerdousiDataset('ferdousi.txt', vocab)\n",
        "# split the dataset into train and test\n",
        "train_size = int(0.8 * len(dataset))\n",
        "test_size = len(dataset) - train_size\n",
        "train_dataset, test_dataset = torch.utils.data.random_split(dataset, [train_size, test_size])\n",
        "# create a dataloader for train and test\n",
        "train_loader = torch.utils.data.DataLoader(train_dataset, batch_size=32, shuffle=True)\n",
        "test_loader = torch.utils.data.DataLoader(test_dataset, batch_size=32, shuffle=True)\n",
        "device = torch.device('cuda' if torch.cuda.is_available() else 'cpu')"
      ]
    },
    {
      "cell_type": "code",
      "execution_count": 5,
      "metadata": {
        "id": "iZv8z6vBmB8r"
      },
      "outputs": [],
      "source": [
        "class Encoder(nn.Module):\n",
        "    def __init__(self, input_size, embedding_size, hidden_size, num_layers, p_drop=0.1):\n",
        "        super(Encoder, self).__init__()\n",
        "        self.hidden_size = hidden_size\n",
        "        self.num_layers = num_layers\n",
        "        self.embedding = nn.Embedding(input_size, embedding_size)\n",
        "        self.rnn = nn.LSTM(embedding_size, hidden_size, num_layers, batch_first=True)\n",
        "        self.dropout = nn.Dropout(p_drop)\n",
        "\n",
        "    def forward(self, x, hidden=None, cell=None):\n",
        "        # x.shape = (batch_size, seq_len)\n",
        "        embedding = self.dropout(self.embedding(x))\n",
        "        # embedding.shape = (batch_size, seq_len, embedding_size)\n",
        "        if hidden is None and cell is None:\n",
        "            hidden = torch.zeros((self.num_layers, x.shape[0], self.hidden_size), device=x.device)\n",
        "            cell = torch.zeros((self.num_layers, x.shape[0], self.hidden_size), device=x.device)\n",
        "        outputs, (hidden, cell) = self.rnn(embedding, (hidden, cell))\n",
        "        # outputs.shape = (batch_size, seq_len, hidden_size)\n",
        "        # hidden.shape = (num_layers, batch_size, hidden_size)\n",
        "        # cell.shape = (num_layers, batch_size, hidden_size)\n",
        "        return hidden, cell\n",
        "\n",
        "# define the decoder class and use the encoder.embedding as the embedding layer\n",
        "class Decoder(nn.Module):\n",
        "    def __init__(self, input_size, embedding_size, hidden_size, output_size, num_layers, p_drop=0.1):\n",
        "        super(Decoder, self).__init__()\n",
        "        self.hidden_size = hidden_size\n",
        "        self.num_layers = num_layers\n",
        "        self.embedding = encoder.embedding\n",
        "        self.rnn = nn.LSTM(embedding_size, hidden_size, num_layers, batch_first=True)\n",
        "        self.fc = nn.Linear(hidden_size, output_size)\n",
        "        self.dropout = nn.Dropout(p_drop)\n",
        "\n",
        "    def forward(self, x, hidden, cell):\n",
        "        # x.shape = (batch_size, 1)\n",
        "        x = x.unsqueeze(1)\n",
        "        # x.shape = (batch_size, 1, 1)\n",
        "        embedding = self.dropout(self.embedding(x))\n",
        "        # embedding.shape = (batch_size, 1, embedding_size)\n",
        "        outputs, (hidden, cell) = self.rnn(embedding, (hidden, cell))\n",
        "        # outputs.shape = (batch_size, 1, hidden_size)\n",
        "        # hidden.shape = (num_layers, batch_size, hidden_size)\n",
        "        # cell.shape = (num_layers, batch_size, hidden_size)\n",
        "        predictions = self.fc(outputs)\n",
        "        # predictions.shape = (batch_size, 1, output_size)\n",
        "        predictions = predictions.squeeze(1)\n",
        "        # predictions.shape = (batch_size, output_size)\n",
        "        return predictions, hidden, cell"
      ]
    },
    {
      "cell_type": "code",
      "execution_count": 6,
      "metadata": {
        "id": "GCemRPIzIjq2"
      },
      "outputs": [],
      "source": [
        "class Seq2Seq(nn.Module):\n",
        "    def __init__(self, encoder, decoder):\n",
        "        super(Seq2Seq, self).__init__()\n",
        "        self.encoder = encoder\n",
        "        self.decoder = decoder\n",
        "\n",
        "    def forward(self, source, target, teacher_forcing_ratio=0.8):\n",
        "        # source.shape = (batch_size, source_seq_len)\n",
        "        # target.shape = (batch_size, target_seq_len)\n",
        "        batch_size = source.shape[0]\n",
        "        target_len = target.shape[1]\n",
        "        target_vocab_size = len(dataset.vocab.word2idx)\n",
        "        outputs = torch.zeros(batch_size, target_len, target_vocab_size).to(device)\n",
        "        hidden, cell = self.encoder(source)\n",
        "        # hidden.shape = (num_layers, batch_size, hidden_size)\n",
        "        # cell.shape = (num_layers, batch_size, hidden_size)\n",
        "        x = target[:, 0]\n",
        "        # x.shape = (batch_size)\n",
        "        for t in range(1, target_len):\n",
        "            output, hidden, cell = self.decoder(x, hidden, cell)\n",
        "            # output.shape = (batch_size, target_vocab_size)\n",
        "            outputs[:, t] = output\n",
        "            best_guess = output.argmax(1)\n",
        "            x = target[:, t] if random.random() < teacher_forcing_ratio else best_guess\n",
        "        return outputs"
      ]
    },
    {
      "cell_type": "code",
      "execution_count": 7,
      "metadata": {
        "id": "OOV95ro2mB8v"
      },
      "outputs": [],
      "source": [
        "# encoder hyperparameters\n",
        "input_size_encoder = len(dataset.vocab.word2idx)\n",
        "encoder_embedding_size = 200\n",
        "hidden_size = 128\n",
        "num_layers = 2\n",
        "# define the encoder\n",
        "encoder = Encoder(input_size_encoder, encoder_embedding_size, hidden_size, num_layers).to(device)\n",
        "# decoder hyperparameters\n",
        "input_size_decoder = len(dataset.vocab.word2idx)\n",
        "output_size = len(dataset.vocab.word2idx)\n",
        "decoder_embedding_size = 200\n",
        "hidden_size = 128\n",
        "num_layers = 2\n",
        "# define the decoder\n",
        "decoder = Decoder(input_size_decoder, decoder_embedding_size, hidden_size, output_size, num_layers).to(device)\n",
        "num_epochs = 25\n",
        "learning_rate = 1e-3\n",
        "# initialize the network\n",
        "encoder_net = Encoder(input_size_encoder, encoder_embedding_size, hidden_size, num_layers).to(device)\n",
        "decoder_net = Decoder(input_size_decoder, decoder_embedding_size, hidden_size, output_size, num_layers).to(device)\n",
        "model = Seq2Seq(encoder_net, decoder_net).to(device)\n",
        "criterion = nn.CrossEntropyLoss(ignore_index=dataset.vocab.word2idx['<pad>'])\n",
        "optimizer = torch.optim.Adam(model.parameters(), lr=learning_rate)"
      ]
    },
    {
      "cell_type": "code",
      "execution_count": 9,
      "metadata": {
        "id": "n9bR1WYkmB8w"
      },
      "outputs": [],
      "source": [
        "# define a function that takes a tensor of indices and returns a string and removes pad and end and start tokens\n",
        "def tensor2string(tensor):\n",
        "    # tensor.shape = (seq_len)\n",
        "    words = [dataset.vocab.idx2word[idx.item()] for idx in tensor]\n",
        "    words = [word for word in words if word not in ['<pad>', '<sos>', '<eos>']]\n",
        "    return ' '.join(words)\n",
        "\n",
        "# define a function that generates a verse\n",
        "def generate_verse(model, source, device, tensor2string, max_len=20):\n",
        "    source = source.unsqueeze(0)\n",
        "    model.eval()\n",
        "    # dont forget to move to device\n",
        "    with torch.no_grad():\n",
        "        hidden, cell = model.encoder(source.to(device))\n",
        "        # hidden.shape = (num_layers, batch_size, hidden_size)\n",
        "        # cell.shape = (num_layers, batch_size, hidden_size)\n",
        "        x = torch.tensor([dataset.vocab.word2idx['<sos>']]).to(device)\n",
        "        outputs = []\n",
        "        for t in range(max_len):\n",
        "            output, hidden, cell = model.decoder(x, hidden, cell)\n",
        "            # output.shape = (1, output_size)\n",
        "            best_guess = output.argmax(1)\n",
        "            outputs.append(best_guess.item())\n",
        "            x = best_guess\n",
        "            if best_guess.item() == dataset.vocab.word2idx['<eos>']:\n",
        "                break\n",
        "    return tensor2string(torch.tensor(outputs))"
      ]
    },
    {
      "cell_type": "code",
      "execution_count": 15,
      "metadata": {
        "id": "HLN3HUVBmB8x"
      },
      "outputs": [],
      "source": [
        "# define a function that trains the model\n",
        "def train(model, train_loader, val_loader, criterion, optimizer, num_epochs, device, generate_verse, tensor2string):\n",
        "    train_losses = []\n",
        "    val_losses = []\n",
        "    train_accuracies = []\n",
        "    val_accuracies = []\n",
        "    for epoch in range(num_epochs):\n",
        "        train_loss = 0\n",
        "        train_accuracy = 0\n",
        "        idx = random.randint(0, len(train_dataset))\n",
        "        verse = train_dataset[idx][0].to(device)\n",
        "        print(generate_verse(model, verse, tensor2string=tensor2string, device=device))\n",
        "        model.train()\n",
        "        for (source, target) in train_loader:\n",
        "            source = source.to(device)\n",
        "            target = target.to(device)\n",
        "            outputs = model(source, target)\n",
        "            # outputs.shape = (batch_size, target_seq_len, output_size)\n",
        "            outputs = outputs[:, 1:].reshape(-1, outputs.shape[2])\n",
        "            # outputs.shape = (batch_size * target_seq_len, output_size)\n",
        "            target = target[:, 1:].reshape(-1)\n",
        "            # target.shape = (batch_size * target_seq_len)\n",
        "            loss = criterion(outputs, target)\n",
        "            optimizer.zero_grad()\n",
        "            loss.backward()\n",
        "            optimizer.step()\n",
        "            train_loss += loss.item()\n",
        "            top_p, top_class = outputs.topk(1, dim=1)\n",
        "            # top_p.shape = (batch_size * target_seq_len, 1)\n",
        "            # top_class.shape = (batch_size * target_seq_len, 1)\n",
        "            equals = top_class == target.view(*top_class.shape)\n",
        "            # equals.shape = (batch_size * target_seq_len, 1)\n",
        "            train_accuracy += torch.mean(equals.type(torch.FloatTensor)).item()\n",
        "        train_losses.append(train_loss / len(train_loader))\n",
        "        train_accuracies.append(train_accuracy / len(train_loader))\n",
        "        model.eval()\n",
        "        val_loss = 0\n",
        "        val_accuracy = 0\n",
        "        with torch.no_grad():\n",
        "            for (source, target) in val_loader:\n",
        "                source = source.to(device)\n",
        "                target = target.to(device)\n",
        "                outputs = model(source, target)\n",
        "                # outputs.shape = (batch_size, target_seq_len, output_size)\n",
        "                outputs = outputs[:, 1:].reshape(-1, outputs.shape[2])\n",
        "                # outputs.shape = (batch_size * target_seq_len, output_size)\n",
        "                target = target[:, 1:].reshape(-1)\n",
        "                # target.shape = (batch_size * target_seq_len)\n",
        "                loss = criterion(outputs, target)\n",
        "                val_loss += loss.item()\n",
        "                top_p, top_class = outputs.topk(1, dim=1)\n",
        "                # top_p.shape = (batch_size * target_seq_len, 1)\n",
        "                # top_class.shape = (batch_size * target_seq_len, 1)\n",
        "                equals = top_class == target.view(*top_class.shape)\n",
        "                # equals.shape = (batch_size * target_seq_len, 1)\n",
        "                val_accuracy += torch.mean(equals.type(torch.FloatTensor)).item()\n",
        "        val_losses.append(val_loss / len(val_loader))\n",
        "        val_accuracies.append(val_accuracy / len(val_loader))\n",
        "        print(f'Epoch {epoch + 1}/{num_epochs} | Train Loss: {train_losses[-1]:.4f} | Train Accuracy: {train_accuracies[-1]:.4f} | Val Loss: {val_losses[-1]:.4f} | Val Accuracy: {val_accuracies[-1]:.4f}')\n",
        "    return train_losses, val_losses, train_accuracies, val_accuracies"
      ]
    },
    {
      "cell_type": "code",
      "source": [
        "train_losses, val_losses, train_accuracies, val_accuracies = train(model, train_loader, test_loader, criterion, optimizer, num_epochs, device, generate_verse, tensor2string)"
      ],
      "metadata": {
        "colab": {
          "base_uri": "https://localhost:8080/"
        },
        "id": "SPx2Q4M6ICR0",
        "outputId": "8983e164-7e99-4061-c615-7f11bc7d9399"
      },
      "execution_count": 16,
      "outputs": [
        {
          "output_type": "stream",
          "name": "stdout",
          "text": [
            "کاه مراست مراست مراست بروها چرپ چرپ نابخردان نابخردان نماندش نماندش زآهن دمساز دمساز بیور بیور بگریستی بکنده سپیدش روشنک\n",
            "Epoch 1/25 | Train Loss: 5.9711 | Train Accuracy: 0.1225 | Val Loss: 5.7113 | Val Accuracy: 0.1315\n",
            "چو تا به از به <unk> <unk> <unk> که از از از از به <unk> به راه بود\n",
            "Epoch 2/25 | Train Loss: 5.5815 | Train Accuracy: 0.1348 | Val Loss: 5.5157 | Val Accuracy: 0.1394\n",
            "چو گفت کای شاه <unk> <unk> که از <unk> را به راه بود بود\n",
            "Epoch 3/25 | Train Loss: 5.3898 | Train Accuracy: 0.1426 | Val Loss: 5.3576 | Val Accuracy: 0.1463\n",
            "چو گفت به نزدیک شاه <unk> <unk> که از <unk> از داد یاد کرد جفت جفت\n",
            "Epoch 4/25 | Train Loss: 5.2259 | Train Accuracy: 0.1483 | Val Loss: 5.2339 | Val Accuracy: 0.1514\n",
            "چو گفت با شاه <unk> که از <unk> بود با سپاه راه بود جفت جفت اوی\n",
            "Epoch 5/25 | Train Loss: 5.0854 | Train Accuracy: 0.1537 | Val Loss: 5.1415 | Val Accuracy: 0.1572\n",
            "چو گفت با او به <unk> <unk> <unk> که از <unk> از تو بر گاه شاه سپاه\n",
            "Epoch 6/25 | Train Loss: 4.9716 | Train Accuracy: 0.1587 | Val Loss: 5.0925 | Val Accuracy: 0.1586\n",
            "چو گفت با او را <unk> <unk> که از <unk> <unk> <unk> به پای به دست بر پای\n",
            "Epoch 7/25 | Train Loss: 4.8745 | Train Accuracy: 0.1628 | Val Loss: 5.0599 | Val Accuracy: 0.1611\n",
            "چو گفت از بر تخت عاج <unk> به پیش اندرون بر تخت عاج نشست به پای\n",
            "Epoch 8/25 | Train Loss: 4.7934 | Train Accuracy: 0.1665 | Val Loss: 4.9946 | Val Accuracy: 0.1658\n",
            "چو بشنید گفتار او را <unk> <unk> که از <unk> از تو را به پای به پای آورد\n",
            "Epoch 9/25 | Train Loss: 4.7246 | Train Accuracy: 0.1695 | Val Loss: 4.9789 | Val Accuracy: 0.1674\n",
            "چو بشنید که از تو <unk> <unk> <unk> به از بر تو بر تو تو را به دست است\n",
            "Epoch 10/25 | Train Loss: 4.6813 | Train Accuracy: 0.1716 | Val Loss: 4.9774 | Val Accuracy: 0.1684\n",
            "چو گفت کای شاه <unk> <unk> <unk> <unk> <unk> <unk> به راه راه راه جوی جفت جفت\n",
            "Epoch 11/25 | Train Loss: 4.6064 | Train Accuracy: 0.1752 | Val Loss: 4.9593 | Val Accuracy: 0.1695\n",
            "چو گفت کای شاه <unk> <unk> <unk> که از به نزدیک شاه سپاه راه جفت جفت\n",
            "Epoch 12/25 | Train Loss: 4.5589 | Train Accuracy: 0.1776 | Val Loss: 4.9327 | Val Accuracy: 0.1730\n",
            "که من بر تو <unk> <unk> <unk> <unk> به از تو مبادا سخن در خورست نیست\n",
            "Epoch 13/25 | Train Loss: 4.5159 | Train Accuracy: 0.1799 | Val Loss: 4.9515 | Val Accuracy: 0.1731\n",
            "که از من به فرمان من <unk> که از من <unk> <unk> من <unk> به من بر تو است نیاز\n",
            "Epoch 14/25 | Train Loss: 4.4647 | Train Accuracy: 0.1824 | Val Loss: 4.9455 | Val Accuracy: 0.1742\n",
            "چو از بر شد <unk> <unk> <unk> به نزدیک او شد از کارزار گرگ آمدند\n",
            "Epoch 15/25 | Train Loss: 4.4379 | Train Accuracy: 0.1842 | Val Loss: 4.9172 | Val Accuracy: 0.1766\n",
            "چو از بر شد <unk> <unk> <unk> به پیش اندرون شد به یک سو به روی اندرش کارزار\n",
            "Epoch 16/25 | Train Loss: 4.3877 | Train Accuracy: 0.1864 | Val Loss: 4.9190 | Val Accuracy: 0.1767\n",
            "چو از بر شد به <unk> <unk> <unk> به بر بر زمین بر زدند از گروه به\n",
            "Epoch 17/25 | Train Loss: 4.3616 | Train Accuracy: 0.1879 | Val Loss: 4.9375 | Val Accuracy: 0.1766\n",
            "چو از <unk> <unk> <unk> <unk> <unk> به از <unk> <unk> همی داشت عار را هواست\n",
            "Epoch 18/25 | Train Loss: 4.3149 | Train Accuracy: 0.1906 | Val Loss: 4.9339 | Val Accuracy: 0.1779\n",
            "چو بشنید من به <unk> <unk> <unk> <unk> <unk> <unk> <unk> <unk> به دست تو بادا نیاز تو\n",
            "Epoch 19/25 | Train Loss: 4.2956 | Train Accuracy: 0.1917 | Val Loss: 4.9526 | Val Accuracy: 0.1774\n",
            "چو بشنید شاه آن زمان <unk> <unk> که با او <unk> با انجمن کرد جفت\n",
            "Epoch 20/25 | Train Loss: 4.2656 | Train Accuracy: 0.1933 | Val Loss: 4.9218 | Val Accuracy: 0.1805\n",
            "به پیش تو آمد به <unk> <unk> <unk> به از <unk> <unk> به گریست ایچ\n",
            "Epoch 21/25 | Train Loss: 4.2312 | Train Accuracy: 0.1952 | Val Loss: 4.9468 | Val Accuracy: 0.1798\n",
            "چو از <unk> <unk> <unk> <unk> <unk> <unk> <unk> <unk> <unk> <unk> <unk> <unk> <unk> <unk> رنج رنج تو\n",
            "Epoch 22/25 | Train Loss: 4.1901 | Train Accuracy: 0.1976 | Val Loss: 4.9550 | Val Accuracy: 0.1796\n",
            "که از تو را به <unk> <unk> <unk> به از <unk> <unk> به سر بر زنم آورد پای\n",
            "Epoch 23/25 | Train Loss: 4.1673 | Train Accuracy: 0.1990 | Val Loss: 4.9487 | Val Accuracy: 0.1806\n",
            "که این را که از تو <unk> <unk> <unk> به از <unk> <unk> <unk> به دست اندرست از نیام شست\n",
            "Epoch 24/25 | Train Loss: 4.1604 | Train Accuracy: 0.1997 | Val Loss: 4.9989 | Val Accuracy: 0.1784\n",
            "همه جامه ها را بیاراستند <unk> به پیش اندرون خواستند خواستند آمدند شدند از کران از کران از کران تا\n",
            "Epoch 25/25 | Train Loss: 4.0994 | Train Accuracy: 0.2033 | Val Loss: 4.9745 | Val Accuracy: 0.1811\n"
          ]
        }
      ]
    },
    {
      "cell_type": "code",
      "source": [
        "plt.plot(train_losses, label='train losses')\n",
        "plt.plot(val_losses, label='val losses')\n",
        "plt.legend()\n",
        "plt.show()\n",
        "plt.plot(train_accuracies, label='train accs')\n",
        "plt.plot(val_accuracies, label='val accs')\n",
        "plt.legend()\n",
        "plt.show()"
      ],
      "metadata": {
        "colab": {
          "base_uri": "https://localhost:8080/",
          "height": 513
        },
        "id": "JAlvLPELXHKt",
        "outputId": "21447d48-6e59-49bf-8f4b-156e320645d1"
      },
      "execution_count": 17,
      "outputs": [
        {
          "output_type": "display_data",
          "data": {
            "text/plain": [
              "<Figure size 432x288 with 1 Axes>"
            ],
            "image/png": "[encoded data removed]"
          },
          "metadata": {
            "needs_background": "light"
          }
        },
        {
          "output_type": "display_data",
          "data": {
            "text/plain": [
              "<Figure size 432x288 with 1 Axes>"
            ],
            "image/png": "[encoded data removed]"
          },
          "metadata": {
            "needs_background": "light"
          }
        }
      ]
    },
    {
      "cell_type": "markdown",
      "source": [
        "To generate verses I only select those generated verses that have unique words in them and their length is more than 12"
      ],
      "metadata": {
        "id": "N8Du_GENXDVi"
      }
    },
    {
      "cell_type": "code",
      "source": [
        "# define a function that takes a tensor of indices and returns a string and removes pad and end and start tokens\n",
        "def tensor2string_unk(tensor):\n",
        "    # tensor.shape = (seq_len)\n",
        "    words = [dataset.vocab.idx2word[idx.item()] for idx in tensor]\n",
        "    words = [word for word in words if word not in ['<pad>', '<sos>', '<eos>', '<unk>']]\n",
        "    return ' '.join(words)\n",
        "print(\"Some Generated Verses: \")\n",
        "i = 0\n",
        "while not i == 10:\n",
        "  idx = random.randint(0, len(train_dataset))\n",
        "  verse = train_dataset[idx][0].to(device)\n",
        "  generated = generate_verse(model, verse, tensor2string=tensor2string_unk, device=device)\n",
        "  if len(generated.split()) > 12:\n",
        "    counts = Counter(generated.split())\n",
        "    counts = sorted(counts.items(), key=lambda x: x[1], reverse=True)\n",
        "    if counts[0][1] == 1:\n",
        "      i += 1\n",
        "      print(generated)"
      ],
      "metadata": {
        "colab": {
          "base_uri": "https://localhost:8080/"
        },
        "id": "EBflKC3bUmK2",
        "outputId": "3c529598-3ec7-4470-c78a-b0c2c6656116"
      },
      "execution_count": 23,
      "outputs": [
        {
          "output_type": "stream",
          "name": "stdout",
          "text": [
            "Some Generated Verses: \n",
            "بزرگان که بودند با او به پیش اندرون افگند در کارزار اوی راه\n",
            "چو بشنید شاه آن زمان که ای نامور پهلوان را بخوان در نهفت\n",
            "دگر گفت کز کار من که از به دست رس ای همام رنج\n",
            "چو از بر شاه شد شهریار همی گفت با داور پاک خوار تلخ گشت\n",
            "چو از بر شاه شد شهریار همی رفت با او به روزگار تلخ خیر آب چشم\n",
            "چو از بر شاه شد شهریار همی گفت با داور پاک تلخ روان گشت\n",
            "چنین گفت با شاه اسفندیار که ای پرهنر شهریار بلند مدار ایچ تاو دیر سترگ\n",
            "چو از بر شاه شد شهریار همی رفت با او به روزگار تلخ خیر آب چشم\n",
            "چو بشنید شاه آن زمان که با او از نهفت اندر آمد به روی\n",
            "چو از بر شاه شد شهریار همی رفت با او به روزگار تلخ خیر آب\n"
          ]
        }
      ]
    },
    {
      "cell_type": "code",
      "execution_count": 24,
      "metadata": {
        "id": "9ytn4TkOnYiU"
      },
      "outputs": [],
      "source": [
        "# define another encoder with Bidirectional GRU\n",
        "class Encoder(nn.Module):\n",
        "    def __init__(self, input_size, embedding_size, hidden_size, num_layers, p_drop=0.1):\n",
        "        super(Encoder, self).__init__()\n",
        "        self.hidden_size = hidden_size\n",
        "        self.num_layers = num_layers\n",
        "        self.embedding = nn.Embedding(input_size, embedding_size)\n",
        "        self.gru = nn.GRU(embedding_size, hidden_size, num_layers, batch_first=True, bidirectional=True)\n",
        "        self.dropout = nn.Dropout(p_drop)\n",
        "\n",
        "    def forward(self, x):\n",
        "        # x.shape = (batch_size, seq_len)\n",
        "        embedding = self.dropout(self.embedding(x))\n",
        "        # embedding.shape = (batch_size, seq_len, embedding_size)\n",
        "        outputs, hidden = self.gru(embedding)\n",
        "        # outputs.shape = (batch_size, seq_len, hidden_size * 2)\n",
        "        # hidden.shape = (num_layers * 2, batch_size, hidden_size)\n",
        "        return hidden\n",
        "\n",
        "# define decoder with bidirectional GRU\n",
        "class Decoder(nn.Module):\n",
        "    def __init__(self, input_size, embedding_size, hidden_size, output_size, num_layers, p_drop=0.1):\n",
        "        super(Decoder, self).__init__()\n",
        "        self.hidden_size = hidden_size\n",
        "        self.num_layers = num_layers\n",
        "        self.embedding = encoder.embedding\n",
        "        self.rnn = nn.GRU(embedding_size, hidden_size, num_layers, batch_first=True, bidirectional=True)\n",
        "        self.fc = nn.Linear(hidden_size * 2, output_size)  # since bidirectional, so multiply by 2\n",
        "        self.dropout = nn.Dropout(p_drop)\n",
        "\n",
        "    def forward(self, x, hidden):\n",
        "        # x.shape = (batch_size, 1)\n",
        "        x = x.unsqueeze(1)\n",
        "        # x.shape = (batch_size, 1, 1)\n",
        "        embedding = self.dropout(self.embedding(x))\n",
        "        # embedding.shape = (batch_size, 1, embedding_size)\n",
        "        outputs, hidden = self.rnn(embedding, hidden)\n",
        "        # outputs.shape = (batch_size, 1, hidden_size * 2)  # since bidirectional, so hidden_size * 2\n",
        "        # hidden.shape = (num_layers * 2, batch_size, hidden_size)  # since bidirectional, so num_layers * 2\n",
        "        predictions = self.fc(outputs)\n",
        "        # predictions.shape = (batch_size, 1, output_size)\n",
        "        predictions = predictions.squeeze(1)\n",
        "        # predictions.shape = (batch_size, output_size)\n",
        "        return predictions, hidden"
      ]
    },
    {
      "cell_type": "code",
      "execution_count": 25,
      "metadata": {
        "id": "9zzrUjLI-SiG"
      },
      "outputs": [],
      "source": [
        "class Seq2Seq(nn.Module):\n",
        "    def __init__(self, encoder, decoder):\n",
        "        super(Seq2Seq, self).__init__()\n",
        "        self.encoder = encoder\n",
        "        self.decoder = decoder\n",
        "\n",
        "    def forward(self, source, target, teacher_forcing_ratio=0.5):\n",
        "        # source.shape = (batch_size, source_seq_len)\n",
        "        # target.shape = (batch_size, target_seq_len)\n",
        "        batch_size = source.shape[0]\n",
        "        target_len = target.shape[1]\n",
        "        target_vocab_size = len(dataset.vocab.word2idx)\n",
        "        outputs = torch.zeros(batch_size, target_len, target_vocab_size).to(device)\n",
        "        hidden = self.encoder(source)\n",
        "        # hidden.shape = (batch_size, 2*hidden_size)\n",
        "        x = target[:, 0]\n",
        "        # x.shape = (batch_size)\n",
        "        for t in range(1, target_len):\n",
        "            output, hidden = self.decoder(x, hidden)\n",
        "            # output.shape = (batch_size, target_vocab_size)\n",
        "            outputs[:, t] = output\n",
        "            best_guess = output.argmax(1)\n",
        "            x = target[:, t] if random.random() < teacher_forcing_ratio else best_guess\n",
        "        return outputs\n"
      ]
    },
    {
      "cell_type": "code",
      "execution_count": 26,
      "metadata": {
        "id": "-SVMBPKm-SiH"
      },
      "outputs": [],
      "source": [
        "# hyperparameters\n",
        "input_size_encoder = len(dataset.vocab.word2idx)\n",
        "encoder_embedding_size = 200\n",
        "hidden_size = 128\n",
        "num_layers = 2\n",
        "# define the encoder\n",
        "encoder = Encoder(input_size_encoder, encoder_embedding_size, hidden_size, num_layers).to(device)\n",
        "# hyperparameters\n",
        "input_size_decoder = len(dataset.vocab.word2idx)\n",
        "output_size = len(dataset.vocab.word2idx)\n",
        "decoder_embedding_size = 200\n",
        "hidden_size = 128\n",
        "num_layers = 2\n",
        "num_epochs = 25\n",
        "# define the decoder\n",
        "decoder = Decoder(input_size_decoder, decoder_embedding_size, hidden_size, output_size, num_layers).to(device)\n",
        "model = Seq2Seq(encoder, decoder).to(device)\n",
        "optimizer = optim.Adam(model.parameters(), lr=5e-4)\n",
        "criterion = nn.CrossEntropyLoss(ignore_index=dataset.vocab.word2idx['<pad>'])"
      ]
    },
    {
      "cell_type": "code",
      "source": [
        "# define a function that generates a verse for gru model\n",
        "def generate_verse_gru(model, source, device, tensor2string, max_len=20):\n",
        "    source = source.unsqueeze(0)\n",
        "    model.eval()\n",
        "    # dont forget to move to device\n",
        "    with torch.no_grad():\n",
        "        hidden = model.encoder(source.to(device))\n",
        "        # hidden.shape = (num_layers, batch_size, hidden_size)\n",
        "        # cell.shape = (num_layers, batch_size, hidden_size)\n",
        "        x = torch.tensor([dataset.vocab.word2idx['<sos>']]).to(device)\n",
        "        outputs = []\n",
        "        for t in range(max_len):\n",
        "            output, hidden = model.decoder(x, hidden)\n",
        "            # output.shape = (1, output_size)\n",
        "            best_guess = output.argmax(1)\n",
        "            outputs.append(best_guess.item())\n",
        "            x = best_guess\n",
        "            if best_guess.item() == dataset.vocab.word2idx['<eos>']:\n",
        "                break\n",
        "    return tensor2string(torch.tensor(outputs))"
      ],
      "metadata": {
        "id": "NofHrnyya_Q2"
      },
      "execution_count": 27,
      "outputs": []
    },
    {
      "cell_type": "code",
      "execution_count": 28,
      "metadata": {
        "id": "SnjsZFJk-SiI",
        "colab": {
          "base_uri": "https://localhost:8080/"
        },
        "outputId": "1a8ac332-b027-43a0-c51f-6c7eceb944e7"
      },
      "outputs": [
        {
          "output_type": "stream",
          "name": "stdout",
          "text": [
            "بانگشت بانگشت بانگشت دیوانها جهاندیدگان جهاندیدگان جهاندیدگان جهاندیدگان جهاندیدگان زینش کامشان بدش جنگاور جنگاور نژادم رفتنش خوارتر چندگاه چامهٔ چامهٔ\n",
            "Epoch 1/25 | Train Loss: 6.0176 | Train Accuracy: 0.1209 | Val Loss: 5.8186 | Val Accuracy: 0.1267\n",
            "چو گفت که از <unk> <unk> <unk> <unk> <unk> را به بر تو را بود نیست\n",
            "Epoch 2/25 | Train Loss: 5.7049 | Train Accuracy: 0.1289 | Val Loss: 5.6772 | Val Accuracy: 0.1305\n",
            "چو از بر <unk> <unk> <unk> <unk> از بر <unk> <unk> <unk> شد از از راه اوی <unk>\n",
            "Epoch 3/25 | Train Loss: 5.5486 | Train Accuracy: 0.1340 | Val Loss: 5.5678 | Val Accuracy: 0.1366\n",
            "چو گفت که که <unk> <unk> <unk> <unk> <unk> به از به به بود جفت\n",
            "Epoch 4/25 | Train Loss: 5.4122 | Train Accuracy: 0.1381 | Val Loss: 5.5229 | Val Accuracy: 0.1378\n",
            "چو گفت از <unk> <unk> <unk> <unk> <unk> به <unk> به به راه <unk>\n",
            "Epoch 5/25 | Train Loss: 5.2982 | Train Accuracy: 0.1413 | Val Loss: 5.4561 | Val Accuracy: 0.1414\n",
            "بدو گفت کای که <unk> <unk> <unk> <unk> از تو تو را نهفت نیست جفت\n",
            "Epoch 6/25 | Train Loss: 5.2023 | Train Accuracy: 0.1441 | Val Loss: 5.4620 | Val Accuracy: 0.1411\n",
            "بدو گفت بهرام ای <unk> <unk> <unk> که ای را تو را را نهفت جفت جفت\n",
            "Epoch 7/25 | Train Loss: 5.1114 | Train Accuracy: 0.1471 | Val Loss: 5.4363 | Val Accuracy: 0.1429\n",
            "که گفت <unk> که <unk> <unk> <unk> <unk> <unk> <unk> با او با سپاه جفت جفت جفت\n",
            "Epoch 8/25 | Train Loss: 5.0179 | Train Accuracy: 0.1497 | Val Loss: 5.4118 | Val Accuracy: 0.1445\n",
            "چو از <unk> <unk> <unk> <unk> <unk> <unk> <unk> به به به به به رنج\n",
            "Epoch 9/25 | Train Loss: 4.9416 | Train Accuracy: 0.1520 | Val Loss: 5.4168 | Val Accuracy: 0.1457\n",
            "چو گفت به را به <unk> <unk> <unk> به به به اندر آورد پای <unk> به\n",
            "Epoch 10/25 | Train Loss: 4.8676 | Train Accuracy: 0.1545 | Val Loss: 5.4643 | Val Accuracy: 0.1439\n",
            "چو از بر از <unk> <unk> <unk> <unk> به از بر به به بود بود\n",
            "Epoch 11/25 | Train Loss: 4.8001 | Train Accuracy: 0.1568 | Val Loss: 5.4787 | Val Accuracy: 0.1439\n",
            "چو شد به کردار اوی <unk> که شد از اوی اوی اوی اوی اوی اوی\n",
            "Epoch 12/25 | Train Loss: 4.7267 | Train Accuracy: 0.1598 | Val Loss: 5.4820 | Val Accuracy: 0.1440\n",
            "که گر من <unk> <unk> <unk> <unk> <unk> <unk> <unk> تو <unk> نیست نیست نیست نیست\n",
            "Epoch 13/25 | Train Loss: 4.6788 | Train Accuracy: 0.1612 | Val Loss: 5.5075 | Val Accuracy: 0.1431\n",
            "به <unk> به به <unk> <unk> <unk> به بر بر زمین بر زمین بود بود بود\n",
            "Epoch 14/25 | Train Loss: 4.6129 | Train Accuracy: 0.1638 | Val Loss: 5.5091 | Val Accuracy: 0.1443\n",
            "به گفت را که <unk> <unk> <unk> <unk> که بر ما را به راه تو\n",
            "Epoch 15/25 | Train Loss: 4.5674 | Train Accuracy: 0.1652 | Val Loss: 5.5460 | Val Accuracy: 0.1430\n",
            "به این بر بر <unk> <unk> <unk> <unk> بر بر بر بر زمین را به دست\n",
            "Epoch 16/25 | Train Loss: 4.5211 | Train Accuracy: 0.1679 | Val Loss: 5.5550 | Val Accuracy: 0.1437\n",
            "بدو گفت موبد که ای <unk> <unk> <unk> به به به به به ای سخن گوی گوی\n",
            "Epoch 17/25 | Train Loss: 4.4564 | Train Accuracy: 0.1710 | Val Loss: 5.6025 | Val Accuracy: 0.1416\n",
            "چنین داد پاسخ که <unk> <unk> <unk> که از که از بهر من نیست راه نیست\n",
            "Epoch 18/25 | Train Loss: 4.4078 | Train Accuracy: 0.1733 | Val Loss: 5.5700 | Val Accuracy: 0.1433\n",
            "به ایران به به <unk> <unk> <unk> که با او به راه راه راه جوی\n",
            "Epoch 19/25 | Train Loss: 4.3614 | Train Accuracy: 0.1759 | Val Loss: 5.6273 | Val Accuracy: 0.1426\n",
            "که ای را به بد که <unk> <unk> <unk> از بد بد بد روزگار <unk> بد رسد بد رسد بد\n",
            "Epoch 20/25 | Train Loss: 4.3256 | Train Accuracy: 0.1779 | Val Loss: 5.6351 | Val Accuracy: 0.1427\n",
            "اگر من من من من <unk> <unk> <unk> <unk> من من ام ام ام ام\n",
            "Epoch 21/25 | Train Loss: 4.2735 | Train Accuracy: 0.1811 | Val Loss: 5.6463 | Val Accuracy: 0.1426\n",
            "<unk> <unk> <unk> <unk> <unk> <unk> <unk> <unk> از <unk> کوهسار <unk> میان را میان را میان تنگ تنگ\n",
            "Epoch 22/25 | Train Loss: 4.2242 | Train Accuracy: 0.1846 | Val Loss: 5.7133 | Val Accuracy: 0.1405\n",
            "به نزدیک آن خواسته <unk> <unk> <unk> را آراسته آراسته آراسته آراسته شدند شدند شدند شدند شدند شدند\n",
            "Epoch 23/25 | Train Loss: 4.2072 | Train Accuracy: 0.1853 | Val Loss: 5.7557 | Val Accuracy: 0.1392\n",
            "چو بر بر برداشتند <unk> <unk> بر بگذاشتند بگذاشتند بگذاشتند سوختند کشید کشید کشید\n",
            "Epoch 24/25 | Train Loss: 4.1658 | Train Accuracy: 0.1881 | Val Loss: 5.7510 | Val Accuracy: 0.1398\n",
            "چو نیزه به به <unk> <unk> <unk> به پیش اندرون گرز گران برکشید آب\n",
            "Epoch 25/25 | Train Loss: 4.1230 | Train Accuracy: 0.1913 | Val Loss: 5.7649 | Val Accuracy: 0.1394\n"
          ]
        }
      ],
      "source": [
        "train_losses, val_losses, train_accuracies, val_accuracies = train(model, train_loader, test_loader, criterion, optimizer, num_epochs, device, generate_verse_gru, tensor2string)"
      ]
    },
    {
      "cell_type": "code",
      "source": [
        "plt.plot(train_losses, label='train losses')\n",
        "plt.plot(val_losses, label='val losses')\n",
        "plt.legend()\n",
        "plt.show()\n",
        "plt.plot(train_accuracies, label='train accs')\n",
        "plt.plot(val_accuracies, label='val accs')\n",
        "plt.legend()\n",
        "plt.show()"
      ],
      "metadata": {
        "id": "DKhV4gJ2iVcS",
        "outputId": "b32d8701-5423-414f-e91c-d2d7cd4424cf",
        "colab": {
          "base_uri": "https://localhost:8080/",
          "height": 513
        }
      },
      "execution_count": 30,
      "outputs": [
        {
          "output_type": "display_data",
          "data": {
            "text/plain": [
              "<Figure size 432x288 with 1 Axes>"
            ],
            "image/png": "[encoded data removed]"
          },
          "metadata": {
            "needs_background": "light"
          }
        },
        {
          "output_type": "display_data",
          "data": {
            "text/plain": [
              "<Figure size 432x288 with 1 Axes>"
            ],
            "image/png": "[encoded data removed]"
          },
          "metadata": {
            "needs_background": "light"
          }
        }
      ]
    },
    {
      "cell_type": "code",
      "source": [
        "# define a function that takes a tensor of indices and returns a string and removes pad and end and start tokens\n",
        "def tensor2string(tensor):\n",
        "    # tensor.shape = (seq_len)\n",
        "    words = [dataset.vocab.idx2word[idx.item()] for idx in tensor]\n",
        "    words = [word for word in words if word not in ['<pad>', '<sos>', '<eos>', '<unk>']]\n",
        "    return ' '.join(words)\n",
        "print(\"Some Generated Verses: \")\n",
        "i = 0\n",
        "while not i == 10:\n",
        "  idx = random.randint(0, len(train_dataset))\n",
        "  verse = train_dataset[idx][0].to(device)\n",
        "  generated = generate_verse_gru(model, verse, tensor2string=tensor2string, device=device)\n",
        "  generated_verses = []\n",
        "  if len(generated.split()) > 12:\n",
        "    counts = Counter(generated.split())\n",
        "    counts = sorted(counts.items(), key=lambda x: x[1], reverse=True)\n",
        "    if counts[0][1] == 1 and generated not in generated_verses:\n",
        "      generated_verses.append(generated)\n",
        "      i += 1\n",
        "      print(generated)"
      ],
      "metadata": {
        "id": "ETTeBnj-bpyx",
        "colab": {
          "base_uri": "https://localhost:8080/"
        },
        "outputId": "b02f52a9-8015-47b7-cc89-1df0c7ff2309"
      },
      "execution_count": 34,
      "outputs": [
        {
          "output_type": "stream",
          "name": "stdout",
          "text": [
            "Some Generated Verses: \n",
            "به پیش اندرون کرد یکی بیشه زد بر میان دو لب پر خون\n",
            "چنین گفت کای شاه خسرونژاد که دل مدارید باک منست آورم یاد کرد\n",
            "به منذر چنین گفت کای سرکشان که ای مرد بدساز دل روان را سپرد ایچ تاو\n",
            "خروشی برآمد ایران سپاه که آمد از کشور سیاه رزمگاه خواه نو کلاه گاه\n",
            "کنون کار بگشای بر خیره شد روی گیتی پر از خون گشت چشم\n",
            "یکی نامه بنوشت نزدیک شاه که ای مرد بینادل نیک خواه نگاه گناه\n",
            "بدو گفت بندوی کای سرفراز چرا تیره گشتم مرا دراز فراز آر راز وگوی\n",
            "چنین گفت پیران که ای کن بدین کار ما را خواه نو کنم\n",
            "چو این سخن جز از راستی نباید که او را رها کاستی نیست جفت\n",
            "چو آگاهی آمد بافراسیاب سوی شاه ایران بنهاد روی زمین پر تذرو کرد\n"
          ]
        }
      ]
    }
  ],
  "metadata": {
    "accelerator": "GPU",
    "colab": {
      "provenance": [],
      "include_colab_link": true
    },
    "gpuClass": "standard",
    "kernelspec": {
      "display_name": "Python 3",
      "language": "python",
      "name": "python3"
    },
    "language_info": {
      "codemirror_mode": {
        "name": "ipython",
        "version": 3
      },
      "file_extension": ".py",
      "mimetype": "text/x-python",
      "name": "python",
      "nbconvert_exporter": "python",
      "pygments_lexer": "ipython3",
      "version": "3.9.0 (tags/v3.9.0:9cf6752, Oct  5 2020, 15:34:40) [MSC v.1927 64 bit (AMD64)]"
    },
    "vscode": {
      "interpreter": {
        "hash": "4fbe9694f7587329a2893969593bb646d9caf203732995a36644052b7dd475e8"
      }
    }
  },
  "nbformat": 4,
  "nbformat_minor": 0
}