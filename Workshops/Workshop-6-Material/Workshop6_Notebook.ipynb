{
  "nbformat": 4,
  "nbformat_minor": 5,
  "metadata": {
    "kernelspec": {
      "name": "python3",
      "display_name": "Python 3"
    },
    "language_info": {
      "name": "python",
      "version": "3.9"
    },
    "colab": {
      "provenance": [],
      "toc_visible": true
    }
  },
  "cells": [
    {
      "cell_type": "markdown",
      "metadata": {
        "id": "k3YDSMAiek78"
      },
      "source": [
        "# Week 6 Workshop: Multi-Armed Bandits\n",
        "\n",
        "In this notebook, we will explore the core concepts of **multi-armed bandits**, focusing on:\n",
        "\n",
        "1. Definitions and properties (based on the recitation session).\n",
        "2. Action-value methods and uncertainty in bandits.\n",
        "3. Exploration-exploitation strategies:\n",
        "   - $\\epsilon$-greedy\n",
        "   - Optimistic initial values\n",
        "   - Upper Confidence Bound (UCB)\n",
        "   - Thompson Sampling\n",
        "4. Contextual bandits\n",
        "5. Real-world applications:\n",
        "   - Recommender Systems\n",
        "   - Search\n",
        "6. Summary and key takeaways\n",
        "\n",
        "We'll show **pure Python implementations** and **Gymnasium-based** implementations, so you can see how each algorithm might look in a more standardized RL environment setup.\n",
        "\n",
        "\n",
        "> **Note:** In typical RL frameworks, a bandit is treated as either a single-step environment (reset after each pull) or a multi-step environment with a fixed horizon. The examples below choose a **multi-step environment with a fixed horizon** to mimic `num_steps` pulls in a single episode.\n",
        "\n",
        "\n",
        "\n",
        "By the end of this notebook, you should:\n",
        "- Understand the **multi-armed bandit problem** and how it differs from full RL (non-associative property).\n",
        "- Implement various exploration methods ($\\epsilon$-greedy, UCB, etc.), both purely and via Gymnasium.\n",
        "- Get an introduction to **contextual bandits** and how they generalize the bandit paradigm.\n",
        "- See how these ideas apply to **recommender systems** and **search**."
      ],
      "id": "k3YDSMAiek78"
    },
    {
      "cell_type": "markdown",
      "metadata": {
        "id": "S-ZQXoj6ek7-"
      },
      "source": [
        "## 1. Setup and Imports\n",
        "\n",
        "We'll import:\n",
        "- `numpy` for numerical operations\n",
        "- `matplotlib` for plotting\n",
        "- `gymnasium` to demonstrate how to wrap the bandit environment in the standard Gym interface\n",
        "\n",
        "We also set a random seed for reproducibility."
      ],
      "id": "S-ZQXoj6ek7-"
    },
    {
      "cell_type": "code",
      "metadata": {
        "id": "x9e5RHUYek7_"
      },
      "source": [
        "import numpy as np\n",
        "import matplotlib.pyplot as plt\n",
        "import gymnasium as gym\n",
        "from gymnasium import spaces\n",
        "\n",
        "np.random.seed(42)"
      ],
      "execution_count": null,
      "outputs": [],
      "id": "x9e5RHUYek7_"
    },
    {
      "cell_type": "markdown",
      "metadata": {
        "id": "llhVKi7Gek7_"
      },
      "source": [
        "## 2. Multi-Armed Bandits: Recap\n",
        "\n",
        "### 2.1 Definition of the Problem and Non-Associativity Property\n",
        "\n",
        "From the recitation session:\n",
        "\n",
        "A **multi-armed bandit (MAB)** is a fundamental reinforcement learning setting modeling **decision-making under uncertainty**. The problem is often described as having $k$ different slot machines (arms), each with an **unknown** distribution of rewards.\n",
        "\n",
        "- We have **$ k $** arms/actions.\n",
        "- Each arm $ a $ has an **unknown expected reward** $ q_*(a) $:\n",
        "  $$\n",
        "  q_*(a) = \\mathbb{E}[R \\mid A = a],\n",
        "  $$\n",
        "  where $ R $ is the reward for choosing action $ A $.\n",
        "- We want to **maximize the cumulative reward**:\n",
        "  $$\n",
        "  G = \\sum_{t=1}^{T} R_t.\n",
        "  $$\n",
        "- We **do not** know $ q_*(a) $ and must **estimate** these values over time.\n",
        "\n",
        "**Non-Associativity**:\n",
        "- Unlike a full RL problem, multi-armed bandits are **non-associative**—there are no distinct states or transitions.\n",
        "- The best action does not depend on any \"state\"; the challenge is figuring out which action yields the highest expected reward overall."
      ],
      "id": "llhVKi7Gek7_"
    },
    {
      "cell_type": "markdown",
      "metadata": {
        "id": "WRvHxXMfek7_"
      },
      "source": [
        "### 2.2 Action-Value Methods and Types\n",
        "\n",
        "From the recitation session:\n",
        "\n",
        "We define the **action-value** $ Q_t(a) $ as our estimate of $ q_*(a) $. Using **sample-average methods**:\n",
        "$$\n",
        "Q_t(a) = \\frac{1}{N_t(a)} \\sum_{i=1}^{N_t(a)} R_i,\n",
        "$$\n",
        "where $ N_t(a) $ is the number of times action $ a $ has been chosen up to time $ t $, and $ R_i $ are the observed rewards.\n",
        "\n",
        "**Incremental Update Rule** (to avoid storing entire histories):\n",
        "$$\n",
        "Q_{t+1}(a) = Q_t(a) + \\frac{1}{N_t(a)}(R_t - Q_t(a)).\n",
        "$$\n",
        "\n",
        "#### Constant Step-Size for Nonstationary Problems\n",
        "When rewards change over time, we use **constant step-size** $ \\alpha $:\n",
        "$$\n",
        "Q_{t+1}(a) = Q_t(a) + \\alpha (R_t - Q_t(a)).\n",
        "$$\n",
        "- Large $\\alpha$ gives more weight to recent data, useful for **nonstationary** environments."
      ],
      "id": "WRvHxXMfek7_"
    },
    {
      "cell_type": "markdown",
      "metadata": {
        "id": "lCA-sLOXek8A"
      },
      "source": [
        "### 2.3 Exploration-Exploitation Dilemma and Uncertainty\n",
        "\n",
        "From the recitation session:\n",
        "\n",
        "A core challenge is balancing **exploration** and **exploitation**:\n",
        "- **Exploration**: try different actions to reduce uncertainty in their value estimates.\n",
        "- **Exploitation**: select the best-known action to maximize immediate reward.\n",
        "\n",
        "Mathematically, if an action is not selected often, $ N_t(a) $ remains small, so the **uncertainty** in its estimate is large. An agent must ensure all actions are sufficiently explored to accurately approximate $ q_*(a) $."
      ],
      "id": "lCA-sLOXek8A"
    },
    {
      "cell_type": "markdown",
      "metadata": {
        "id": "3rdx_cQmek8A"
      },
      "source": [
        "## 3. Exploration in Bandits\n",
        "\n",
        "We now discuss the exploration strategies described in the recitation session, plus some additional ones and extra details. We'll first show **plain Python** implementations, then **Gymnasium-based** versions."
      ],
      "id": "3rdx_cQmek8A"
    },
    {
      "cell_type": "markdown",
      "metadata": {
        "id": "CjV7RzUWek8A"
      },
      "source": [
        "### 3.1 $\\epsilon$-Greedy\n",
        "\n",
        "From the recitation:\n",
        "\n",
        "> **$\\epsilon$-greedy**:\n",
        "> $$\n",
        "> A_t =\n",
        "> \\begin{cases}\n",
        "> \\arg\\max_a Q_t(a), & \\text{with probability } 1-\\epsilon \\\\\n",
        "> \\text{random } a, & \\text{with probability } \\epsilon.\n",
        "> \\end{cases}\n",
        "> $$\n",
        "\n",
        "- Simple to implement.\n",
        "- Guarantees each arm is sampled (with probability $\\epsilon$).\n",
        "- Can be inefficient if $\\epsilon$ is large because it spends too much time on suboptimal arms.\n",
        "\n",
        "#### 3.1.1 Plain Python: Bernoulli Bandit and $\\epsilon$-Greedy"
      ],
      "id": "CjV7RzUWek8A"
    },
    {
      "cell_type": "code",
      "metadata": {
        "colab": {
          "base_uri": "https://localhost:8080/"
        },
        "id": "S-ZncU5qek8A",
        "outputId": "168b5725-d66c-4057-d52f-ea8f1497d2dc"
      },
      "source": [
        "class BernoulliBandit:\n",
        "    \"\"\"\n",
        "    A simple k-armed Bernoulli bandit.\n",
        "    Each arm i has a probability p[i] of returning reward=1.\n",
        "    \"\"\"\n",
        "    def __init__(self, p):\n",
        "        self.p = np.array(p)\n",
        "        self.k = len(p)\n",
        "\n",
        "    def step(self, action):\n",
        "        # Returns 1 with probability p[action], else 0\n",
        "        return 1 if np.random.rand() < self.p[action] else 0\n",
        "\n",
        "def epsilon_greedy(bandit, num_steps=1000, epsilon=0.1):\n",
        "    \"\"\"\n",
        "    Epsilon-greedy action selection.\n",
        "    bandit: an instance of BernoulliBandit\n",
        "    num_steps: total number of pulls\n",
        "    epsilon: exploration rate\n",
        "    \"\"\"\n",
        "    k = bandit.k\n",
        "    Q = np.zeros(k) # Estimated values of arms\n",
        "    N = np.zeros(k) # Count of pulls for each arm\n",
        "\n",
        "    rewards_history = []\n",
        "\n",
        "    for _ in range(num_steps):\n",
        "        # Explore vs Exploit\n",
        "        if np.random.rand() < epsilon:\n",
        "            action = np.random.randint(k) # Explore\n",
        "        else:\n",
        "            action = np.argmax(Q) # Exploit\n",
        "\n",
        "        reward = bandit.step(action)\n",
        "        N[action] += 1\n",
        "        Q[action] += (reward - Q[action]) / N[action] # Update estimate\n",
        "        rewards_history.append(reward)\n",
        "\n",
        "    return np.array(rewards_history), Q\n",
        "\n",
        "# Demo (plain Python)\n",
        "p = [0.1, 0.3, 0.8]\n",
        "bandit = BernoulliBandit(p)\n",
        "rewards, Q_est = epsilon_greedy(bandit, num_steps=1000, epsilon=0.1)\n",
        "print(f\"Estimated Q-values: {Q_est}\")\n",
        "print(f\"Total reward: {rewards.sum()} out of 1000 pulls\")"
      ],
      "execution_count": null,
      "outputs": [
        {
          "output_type": "stream",
          "name": "stdout",
          "text": [
            "Estimated Q-values: [0.0625     0.36585366 0.80241493]\n",
            "Total reward: 749 out of 1000 pulls\n"
          ]
        }
      ],
      "id": "S-ZncU5qek8A"
    },
    {
      "cell_type": "markdown",
      "metadata": {
        "id": "XuPNSFU_ek8A"
      },
      "source": [
        "#### 3.1.2 Gymnasium-Based Implementation: $\\epsilon$-Greedy\n",
        "\n",
        "Below, we wrap the Bernoulli bandit logic in a Gymnasium environment. In this approach:\n",
        "- We have a single episode of length `num_steps`.\n",
        "- The environment’s `action_space` is `Discrete(k)`.\n",
        "- Observations are trivial (we’ll just return a dummy array).\n",
        "- After each `step(action)`, we increment an internal step count and eventually set `done=True` when `num_steps` is reached.\n",
        "\n",
        "Then we run an $\\epsilon$-greedy policy in the **standard Gym loop**."
      ],
      "id": "XuPNSFU_ek8A"
    },
    {
      "cell_type": "code",
      "metadata": {
        "colab": {
          "base_uri": "https://localhost:8080/"
        },
        "id": "4Jsu6xSyek8A",
        "outputId": "8e0c48f1-55c0-4d64-8408-2623640d3807"
      },
      "source": [
        "class BernoulliBanditEnv(gym.Env):\n",
        "    \"\"\"\n",
        "    Gymnasium environment for a k-armed Bernoulli bandit.\n",
        "    The episode length is fixed to num_steps.\n",
        "    \"\"\"\n",
        "    def __init__(self, p, num_steps=1000):\n",
        "        super().__init__()\n",
        "        self.p = np.array(p)\n",
        "        self.k = len(p)\n",
        "        self.num_steps = num_steps\n",
        "\n",
        "        # Define action & observation space\n",
        "        self.action_space = spaces.Discrete(self.k)\n",
        "        # We'll return a dummy observation (e.g., shape (1,))\n",
        "        self.observation_space = spaces.Box(low=0.0, high=1.0, shape=(1,), dtype=np.float32)\n",
        "\n",
        "        self.current_step = 0\n",
        "\n",
        "    def reset(self, seed=None, options=None):\n",
        "        super().reset(seed=seed)\n",
        "        self.current_step = 0\n",
        "        # Return a dummy observation\n",
        "        return np.array([0.0], dtype=np.float32), {}\n",
        "\n",
        "    def step(self, action):\n",
        "        reward = 1 if np.random.rand() < self.p[action] else 0\n",
        "        self.current_step += 1\n",
        "        done = (self.current_step >= self.num_steps)\n",
        "        # We don't have a meaningful observation, so just return a dummy\n",
        "        obs = np.array([0.0], dtype=np.float32)\n",
        "        info = {}\n",
        "        return obs, float(reward), done, False, info\n",
        "\n",
        "# Gym-based epsilon-greedy\n",
        "def epsilon_greedy_gym(env, epsilon=0.1):\n",
        "    k = env.action_space.n\n",
        "    Q = np.zeros(k)\n",
        "    N = np.zeros(k)\n",
        "    rewards_history = []\n",
        "\n",
        "    obs, info = env.reset()\n",
        "    done = False\n",
        "    step_count = 0\n",
        "\n",
        "    while not done:\n",
        "        step_count += 1\n",
        "        # Explore vs Exploit\n",
        "        if np.random.rand() < epsilon:\n",
        "            action = np.random.randint(k)\n",
        "        else:\n",
        "            action = np.argmax(Q)\n",
        "\n",
        "        obs, reward, done, truncated, info = env.step(action)\n",
        "\n",
        "        N[action] += 1\n",
        "        Q[action] += (reward - Q[action]) / N[action]\n",
        "        rewards_history.append(reward)\n",
        "\n",
        "        if done or truncated:\n",
        "            break\n",
        "\n",
        "    return np.array(rewards_history), Q\n",
        "\n",
        "# Demo (Gym)\n",
        "p = [0.1, 0.3, 0.8]\n",
        "env = BernoulliBanditEnv(p, num_steps=1000)\n",
        "gym_rewards, gym_Q = epsilon_greedy_gym(env, epsilon=0.1)\n",
        "print(f\"[GYM] Estimated Q-values: {gym_Q}\")\n",
        "print(f\"[GYM] Total reward: {gym_rewards.sum()} out of 1000 pulls\")"
      ],
      "execution_count": null,
      "outputs": [
        {
          "output_type": "stream",
          "name": "stdout",
          "text": [
            "[GYM] Estimated Q-values: [0.0625     0.33962264 0.80294451]\n",
            "[GYM] Total reward: 731.0 out of 1000 pulls\n"
          ]
        }
      ],
      "id": "4Jsu6xSyek8A"
    },
    {
      "cell_type": "markdown",
      "metadata": {
        "id": "ja9YVPb7ek8B"
      },
      "source": [
        "### 3.2 Optimistic Initial Values\n",
        "\n",
        "From the recitation session:\n",
        "\n",
        "> **Optimistic Initial Values**: Initialize $ Q_1(a) $ to a high value (e.g., 5), so the agent is initially optimistic about all actions, forcing early exploration.\n",
        "\n",
        "#### 3.2.1 Plain Python: Optimistic Initial Values"
      ],
      "id": "ja9YVPb7ek8B"
    },
    {
      "cell_type": "code",
      "metadata": {
        "colab": {
          "base_uri": "https://localhost:8080/"
        },
        "id": "lHhAIgDGek8B",
        "outputId": "6da5249e-11f4-48ea-b8cb-2a98311e444a"
      },
      "source": [
        "def optimistic_initial_values(bandit, num_steps=1000, initial_value=5.0):\n",
        "    k = bandit.k\n",
        "    Q = np.ones(k) * initial_value # Optimistic values\n",
        "    N = np.zeros(k)\n",
        "    rewards_history = []\n",
        "\n",
        "    for _ in range(num_steps):\n",
        "        action = np.argmax(Q) # Always pick the best-known arm\n",
        "        reward = bandit.step(action)\n",
        "        N[action] += 1\n",
        "        Q[action] += (reward - Q[action]) / N[action] # Update estimate\n",
        "        rewards_history.append(reward)\n",
        "\n",
        "    return np.array(rewards_history), Q\n",
        "\n",
        "# Demo (plain Python)\n",
        "p = [0.1, 0.3, 0.8]\n",
        "bandit = BernoulliBandit(p)\n",
        "rewards_opt, Q_opt = optimistic_initial_values(bandit, num_steps=1000, initial_value=5.0)\n",
        "print(f\"Estimated Q-values: {Q_opt}\")\n",
        "print(f\"Total reward: {rewards_opt.sum()} out of 1000 pulls\")"
      ],
      "execution_count": null,
      "outputs": [
        {
          "output_type": "stream",
          "name": "stdout",
          "text": [
            "Estimated Q-values: [0.         0.         0.80561122]\n",
            "Total reward: 804 out of 1000 pulls\n"
          ]
        }
      ],
      "id": "lHhAIgDGek8B"
    },
    {
      "cell_type": "markdown",
      "metadata": {
        "id": "ugpk3HSDek8B"
      },
      "source": [
        "#### 3.2.2 Gymnasium-Based Implementation: Optimistic Initial Values\n",
        "\n",
        "We’ll reuse `BernoulliBanditEnv`. We just need to set initial estimates to a high value in the Gym loop."
      ],
      "id": "ugpk3HSDek8B"
    },
    {
      "cell_type": "code",
      "metadata": {
        "colab": {
          "base_uri": "https://localhost:8080/"
        },
        "id": "Y4PFQC7gek8B",
        "outputId": "c4f48ed7-d5c8-4e19-b8c1-a3dc10755a09"
      },
      "source": [
        "def optimistic_initial_values_gym(env, initial_value=5.0):\n",
        "    k = env.action_space.n\n",
        "    Q = np.ones(k) * initial_value\n",
        "    N = np.zeros(k)\n",
        "    rewards_history = []\n",
        "\n",
        "    obs, info = env.reset()\n",
        "    done = False\n",
        "    step_count = 0\n",
        "\n",
        "    while not done:\n",
        "        step_count += 1\n",
        "        action = np.argmax(Q)\n",
        "        obs, reward, done, truncated, info = env.step(action)\n",
        "        N[action] += 1\n",
        "        Q[action] += (reward - Q[action]) / N[action]\n",
        "        rewards_history.append(reward)\n",
        "\n",
        "        if done or truncated:\n",
        "            break\n",
        "\n",
        "    return np.array(rewards_history), Q\n",
        "\n",
        "# Demo (Gym)\n",
        "p = [0.1, 0.3, 0.8]\n",
        "env = BernoulliBanditEnv(p, num_steps=1000)\n",
        "gym_rewards_opt, gym_Q_opt = optimistic_initial_values_gym(env, initial_value=5.0)\n",
        "print(f\"[GYM] Estimated Q-values: {gym_Q_opt}\")\n",
        "print(f\"[GYM] Total reward: {gym_rewards_opt.sum()} out of 1000 pulls\")"
      ],
      "execution_count": null,
      "outputs": [
        {
          "output_type": "stream",
          "name": "stdout",
          "text": [
            "[GYM] Estimated Q-values: [0.11222445 0.         0.        ]\n",
            "[GYM] Total reward: 112.0 out of 1000 pulls\n"
          ]
        }
      ],
      "id": "Y4PFQC7gek8B"
    },
    {
      "cell_type": "markdown",
      "metadata": {
        "id": "NDMuq4azek8B"
      },
      "source": [
        "### 3.3 Upper Confidence Bound (UCB)\n",
        "\n",
        "From the recitation session:\n",
        "\n",
        "> **UCB**:\n",
        "> Improves on $\\epsilon$-greedy by considering uncertainty in action values:\n",
        "> $$\n",
        "> A_t = \\arg\\max_a \\left[ Q_t(a) + c \\sqrt{\\frac{\\ln t}{N_t(a)}} \\right].\n",
        "> $$\n",
        "> Where:\n",
        "> - $ Q_t(a) $ is the estimated action value.\n",
        "> - $ \\sqrt{\\frac{\\ln t}{N_t(a)}} $ is the confidence bound.\n",
        "> - $ c $ controls exploration.\n",
        "- The second term which is the **confidence bound**, shrinks as $ N_t(a) $ grows.\n",
        "- $ c $ is a hyperparameter controlling the degree of exploration.\n",
        "\n",
        "#### 3.3.1 Plain Python: UCB Implementation"
      ],
      "id": "NDMuq4azek8B"
    },
    {
      "cell_type": "code",
      "metadata": {
        "colab": {
          "base_uri": "https://localhost:8080/"
        },
        "id": "bb7GDCrVek8B",
        "outputId": "12d09130-c1a7-493a-a397-b6f95bc45a5c"
      },
      "source": [
        "def ucb(bandit, num_steps=1000, c=2.0):\n",
        "    k = bandit.k\n",
        "    Q = np.zeros(k)\n",
        "    N = np.zeros(k)\n",
        "    rewards_history = []\n",
        "\n",
        "    for t in range(1, num_steps + 1):\n",
        "        if t <= k:\n",
        "            action = t - 1\n",
        "        else:\n",
        "            confidence = c * np.sqrt(np.log(t) / (N + 1e-9))\n",
        "            ucb_values = Q + confidence\n",
        "            action = np.argmax(ucb_values)\n",
        "\n",
        "        reward = bandit.step(action)\n",
        "        N[action] += 1\n",
        "        Q[action] += (reward - Q[action]) / N[action] # Update estimate\n",
        "        rewards_history.append(reward)\n",
        "\n",
        "    return np.array(rewards_history), Q\n",
        "\n",
        "# Demo (plain Python)\n",
        "p = [0.1, 0.3, 0.8]\n",
        "bandit = BernoulliBandit(p)\n",
        "rewards_ucb, Q_ucb = ucb(bandit, num_steps=1000, c=2.0)\n",
        "print(f\"Estimated Q-values: {Q_ucb}\")\n",
        "print(f\"Total reward: {rewards_ucb.sum()} out of 1000 pulls\")"
      ],
      "execution_count": null,
      "outputs": [
        {
          "output_type": "stream",
          "name": "stdout",
          "text": [
            "Estimated Q-values: [0.15       0.33333333 0.80760626]\n",
            "Total reward: 750 out of 1000 pulls\n"
          ]
        }
      ],
      "id": "bb7GDCrVek8B"
    },
    {
      "cell_type": "markdown",
      "metadata": {
        "id": "8B0P626bek8C"
      },
      "source": [
        "#### 3.3.2 Gymnasium-Based Implementation: UCB\n",
        "\n",
        "We again use `BernoulliBanditEnv` and incorporate the same UCB formula in the Gym loop."
      ],
      "id": "8B0P626bek8C"
    },
    {
      "cell_type": "code",
      "metadata": {
        "colab": {
          "base_uri": "https://localhost:8080/"
        },
        "id": "BHGlqh3Tek8C",
        "outputId": "46f8d91a-e5f3-4265-ebc8-f1ba3a4c4c37"
      },
      "source": [
        "def ucb_gym(env, c=2.0):\n",
        "    k = env.action_space.n\n",
        "    Q = np.zeros(k)\n",
        "    N = np.zeros(k)\n",
        "    rewards_history = []\n",
        "\n",
        "    obs, info = env.reset()\n",
        "    done = False\n",
        "    t = 0\n",
        "\n",
        "    while not done:\n",
        "        t += 1\n",
        "        if t <= k:\n",
        "            action = t - 1\n",
        "        else:\n",
        "            confidence = c * np.sqrt(np.log(t) / (N + 1e-9))\n",
        "            ucb_values = Q + confidence\n",
        "            action = np.argmax(ucb_values)\n",
        "\n",
        "        obs, reward, done, truncated, info = env.step(action)\n",
        "        N[action] += 1\n",
        "        Q[action] += (reward - Q[action]) / N[action]\n",
        "        rewards_history.append(reward)\n",
        "\n",
        "        if done or truncated:\n",
        "            break\n",
        "\n",
        "    return np.array(rewards_history), Q\n",
        "\n",
        "# Demo (Gym)\n",
        "p = [0.1, 0.3, 0.8]\n",
        "env = BernoulliBanditEnv(p, num_steps=1000)\n",
        "gym_rewards_ucb, gym_Q_ucb = ucb_gym(env, c=2.0)\n",
        "print(f\"[GYM] Estimated Q-values: {gym_Q_ucb}\")\n",
        "print(f\"[GYM] Total reward: {gym_rewards_ucb.sum()} out of 1000 pulls\")"
      ],
      "execution_count": null,
      "outputs": [
        {
          "output_type": "stream",
          "name": "stdout",
          "text": [
            "[GYM] Estimated Q-values: [0.08333333 0.30769231 0.78642937]\n",
            "[GYM] Total reward: 730.0 out of 1000 pulls\n"
          ]
        }
      ],
      "id": "BHGlqh3Tek8C"
    },
    {
      "cell_type": "markdown",
      "metadata": {
        "id": "woxin7q0ek8C"
      },
      "source": [
        "### 3.4 Thompson Sampling (Additional)\n",
        "\n",
        "**Thompson Sampling** is a popular approach that uses **Bayesian updating** of reward distributions.\n",
        "\n",
        "\n",
        "> [A Tutorial on Thompson Sampling, by Russo et al.](https://web.stanford.edu/~bvr/pubs/TS_Tutorial.pdf)\n",
        "\n",
        "\n",
        "\n",
        "1.  **A short explanation:**\n",
        "\n",
        "In the Thompson Sampling implementation, **α (alpha)** and **β (beta)** are the parameters of the **Beta distribution** used as a prior (and posterior) for each arm's probability of reward. In the context of a Bernoulli bandit:\n",
        "\n",
        "*   α (alpha) represents the count of \"successes\" (i.e. rewards of 1) plus one (initially, it starts at 1).\n",
        "*   β (beta) represents the count of \"failures\" (i.e. rewards of 0) plus one (also starting at 1).\n",
        "\n",
        "\n",
        "\n",
        "2.  **Core Idea** (Very Short):\n",
        "\n",
        "At each time step, for each **arm**, we sample a **probability** from its **Beta(α, β) distribution**. Then, we choose the arm with **the highest sampled probability**. This naturally balances exploration (arms with uncertain outcomes have **wider** Beta distributions, which might yield **high** samples) and exploitation (arms with many successes have higher mean values).\n",
        "\n",
        "In the code snippets below the main idea is, after pulling an arm:\n",
        "\n",
        "*   If a reward is received (i.e. reward = 1), the corresponding α is incremented.\n",
        "*   If no reward is received (reward = 0), the corresponding β is incremented.\n",
        "\n",
        "This Bayesian update refines our estimate of each arm's probability over time.\n",
        "\n",
        "#### 3.4.1 Plain Python: Thompson Sampling"
      ],
      "id": "woxin7q0ek8C"
    },
    {
      "cell_type": "code",
      "metadata": {
        "colab": {
          "base_uri": "https://localhost:8080/"
        },
        "id": "9TVtdpl_ek8C",
        "outputId": "0dff594a-4222-4657-8f54-18b6ab03ad9e"
      },
      "source": [
        "def thompson_sampling(bandit, num_steps=1000):\n",
        "    k = bandit.k\n",
        "    alpha = np.ones(k)\n",
        "    beta = np.ones(k)\n",
        "    rewards_history = []\n",
        "\n",
        "    for _ in range(num_steps):\n",
        "        # Sample from Beta distributions\n",
        "        sampled_q = np.random.beta(alpha, beta)\n",
        "        action = np.argmax(sampled_q)\n",
        "        reward = bandit.step(action)\n",
        "\n",
        "        if reward == 1:\n",
        "            alpha[action] += 1\n",
        "        else:\n",
        "            beta[action] += 1\n",
        "        rewards_history.append(reward)\n",
        "\n",
        "    return np.array(rewards_history), alpha, beta\n",
        "\n",
        "# Demo (plain Python)\n",
        "p = [0.1, 0.3, 0.8]\n",
        "bandit = BernoulliBandit(p)\n",
        "rewards_ts, alpha_ts, beta_ts = thompson_sampling(bandit, 1000)\n",
        "print(f\"Total reward with Thompson Sampling: {rewards_ts.sum()}\")\n",
        "print(f\"Final alpha: {alpha_ts}, final beta: {beta_ts}\")"
      ],
      "execution_count": null,
      "outputs": [
        {
          "output_type": "stream",
          "name": "stdout",
          "text": [
            "Total reward with Thompson Sampling: 803\n",
            "Final alpha: [  1.   2. 803.], final beta: [  5.   6. 189.]\n"
          ]
        }
      ],
      "id": "9TVtdpl_ek8C"
    },
    {
      "cell_type": "markdown",
      "metadata": {
        "id": "i3os1baIek8C"
      },
      "source": [
        "#### 3.4.2 Gymnasium-Based Implementation: Thompson Sampling\n",
        "\n",
        "We’ll maintain separate Beta($\\alpha$,$\\beta$) parameters for each arm, sampling from them in each environment step."
      ],
      "id": "i3os1baIek8C"
    },
    {
      "cell_type": "code",
      "metadata": {
        "colab": {
          "base_uri": "https://localhost:8080/"
        },
        "id": "ZViPAFFFek8C",
        "outputId": "a9f86bbb-4822-4d21-faa1-ca3b97ab610a"
      },
      "source": [
        "def thompson_sampling_gym(env):\n",
        "    k = env.action_space.n\n",
        "    alpha = np.ones(k)\n",
        "    beta = np.ones(k)\n",
        "    rewards_history = []\n",
        "\n",
        "    obs, info = env.reset()\n",
        "    done = False\n",
        "    while not done:\n",
        "        sampled_q = np.random.beta(alpha, beta)\n",
        "        action = np.argmax(sampled_q)\n",
        "        obs, reward, done, truncated, info = env.step(action)\n",
        "\n",
        "        if reward == 1:\n",
        "            alpha[action] += 1\n",
        "        else:\n",
        "            beta[action] += 1\n",
        "        rewards_history.append(reward)\n",
        "\n",
        "        if done or truncated:\n",
        "            break\n",
        "\n",
        "    return np.array(rewards_history), alpha, beta\n",
        "\n",
        "# Demo (Gym)\n",
        "p = [0.1, 0.3, 0.8]\n",
        "env = BernoulliBanditEnv(p, num_steps=1000)\n",
        "gym_rewards_ts, gym_alpha_ts, gym_beta_ts = thompson_sampling_gym(env)\n",
        "print(f\"[GYM] Total reward with Thompson Sampling: {gym_rewards_ts.sum()}\")\n",
        "print(f\"[GYM] Final alpha: {gym_alpha_ts}, final beta: {gym_beta_ts}\")"
      ],
      "execution_count": null,
      "outputs": [
        {
          "output_type": "stream",
          "name": "stdout",
          "text": [
            "[GYM] Total reward with Thompson Sampling: 795.0\n",
            "[GYM] Final alpha: [  1.   4. 793.], final beta: [  6.   5. 197.]\n"
          ]
        }
      ],
      "id": "ZViPAFFFek8C"
    },
    {
      "cell_type": "markdown",
      "metadata": {
        "id": "VGV9VVR2ek8C"
      },
      "source": [
        "## 4. Contextual Bandits\n",
        "\n",
        "In **contextual bandits**, each action’s reward depends on an observed **context** (features). This is more realistic (e.g., user profile for recommender systems).\n",
        "\n",
        "### 4.1 Contextual Bandit Example (Plain Python)\n",
        "Below, each arm has a weight vector. The environment returns a random context $ x $, and the probability of reward is $ \\sigma(w_a^T x) $, where $ \\sigma $ is the logistic function."
      ],
      "id": "VGV9VVR2ek8C"
    },
    {
      "cell_type": "code",
      "metadata": {
        "id": "hFhAGuYnek8C"
      },
      "source": [
        "class ContextualBanditEnv:\n",
        "    def __init__(self, weights):\n",
        "        \"\"\"\n",
        "        weights: array of shape (k, d).\n",
        "        Each row corresponds to an arm's weight vector.\n",
        "        \"\"\"\n",
        "        self.weights = weights\n",
        "        self.k = weights.shape[0]\n",
        "        self.d = weights.shape[1]\n",
        "\n",
        "    def get_context(self):\n",
        "        # Return a random context\n",
        "        return np.random.randn(self.d)\n",
        "\n",
        "    def step(self, action, context):\n",
        "        w = self.weights[action]\n",
        "        p = 1.0 / (1.0 + np.exp(- w.dot(context)))\n",
        "        return 1 if np.random.rand() < p else 0\n"
      ],
      "execution_count": null,
      "outputs": [],
      "id": "hFhAGuYnek8C"
    },
    {
      "cell_type": "markdown",
      "metadata": {
        "id": "LPpet22Jek8D"
      },
      "source": [
        "### 4.2 A Simple LinUCB-Like Approach (Plain Python)\n",
        "\n",
        "We assume each arm’s reward is linear in the context, plus a confidence bonus for exploration.\n",
        "\n",
        "**Core Idea:**\n",
        "\n",
        "The core idea of this LinUCB-like approach is to use a linear model for each arm that predicts the expected reward given a context, and then add a confidence bonus to that prediction to encourage exploration. In the code:\n",
        "\n",
        "*   For each arm, we maintain a matrix $A$ (which tracks the covariance of the contexts) and a vector $b$ (which accumulates the weighted rewards).\n",
        "*   The estimated parameter $θ$ for each arm is computed as $θ=A^{−1}b$.\n",
        "*   For a given context $x$, the predicted reward is $θ^Tx$, and the confidence bonus is $𝛼\\sqrt{x^TA^{-1}x}$.\n",
        "*   The arm chosen is the one that maximizes the sum of the predicted reward and the bonus.\n",
        "*   After taking an action and receiving a reward, the algorithm updates $A$ and $b$ for the selected arm.\n",
        "\n",
        "This method naturally balances exploitation (choosing the arm with the highest predicted reward) and exploration (choosing arms with high uncertainty)."
      ],
      "id": "LPpet22Jek8D"
    },
    {
      "cell_type": "code",
      "metadata": {
        "colab": {
          "base_uri": "https://localhost:8080/"
        },
        "id": "D-RlSQrpek8D",
        "outputId": "3db27798-f7eb-4df0-8392-5095d5984e6a"
      },
      "source": [
        "def linucb(env, num_steps=1000, alpha=1.0):\n",
        "    k = env.k\n",
        "    d = env.d\n",
        "\n",
        "    A = [np.eye(d) for _ in range(k)]\n",
        "    b = [np.zeros(d) for _ in range(k)]\n",
        "    rewards_history = []\n",
        "\n",
        "    for _ in range(num_steps):\n",
        "        x = env.get_context()\n",
        "        p_t = []\n",
        "        for a in range(k):\n",
        "            A_inv = np.linalg.inv(A[a])\n",
        "            theta_a = A_inv.dot(b[a])\n",
        "            mean = theta_a.dot(x)\n",
        "            conf = alpha * np.sqrt(x.T.dot(A_inv).dot(x))\n",
        "            p_t.append(mean + conf)\n",
        "\n",
        "        action = np.argmax(p_t)\n",
        "        reward = env.step(action, x)\n",
        "        rewards_history.append(reward)\n",
        "\n",
        "        A[action] += np.outer(x, x)\n",
        "        b[action] += reward * x\n",
        "\n",
        "    return np.array(rewards_history)\n",
        "\n",
        "# Demo (plain Python)\n",
        "weights = np.array([\n",
        "    [2.0, -1.0],  # arm 0\n",
        "    [-1.0, 2.0],  # arm 1\n",
        "    [1.0, 1.0]    # arm 2\n",
        "])\n",
        "ctx_env = ContextualBanditEnv(weights)\n",
        "rewards_linucb = linucb(ctx_env, num_steps=1000, alpha=1.0)\n",
        "print(\"Total reward with LinUCB in contextual bandit:\", rewards_linucb.sum())"
      ],
      "execution_count": null,
      "outputs": [
        {
          "output_type": "stream",
          "name": "stdout",
          "text": [
            "Total reward with LinUCB in contextual bandit: 727\n"
          ]
        }
      ],
      "id": "D-RlSQrpek8D"
    },
    {
      "cell_type": "markdown",
      "metadata": {
        "id": "L5oM__Ktek8D"
      },
      "source": [
        "### 4.3 Gymnasium-Based Contextual Bandit\n",
        "\n",
        "We can also wrap this contextual bandit logic in a Gym environment. Each step:\n",
        "1. We provide an observation = the current context.\n",
        "2. The agent chooses an action.\n",
        "3. We compute a reward.\n",
        "4. We sample a new context for the next step.\n",
        "5. The episode ends after `num_steps`."
      ],
      "id": "L5oM__Ktek8D"
    },
    {
      "cell_type": "code",
      "metadata": {
        "id": "wA-m1BwKek8D"
      },
      "source": [
        "class ContextualBanditGymEnv(gym.Env):\n",
        "    def __init__(self, weights, num_steps=1000):\n",
        "        super().__init__()\n",
        "        self.weights = weights\n",
        "        self.k = weights.shape[0]\n",
        "        self.d = weights.shape[1]\n",
        "        self.num_steps = num_steps\n",
        "        self.current_step = 0\n",
        "\n",
        "        self.action_space = spaces.Discrete(self.k)\n",
        "        # Observation is a d-dimensional context\n",
        "        self.observation_space = spaces.Box(\n",
        "            low=-np.inf, high=np.inf, shape=(self.d,), dtype=np.float32\n",
        "        )\n",
        "\n",
        "    def reset(self, seed=None, options=None):\n",
        "        super().reset(seed=seed)\n",
        "        self.current_step = 0\n",
        "        # Sample an initial context\n",
        "        self.context = np.random.randn(self.d).astype(np.float32)\n",
        "        return self.context, {}\n",
        "\n",
        "    def step(self, action):\n",
        "        # Probability of reward = sigmoid(w_a . context)\n",
        "        w = self.weights[action]\n",
        "        p = 1.0 / (1.0 + np.exp(- w.dot(self.context)))\n",
        "        reward = 1.0 if np.random.rand() < p else 0.0\n",
        "\n",
        "        self.current_step += 1\n",
        "        done = (self.current_step >= self.num_steps)\n",
        "        info = {}\n",
        "\n",
        "        # Sample next context\n",
        "        self.context = np.random.randn(self.d).astype(np.float32)\n",
        "        return self.context, reward, done, False, info"
      ],
      "execution_count": null,
      "outputs": [],
      "id": "wA-m1BwKek8D"
    },
    {
      "cell_type": "markdown",
      "metadata": {
        "id": "um37WE8pek8D"
      },
      "source": [
        "#### 4.3.1 Gymnasium LinUCB Demo\n",
        "We now adapt the **LinUCB** approach to use `ContextualBanditGymEnv`. We'll do a single episode of length `num_steps` and keep track of the contexts at each step."
      ],
      "id": "um37WE8pek8D"
    },
    {
      "cell_type": "code",
      "metadata": {
        "colab": {
          "base_uri": "https://localhost:8080/"
        },
        "id": "XhnTV2TDek8D",
        "outputId": "4ca388bc-494a-4b44-bfd4-b1e948d3fb70"
      },
      "source": [
        "def linucb_gym(env, alpha=1.0):\n",
        "    k = env.action_space.n\n",
        "    d = env.observation_space.shape[0]\n",
        "    A = [np.eye(d) for _ in range(k)]\n",
        "    b = [np.zeros(d) for _ in range(k)]\n",
        "    rewards_history = []\n",
        "\n",
        "    obs, info = env.reset()\n",
        "    done = False\n",
        "\n",
        "    while not done:\n",
        "        x = obs  # current context\n",
        "        p_t = []\n",
        "        for a in range(k):\n",
        "            A_inv = np.linalg.inv(A[a])\n",
        "            theta_a = A_inv.dot(b[a])\n",
        "            mean = theta_a.dot(x)\n",
        "            conf = alpha * np.sqrt(x.T.dot(A_inv).dot(x))\n",
        "            p_t.append(mean + conf)\n",
        "\n",
        "        action = np.argmax(p_t)\n",
        "        new_obs, reward, done, truncated, info = env.step(action)\n",
        "        rewards_history.append(reward)\n",
        "\n",
        "        # Update\n",
        "        A[action] += np.outer(x, x)\n",
        "        b[action] += reward * x\n",
        "\n",
        "        obs = new_obs\n",
        "        if done or truncated:\n",
        "            break\n",
        "\n",
        "    return np.array(rewards_history)\n",
        "\n",
        "# Demo (Gym)\n",
        "weights = np.array([\n",
        "    [2.0, -1.0],  # arm 0\n",
        "    [-1.0, 2.0],  # arm 1\n",
        "    [1.0, 1.0]    # arm 2\n",
        "])\n",
        "env = ContextualBanditGymEnv(weights, num_steps=1000)\n",
        "gym_rewards_linucb = linucb_gym(env, alpha=1.0)\n",
        "print(\"[GYM] Total reward with LinUCB in contextual bandit:\", gym_rewards_linucb.sum())"
      ],
      "execution_count": null,
      "outputs": [
        {
          "output_type": "stream",
          "name": "stdout",
          "text": [
            "[GYM] Total reward with LinUCB in contextual bandit: 715.0\n"
          ]
        }
      ],
      "id": "XhnTV2TDek8D"
    },
    {
      "cell_type": "markdown",
      "metadata": {
        "id": "Rc0YcEOAek8D"
      },
      "source": [
        "## 5. Bandit Applications\n",
        "In this section, we provide **practical examples** for two major real-world applications of bandits:\n",
        "- Recommender Systems\n",
        "- Search\n",
        "\n",
        "We’ll show both **pure Python** and **Gymnasium** approaches."
      ],
      "id": "Rc0YcEOAek8D"
    },
    {
      "cell_type": "markdown",
      "metadata": {
        "id": "gokDaD3Fek8D"
      },
      "source": [
        "### 5.1 Recommender Systems\n",
        "\n",
        "A recommender system often picks an item (action) to recommend for a particular user, receives feedback (reward), and aims to maximize user satisfaction (clicks, watch time, etc.).\n",
        "\n",
        "#### 5.1.1 Pure Python Example [EXTRA]\n",
        "We'll simulate a scenario where we have `k` items to recommend, and each user is described by a **context** vector. We'll keep it simple:\n",
        "- Each item has a weight vector.\n",
        "- The user context is sampled randomly.\n",
        "- The probability of a click (reward=1) is `sigmoid(w_item . context)`.\n",
        "We'll implement a minimal function to **run an $\\epsilon$-greedy** approach for demonstration."
      ],
      "id": "gokDaD3Fek8D"
    },
    {
      "cell_type": "code",
      "metadata": {
        "colab": {
          "base_uri": "https://localhost:8080/"
        },
        "id": "Jqbm4UcWek8D",
        "outputId": "e1366282-cae0-47fd-de7c-be0cfafbf6a0"
      },
      "source": [
        "class RecommenderSystemBandit:\n",
        "    \"\"\"\n",
        "    Pure Python bandit environment for a recommender system.\n",
        "    \"\"\"\n",
        "    def __init__(self, item_weights, context_dim=2, num_users=1000):\n",
        "        \"\"\"\n",
        "        item_weights: np.array of shape (k, context_dim)\n",
        "        context_dim: dimension of each user's feature vector\n",
        "        num_users: how many user interactions we simulate\n",
        "        \"\"\"\n",
        "        self.item_weights = item_weights\n",
        "        self.k = item_weights.shape[0]\n",
        "        self.context_dim = context_dim\n",
        "        self.num_users = num_users\n",
        "        self.current_step = 0\n",
        "\n",
        "    def get_context(self):\n",
        "        # Sample a random user feature vector\n",
        "        return np.random.randn(self.context_dim)\n",
        "\n",
        "    def step(self, action, user_context):\n",
        "        \"\"\"\n",
        "        Probability of reward = sigmoid(item_weights[action] . user_context)\n",
        "        \"\"\"\n",
        "        w = self.item_weights[action]\n",
        "        p = 1.0 / (1.0 + np.exp(- w.dot(user_context)))\n",
        "        reward = 1 if np.random.rand() < p else 0\n",
        "        self.current_step += 1\n",
        "        done = (self.current_step >= self.num_users)\n",
        "        return reward, done\n",
        "\n",
        "def run_epsilon_greedy_recommender(env, epsilon=0.1):\n",
        "    k = env.k\n",
        "    Q = np.zeros(k)\n",
        "    # The number of times each 'action' has been selected,\n",
        "    # each element in N corresponds to a particular arm.\n",
        "    N = np.zeros(k)\n",
        "    rewards_history = []\n",
        "\n",
        "    while True:\n",
        "        context = env.get_context()\n",
        "        if np.random.rand() < epsilon:\n",
        "            action = np.random.randint(k)\n",
        "        else:\n",
        "            action = np.argmax(Q)\n",
        "\n",
        "        reward, done = env.step(action, context)\n",
        "        N[action] += 1\n",
        "        Q[action] += (reward - Q[action]) / N[action]\n",
        "        rewards_history.append(reward)\n",
        "\n",
        "        if done:\n",
        "            break\n",
        "\n",
        "    return np.array(rewards_history), Q\n",
        "\n",
        "# Demo: RecommenderSystemBandit with k=3 items\n",
        "item_weights = np.array([\n",
        "    [1.5, 0.5],   # item 0\n",
        "    [-0.5, 1.2], # item 1\n",
        "    [0.8, 0.8]   # item 2\n",
        "])\n",
        "rec_env = RecommenderSystemBandit(item_weights, context_dim=2, num_users=1000)\n",
        "recomm_rewards, recomm_Q = run_epsilon_greedy_recommender(rec_env, epsilon=0.1)\n",
        "print(\"Recommender (pure Python) total reward:\", recomm_rewards.sum())\n",
        "print(\"Final Q estimates:\", recomm_Q)"
      ],
      "execution_count": null,
      "outputs": [
        {
          "output_type": "stream",
          "name": "stdout",
          "text": [
            "Recommender (pure Python) total reward: 476\n",
            "Final Q estimates: [0.46927374 0.48042705 0.47592593]\n"
          ]
        }
      ],
      "id": "Jqbm4UcWek8D"
    },
    {
      "cell_type": "markdown",
      "metadata": {
        "id": "FPZRJCgnek8D"
      },
      "source": [
        "#### 5.1.2 Gymnasium Example [EXTRA]\n",
        "We create a Gym environment where each step corresponds to recommending an item for a randomly sampled user context. We’ll do a short **$\\epsilon$-greedy** run."
      ],
      "id": "FPZRJCgnek8D"
    },
    {
      "cell_type": "code",
      "metadata": {
        "colab": {
          "base_uri": "https://localhost:8080/"
        },
        "id": "D8ZsZARTek8E",
        "outputId": "1c494e84-de6c-4334-c5d5-79ae6389ef87"
      },
      "source": [
        "class RecommenderSystemGymEnv(gym.Env):\n",
        "    def __init__(self, item_weights, context_dim=2, num_users=1000):\n",
        "        super().__init__()\n",
        "        self.item_weights = item_weights\n",
        "        self.k = item_weights.shape[0]\n",
        "        self.context_dim = context_dim\n",
        "        self.num_users = num_users\n",
        "        self.current_step = 0\n",
        "\n",
        "        self.action_space = spaces.Discrete(self.k)\n",
        "        # Observation is the user context\n",
        "        self.observation_space = spaces.Box(-np.inf, np.inf, shape=(self.context_dim,), dtype=np.float32)\n",
        "\n",
        "    def reset(self, seed=None, options=None):\n",
        "        super().reset(seed=seed)\n",
        "        self.current_step = 0\n",
        "        self.context = np.random.randn(self.context_dim).astype(np.float32)\n",
        "        return self.context, {}\n",
        "\n",
        "    def step(self, action):\n",
        "        w = self.item_weights[action]\n",
        "        p = 1.0 / (1.0 + np.exp(- w.dot(self.context)))\n",
        "        reward = 1.0 if np.random.rand() < p else 0.0\n",
        "        self.current_step += 1\n",
        "        done = (self.current_step >= self.num_users)\n",
        "        info = {}\n",
        "\n",
        "        # sample next user context\n",
        "        self.context = np.random.randn(self.context_dim).astype(np.float32)\n",
        "        return self.context, reward, done, False, info\n",
        "\n",
        "def run_epsilon_greedy_recommender_gym(env, epsilon=0.1):\n",
        "    k = env.action_space.n\n",
        "    Q = np.zeros(k)\n",
        "    N = np.zeros(k)\n",
        "    rewards_history = []\n",
        "\n",
        "    obs, info = env.reset()\n",
        "    done = False\n",
        "    while not done:\n",
        "        if np.random.rand() < epsilon:\n",
        "            action = np.random.randint(k)\n",
        "        else:\n",
        "            action = np.argmax(Q)\n",
        "\n",
        "        new_obs, reward, done, truncated, info = env.step(action)\n",
        "        N[action] += 1\n",
        "        Q[action] += (reward - Q[action]) / N[action]\n",
        "        rewards_history.append(reward)\n",
        "\n",
        "        obs = new_obs\n",
        "        if done or truncated:\n",
        "            break\n",
        "\n",
        "    return np.array(rewards_history), Q\n",
        "\n",
        "# Demo: RecommenderSystemGymEnv\n",
        "item_weights = np.array([\n",
        "    [1.5, 0.5],   # item 0\n",
        "    [-0.5, 1.2], # item 1\n",
        "    [0.8, 0.8]   # item 2\n",
        "])\n",
        "env_rec = RecommenderSystemGymEnv(item_weights, context_dim=2, num_users=1000)\n",
        "rec_gym_rewards, rec_gym_Q = run_epsilon_greedy_recommender_gym(env_rec, epsilon=0.1)\n",
        "print(\"[GYM Recommender] total reward:\", rec_gym_rewards.sum())\n",
        "print(\"[GYM Recommender] final Q estimates:\", rec_gym_Q)"
      ],
      "execution_count": null,
      "outputs": [
        {
          "output_type": "stream",
          "name": "stdout",
          "text": [
            "[GYM Recommender] total reward: 517.0\n",
            "[GYM Recommender] final Q estimates: [0.51923077 0.52070263 0.44680851]\n"
          ]
        }
      ],
      "id": "D8ZsZARTek8E"
    },
    {
      "cell_type": "markdown",
      "metadata": {
        "id": "QZ2qVWXCek8E"
      },
      "source": [
        "### 5.2 Search\n",
        "\n",
        "A simplified \"search\" bandit scenario might involve multiple **ranking strategies** or **candidate documents**. We pick which strategy or document to display for a given query, and get a click/no-click reward. Below, we provide a toy model:\n",
        "- We have `k` different \"search strategies.\"\n",
        "- Each query is a context vector.\n",
        "- Probability of a click is a logistic function of the chosen strategy’s weight.\n",
        "\n",
        "#### 5.2.1 Pure Python Example [EXTRA]\n",
        "We'll do the same structure as the Recommender, but we’ll call it \"SearchBandit.\""
      ],
      "id": "QZ2qVWXCek8E"
    },
    {
      "cell_type": "code",
      "metadata": {
        "colab": {
          "base_uri": "https://localhost:8080/"
        },
        "id": "68PWkTktek8E",
        "outputId": "8e94d334-5f67-4a35-e9b3-c92688653a04"
      },
      "source": [
        "class SearchBandit:\n",
        "    \"\"\"\n",
        "    Pure Python environment to simulate 'search strategies' bandit.\n",
        "    \"\"\"\n",
        "    def __init__(self, strategy_weights, context_dim=2, num_queries=500):\n",
        "        self.strategy_weights = strategy_weights\n",
        "        self.k = strategy_weights.shape[0]\n",
        "        self.context_dim = context_dim\n",
        "        self.num_queries = num_queries\n",
        "        self.current_step = 0\n",
        "\n",
        "    def get_context(self):\n",
        "        return np.random.randn(self.context_dim)\n",
        "\n",
        "    def step(self, action, query_context):\n",
        "        w = self.strategy_weights[action]\n",
        "        p = 1.0 / (1.0 + np.exp(- w.dot(query_context)))\n",
        "        reward = 1 if np.random.rand() < p else 0\n",
        "        self.current_step += 1\n",
        "        done = (self.current_step >= self.num_queries)\n",
        "        return reward, done\n",
        "\n",
        "def run_thompson_search(env):\n",
        "    \"\"\"\n",
        "    We'll demonstrate Thompson Sampling here.\n",
        "    \"\"\"\n",
        "    k = env.k\n",
        "    alpha = np.ones(k)\n",
        "    beta = np.ones(k)\n",
        "    rewards_history = []\n",
        "\n",
        "    while True:\n",
        "        query_context = env.get_context()\n",
        "        sampled_q = np.random.beta(alpha, beta)\n",
        "        action = np.argmax(sampled_q)\n",
        "        reward, done = env.step(action, query_context)\n",
        "        if reward == 1:\n",
        "            alpha[action] += 1\n",
        "        else:\n",
        "            beta[action] += 1\n",
        "        rewards_history.append(reward)\n",
        "\n",
        "        if done:\n",
        "            break\n",
        "\n",
        "    return np.array(rewards_history), alpha, beta\n",
        "\n",
        "# Demo: 3 search strategies\n",
        "strategy_weights = np.array([\n",
        "    [1.0, 1.0],   # strategy 0\n",
        "    [-0.5, 2.0], # strategy 1\n",
        "    [2.0, -0.2]  # strategy 2\n",
        "])\n",
        "search_env = SearchBandit(strategy_weights, context_dim=2, num_queries=500)\n",
        "search_rewards, alpha_s, beta_s = run_thompson_search(search_env)\n",
        "print(\"Search (pure Python) total reward:\", search_rewards.sum())\n",
        "print(\"Alpha:\", alpha_s, \"Beta:\", beta_s)"
      ],
      "execution_count": null,
      "outputs": [
        {
          "output_type": "stream",
          "name": "stdout",
          "text": [
            "Search (pure Python) total reward: 264\n",
            "Alpha: [114.  68.  85.] Beta: [98. 69. 72.]\n"
          ]
        }
      ],
      "id": "68PWkTktek8E"
    },
    {
      "cell_type": "markdown",
      "metadata": {
        "id": "gB-sCusmek8E"
      },
      "source": [
        "#### 5.2.2 Gymnasium Example [EXTRA]\n",
        "We create a `SearchGymEnv` where each step is a query, and we choose among multiple strategies. We’ll reuse Thompson Sampling again."
      ],
      "id": "gB-sCusmek8E"
    },
    {
      "cell_type": "code",
      "metadata": {
        "colab": {
          "base_uri": "https://localhost:8080/"
        },
        "id": "Ei8Lza5Iek8E",
        "outputId": "1ce1c86a-b890-427a-b179-3ba63b18f89c"
      },
      "source": [
        "class SearchGymEnv(gym.Env):\n",
        "    def __init__(self, strategy_weights, context_dim=2, num_queries=500):\n",
        "        super().__init__()\n",
        "        self.strategy_weights = strategy_weights\n",
        "        self.k = strategy_weights.shape[0]\n",
        "        self.context_dim = context_dim\n",
        "        self.num_queries = num_queries\n",
        "        self.current_step = 0\n",
        "\n",
        "        self.action_space = spaces.Discrete(self.k)\n",
        "        self.observation_space = spaces.Box(-np.inf, np.inf, shape=(context_dim,), dtype=np.float32)\n",
        "\n",
        "    def reset(self, seed=None, options=None):\n",
        "        super().reset(seed=seed)\n",
        "        self.current_step = 0\n",
        "        self.context = np.random.randn(self.context_dim).astype(np.float32)\n",
        "        return self.context, {}\n",
        "\n",
        "    def step(self, action):\n",
        "        w = self.strategy_weights[action]\n",
        "        p = 1.0 / (1.0 + np.exp(- w.dot(self.context)))\n",
        "        reward = 1.0 if np.random.rand() < p else 0.0\n",
        "        self.current_step += 1\n",
        "        done = (self.current_step >= self.num_queries)\n",
        "        info = {}\n",
        "\n",
        "        # get new query context\n",
        "        self.context = np.random.randn(self.context_dim).astype(np.float32)\n",
        "        return self.context, reward, done, False, info\n",
        "\n",
        "def run_thompson_search_gym(env):\n",
        "    k = env.action_space.n\n",
        "    alpha = np.ones(k)\n",
        "    beta = np.ones(k)\n",
        "    rewards_history = []\n",
        "\n",
        "    obs, info = env.reset()\n",
        "    done = False\n",
        "    while not done:\n",
        "        sampled_q = np.random.beta(alpha, beta)\n",
        "        action = np.argmax(sampled_q)\n",
        "        new_obs, reward, done, truncated, info = env.step(action)\n",
        "        if reward == 1:\n",
        "            alpha[action] += 1\n",
        "        else:\n",
        "            beta[action] += 1\n",
        "        rewards_history.append(reward)\n",
        "\n",
        "        obs = new_obs\n",
        "        if done or truncated:\n",
        "            break\n",
        "\n",
        "    return np.array(rewards_history), alpha, beta\n",
        "\n",
        "# Demo: SearchGymEnv\n",
        "strategy_weights = np.array([\n",
        "    [1.0, 1.0],   # strategy 0\n",
        "    [-0.5, 2.0], # strategy 1\n",
        "    [2.0, -0.2]  # strategy 2\n",
        "])\n",
        "env_search = SearchGymEnv(strategy_weights, context_dim=2, num_queries=500)\n",
        "search_gym_rewards, alpha_search_gym, beta_search_gym = run_thompson_search_gym(env_search)\n",
        "print(\"[GYM Search] total reward:\", search_gym_rewards.sum())\n",
        "print(\"[GYM Search] alpha:\", alpha_search_gym, \"beta:\", beta_search_gym)"
      ],
      "execution_count": null,
      "outputs": [
        {
          "output_type": "stream",
          "name": "stdout",
          "text": [
            "[GYM Search] total reward: 268.0\n",
            "[GYM Search] alpha: [ 21.  65. 185.] beta: [ 22.  52. 161.]\n"
          ]
        }
      ],
      "id": "Ei8Lza5Iek8E"
    },
    {
      "cell_type": "markdown",
      "metadata": {
        "id": "hsVClz8Lek8E"
      },
      "source": [
        "## 6. Comparing the Algorithms\n",
        "\n",
        "Let’s do a quick empirical comparison among:\n",
        "- $\\epsilon$-greedy\n",
        "- Optimistic Initial Values\n",
        "- UCB\n",
        "- Thompson Sampling\n",
        "\n",
        "using the **plain Python** `BernoulliBandit` environment."
      ],
      "id": "hsVClz8Lek8E"
    },
    {
      "cell_type": "code",
      "metadata": {
        "colab": {
          "base_uri": "https://localhost:8080/",
          "height": 564
        },
        "id": "aGAYpKxtek8E",
        "outputId": "df7ef62e-d151-403a-ff84-69925e1bae88"
      },
      "source": [
        "def run_bandit_algorithms(p, num_steps=1000, runs=50):\n",
        "    \"\"\"\n",
        "    Compare multiple algorithms on the same Bernoulli bandit.\n",
        "    Returns average reward across runs for each algorithm.\n",
        "    \"\"\"\n",
        "    avg_rewards = {\n",
        "        'epsilon_greedy': np.zeros(num_steps),\n",
        "        'optimistic': np.zeros(num_steps),\n",
        "        'ucb': np.zeros(num_steps),\n",
        "        'thompson': np.zeros(num_steps)\n",
        "    }\n",
        "\n",
        "    for _ in range(runs):\n",
        "        # 1) Epsilon-Greedy\n",
        "        bandit = BernoulliBandit(p)\n",
        "        rew_eps, _ = epsilon_greedy(bandit, num_steps, epsilon=0.1)\n",
        "\n",
        "        # 2) Optimistic\n",
        "        bandit = BernoulliBandit(p)\n",
        "        rew_opt, _ = optimistic_initial_values(bandit, num_steps, initial_value=5.0)\n",
        "\n",
        "        # 3) UCB\n",
        "        bandit = BernoulliBandit(p)\n",
        "        rew_ucb, _ = ucb(bandit, num_steps, c=2.0)\n",
        "\n",
        "        # 4) Thompson Sampling\n",
        "        bandit = BernoulliBandit(p)\n",
        "        rew_ts, _, _ = thompson_sampling(bandit, num_steps)\n",
        "\n",
        "        avg_rewards['epsilon_greedy'] += rew_eps\n",
        "        avg_rewards['optimistic'] += rew_opt\n",
        "        avg_rewards['ucb'] += rew_ucb\n",
        "        avg_rewards['thompson'] += rew_ts\n",
        "\n",
        "    # Average across runs\n",
        "    for key in avg_rewards:\n",
        "        avg_rewards[key] /= runs\n",
        "\n",
        "    return avg_rewards\n",
        "\n",
        "p = [0.1, 0.3, 0.8]\n",
        "results = run_bandit_algorithms(p, num_steps=1000, runs=50)\n",
        "\n",
        "colors = [\"red\", \"blue\", \"green\", \"black\"]\n",
        "# Plot average reward over time\n",
        "plt.figure(figsize=(8,6))\n",
        "for idx, (label, rew) in enumerate(results.items()):\n",
        "    cum_mean = np.cumsum(rew) / (np.arange(len(rew)) + 1)\n",
        "    plt.plot(cum_mean, label=label, color=colors[idx])\n",
        "\n",
        "plt.xlabel(\"Steps\")\n",
        "plt.ylabel(\"Average Reward\")\n",
        "plt.title(\"Comparison of Bandit Algorithms\")\n",
        "plt.legend()\n",
        "plt.show()"
      ],
      "execution_count": null,
      "outputs": [
        {
          "output_type": "display_data",
          "data": {
            "text/plain": [
              "<Figure size 800x600 with 1 Axes>"
            ],
            "image/png": "[encoded data removed]"
          },
          "metadata": {}
        }
      ],
      "id": "aGAYpKxtek8E"
    },
    {
      "cell_type": "markdown",
      "metadata": {
        "id": "WijSNOdHek8F"
      },
      "source": [
        "## 7. Summary (Recitation Session + Additional)\n",
        "\n",
        "### From Recitation Session Recap\n",
        "\n",
        "| **Method**                  | **Exploration Type**               | **Pros**                               | **Cons**                               |\n",
        "|----------------------------|-------------------------------------|----------------------------------------|----------------------------------------|\n",
        "| **$\\epsilon$-greedy**    | Random exploration                  | Simple, ensures some exploration       | Wastes time on bad actions             |\n",
        "| **Optimistic Initial Values** | High initial estimates             | Systematic, encourages exploration     | Not as adaptive in nonstationary envs  |\n",
        "| **UCB**                    | Confidence-based exploration        | Theoretical guarantees (low regret)    | More complex, tricky to scale          |\n",
        "| **Thompson Sampling**      | Bayesian approach (Beta-Bernoulli)  | Natural exploration, strong performance| Implementation a bit more involved     |\n",
        "\n",
        "### Key Takeaways\n",
        "1. **Multi-armed bandits** are the simplest reinforcement learning setting but illustrate the **exploration-exploitation** dilemma clearly.\n",
        "2. **The Recitation Session** underscores the **non-associative** nature: no states, no transitions—just repeated action selection.\n",
        "3. Various **exploration strategies** exist:\n",
        "   - $\\epsilon$-greedy\n",
        "   - Optimistic initial values\n",
        "   - UCB\n",
        "   - Thompson Sampling (Bayesian)\n",
        "4. **Contextual bandits** extend MAB by including a **context** (features) to inform which arm to pull.\n",
        "5. Real-world **bandit applications** (recommender systems, search, etc.) can be tackled with the same techniques, using domain-specific reward definitions and contexts.\n",
        "\n",
        "### Next Steps for Enthusiats\n",
        "- Integrate more advanced methods for **nonstationary** bandits (e.g., sliding windows, constant step-size).\n",
        "- Explore **contextual bandits** in more complex environments (e.g., large-scale real data).\n",
        "- Consider bridging bandits to **full RL**: in full RL, each \"state\" becomes a context, but we also have transitions and possibly function approximation for large state/action spaces.\n"
      ],
      "id": "WijSNOdHek8F"
    }
  ]
}