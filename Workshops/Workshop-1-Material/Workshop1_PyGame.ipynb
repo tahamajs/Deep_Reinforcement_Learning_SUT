{
 "cells": [
  {
   "cell_type": "markdown",
   "id": "393902e6-c561-4c36-be6e-9c9bf10fc78e",
   "metadata": {},
   "source": [
    "# Python Pygame Tutorial For HW01 Bonus Task\n",
    "\n",
    "*In this tutorial we tried to show demo of what you need for implementing simple pygame env*\n",
    "\n",
    "**Table of Contents**\n",
    "\n",
    "1. Setting up our Game\n",
    "2. The Game Loop\n",
    "   - Quitting the Game Loop\n",
    "3. Event Objects in Pygame\n",
    "4. Creating a Display Screen\n",
    "5. Pygame Colors\n",
    "6. Rects & Collision Detection in Pygame\n",
    "8. Game Creation – Part #1\n",
    "   - Code Explanation\n",
    "9. Creating Custom Gym Environments with Pygame\n"
   ]
  },
  {
   "cell_type": "markdown",
   "id": "0537b1c7-6fd2-428f-b2d0-2ed68e7c4093",
   "metadata": {},
   "source": [
    "## 1. Setting up our Game\n",
    "\n",
    "We'll begin by importing the necessary modules and initializing Pygame.\n"
   ]
  },
  {
   "cell_type": "code",
   "execution_count": null,
   "id": "018acbeb-80ad-4e78-a715-23ac10817504",
   "metadata": {},
   "outputs": [],
   "source": [
    "import pygame\n",
    "from pygame.locals import *\n",
    "import sys\n",
    "\n",
    "pygame.init()"
   ]
  },
  {
   "cell_type": "markdown",
   "id": "366772b2-8d33-4701-8ef9-7309c960c4e1",
   "metadata": {},
   "source": [
    "The `pygame.init()` function initializes all the Pygame modules. It's essential to call this before using any other Pygame functionalities.\n"
   ]
  },
  {
   "cell_type": "markdown",
   "id": "4ee91898-f67c-4da2-ae9d-253622766b3e",
   "metadata": {},
   "source": [
    "## 2. The Game Loop\n",
    "\n",
    "The game loop is where all events are processed, and the game's state is updated and rendered.\n",
    "\n",
    "\n",
    "```python\n",
    "# Game loop begins\n",
    "while True:\n",
    "    for event in pygame.event.get():\n",
    "        if event.type == QUIT:\n",
    "            pygame.quit()\n",
    "            sys.exit()\n",
    "    # Game logic and rendering code here\n",
    "    pygame.display.update()\n",
    "\n"
   ]
  },
  {
   "cell_type": "markdown",
   "id": "a404de38-fa6d-4cef-b854-d687cbdbc680",
   "metadata": {},
   "source": [
    "## 3. Event Objects in Pygame\n",
    "\n",
    "Pygame uses an event queue to manage user interactions. You can handle different events, such as keyboard and mouse inputs, within the game loop.\n",
    "\n",
    "```python\n",
    "for event in pygame.event.get():\n",
    "    if event.type == KEYDOWN:\n",
    "        if event.key == K_LEFT:\n",
    "            # Move player left\n",
    "            pass\n",
    "        elif event.key == K_RIGHT:\n",
    "            # Move player right\n",
    "            pass\n",
    "    elif event.type == MOUSEBUTTONDOWN:\n",
    "        # Handle mouse click\n",
    "        pass\n"
   ]
  },
  {
   "cell_type": "markdown",
   "id": "e3e8defc-95cf-485e-9558-d1d7aba0288d",
   "metadata": {},
   "source": [
    "## 4. Creating a Display Screen\n",
    "\n",
    "To render graphics, you need to create a display surface."
   ]
  },
  {
   "cell_type": "markdown",
   "id": "047b02c8-6963-41fc-8c1b-b94030167e03",
   "metadata": {},
   "source": [
    "```python\n",
    "screen = pygame.display.set_mode((800, 600))\n",
    "pygame.display.set_caption(\"My Pygame Window\")"
   ]
  },
  {
   "cell_type": "markdown",
   "id": "d4018418-898c-46c3-92c2-33bea60f252e",
   "metadata": {},
   "source": [
    "## 5. Pygame Colors\n",
    "\n",
    "Colors in Pygame are defined using RGB tuples.\n"
   ]
  },
  {
   "cell_type": "markdown",
   "id": "f9df89bb-e945-4cb4-b9c3-f5938e9b094b",
   "metadata": {},
   "source": [
    "```python\n",
    "WHITE = (255, 255, 255)\n",
    "RED = (255, 0, 0)\n",
    "BLUE = (0, 0, 255)\n"
   ]
  },
  {
   "cell_type": "markdown",
   "id": "55904c12-8a23-4e52-adde-8a610ceec081",
   "metadata": {},
   "source": [
    "## 6. Rects & Collision Detection in Pygame\n",
    "\n",
    "Rectangles (`Rect` objects) are fundamental in Pygame for positioning and collision detection."
   ]
  },
  {
   "cell_type": "markdown",
   "id": "70f4df44-8514-4fb9-8e07-00caf2c89b3d",
   "metadata": {},
   "source": [
    "```python\n",
    "player_rect = pygame.Rect(50, 50, 50, 50)  # x, y, width, height\n",
    "enemy_rect = pygame.Rect(100, 50, 50, 50)\n",
    "\n",
    "# Check for collision\n",
    "if player_rect.colliderect(enemy_rect):\n",
    "    print(\"Collision detected!\")"
   ]
  },
  {
   "cell_type": "markdown",
   "id": "ab9df203-9be3-4295-bec2-b868374b7ce6",
   "metadata": {},
   "source": [
    "Let's put together a simple game "
   ]
  },
  {
   "cell_type": "code",
   "execution_count": null,
   "id": "a91a460a-651f-4532-8705-cdfbdc622d67",
   "metadata": {},
   "outputs": [],
   "source": [
    "import pygame\n",
    "\n",
    "# Initialize Pygame\n",
    "pygame.init()\n",
    "\n",
    "# Set up display\n",
    "WIDTH, HEIGHT = 500, 500\n",
    "screen = pygame.display.set_mode((WIDTH, HEIGHT))\n",
    "pygame.display.set_caption(\"Pygame Example\")\n",
    "\n",
    "# Define Colors\n",
    "WHITE = (255, 255, 255)\n",
    "RED = (255, 0, 0)\n",
    "Green = (0,255,0)\n",
    "# Define Object Properties\n",
    "x, y = WIDTH // 2, HEIGHT // 2  # Start position\n",
    "velocity = 5  # Speed of movement\n",
    "\n",
    "\n",
    "enemy_rect = pygame.Rect(100, 50, 50, 50)\n",
    "\n",
    "# Game Loop\n",
    "running = True\n",
    "while running:\n",
    "    pygame.time.delay(50)  # Control game speed\n",
    "\n",
    "    # Handle Events\n",
    "    for event in pygame.event.get():\n",
    "        if event.type == pygame.QUIT:  # Exit condition\n",
    "            running = False\n",
    "\n",
    "    # Handle Key Presses\n",
    "    keys = pygame.key.get_pressed()\n",
    "    if keys[pygame.K_LEFT]:  # Move left\n",
    "        x -= velocity\n",
    "    if keys[pygame.K_RIGHT]:  # Move right\n",
    "        x += velocity\n",
    "    if keys[pygame.K_UP]:  # Move up\n",
    "        y -= velocity\n",
    "    if keys[pygame.K_DOWN]:  # Move down\n",
    "        y += velocity\n",
    "\n",
    "    # Draw Objects\n",
    "    screen.fill(WHITE)  # Clear screen\n",
    "\n",
    "    player_rect = pygame.Rect(x,y, 50, 50) \n",
    "    pygame.draw.rect(screen, RED, player_rect)   \n",
    "    pygame.draw.rect(screen, Green, enemy_rect)  \n",
    "\n",
    "    # Check for collision\n",
    "    if player_rect.colliderect(enemy_rect):\n",
    "        print(\"Collision detected!\")\n",
    "    \n",
    "    pygame.display.update()  # Refresh screen\n",
    "\n",
    "# Quit Pygame\n",
    "pygame.quit()\n"
   ]
  },
  {
   "cell_type": "markdown",
   "id": "364374df-361a-4c07-ae24-776e4182e848",
   "metadata": {},
   "source": [
    "## 7.Working with Sprites in Pygame\n",
    "\n",
    "In game development, a **sprite** is a two-dimensional image or animation that is integrated into a larger scene. Pygame provides a `Sprite` class to help manage game objects more efficiently. Utilizing sprites allows for better organization, collision detection, and rendering of game elements.\n",
    "\n",
    "In this section, we'll cover:\n",
    "\n",
    "- Creating a custom sprite class\n",
    "- Loading images as sprites\n",
    "- Managing multiple sprites with sprite groups\n",
    "- Implementing basic sprite movement"
   ]
  },
  {
   "cell_type": "markdown",
   "id": "3da42285-04f1-48b7-a1cd-54559c58d22e",
   "metadata": {},
   "source": [
    "### Creating a Custom Sprite Class\n",
    "\n",
    "We'll define a `Player` class that inherits from `pygame.sprite.Sprite`. This class will represent our player character and handle its initialization and movement."
   ]
  },
  {
   "cell_type": "markdown",
   "id": "01c5ea65-a66a-4f1e-9c3f-5536c3c26c7f",
   "metadata": {},
   "source": [
    "```python\n",
    "class Player(pygame.sprite.Sprite):\n",
    "    def __init__(self, image_path, x, y):\n",
    "        super().__init__()\n",
    "        self.image = pygame.image.load(image_path).convert_alpha()\n",
    "        self.rect = self.image.get_rect()\n",
    "        self.rect.topleft = (x, y)\n",
    "        self.speed = 5\n",
    "\n",
    "    def update(self, keys):\n",
    "        if keys[K_LEFT]:\n",
    "            self.rect.x -= self.speed\n",
    "        if keys[K_RIGHT]:\n",
    "            self.rect.x += self.speed\n",
    "        if keys[K_UP]:\n",
    "            self.rect.y -= self.speed\n",
    "        if keys[K_DOWN]:\n",
    "            self.rect.y += self.speed\n",
    "\n",
    "        # Keep player on screen\n",
    "        if self.rect.left < 0:\n",
    "            self.rect.left = 0\n",
    "        if self.rect.right > WIDTH:\n",
    "            self.rect.right = WIDTH\n",
    "        if self.rect.top < 0:\n",
    "            self.rect.top = 0\n",
    "        if self.rect.bottom > HEIGHT:\n",
    "            self.rect.bottom = HEIGHT    "
   ]
  },
  {
   "cell_type": "markdown",
   "id": "3a8df809-038f-4c88-95bf-1792baab5559",
   "metadata": {},
   "source": [
    "### Loading and Displaying the Sprite\n",
    "\n",
    "We'll create an instance of the `Player` class and add it to a sprite group for easy management and rendering.\n"
   ]
  },
  {
   "cell_type": "markdown",
   "id": "a83e4d91-4c4c-4d9d-8797-7d955279f922",
   "metadata": {},
   "source": [
    "```python\n",
    "# Load player sprite\n",
    "player_image_path = 'Player.png'  # Replace with your image path\n",
    "player = Player(player_image_path, 375, 275)\n",
    "\n",
    "# Create a sprite group and add the player\n",
    "all_sprites = pygame.sprite.Group()\n",
    "all_sprites.add(player)\n"
   ]
  },
  {
   "cell_type": "markdown",
   "id": "308d6f92-a3a5-4ffa-8412-697f7c865b8f",
   "metadata": {},
   "source": [
    "### Main Game Loop with Sprite Updates\n",
    "\n",
    "In the game loop, we'll handle events, update the sprite's position based on user input, and draw the sprite on the screen.\n"
   ]
  },
  {
   "cell_type": "markdown",
   "id": "f37f4f81-0225-4b97-8c11-2a423d519819",
   "metadata": {},
   "source": [
    "```python\n",
    "# Game loop\n",
    "running = True\n",
    "while running:\n",
    "    for event in pygame.event.get():\n",
    "        if event.type == QUIT:\n",
    "            running = False\n",
    "\n",
    "    # Get pressed keys\n",
    "    keys = pygame.key.get_pressed()\n",
    "\n",
    "    # Update all sprites\n",
    "    all_sprites.update(keys)\n",
    "\n",
    "    # Drawing\n",
    "    screen.fill(WHITE)\n",
    "    all_sprites.draw(screen)\n",
    "\n",
    "    pygame.display.update()\n",
    "    clock.tick(FPS)\n",
    "\n",
    "pygame.quit()\n",
    "sys.exit()\n"
   ]
  },
  {
   "cell_type": "markdown",
   "id": "4e03fe52-faca-4874-af8a-def5c36d9bbe",
   "metadata": {},
   "source": [
    "Let's have all the codes together:"
   ]
  },
  {
   "cell_type": "code",
   "execution_count": null,
   "id": "9ec94f26-8c23-47b3-a70a-bf50774e990b",
   "metadata": {},
   "outputs": [],
   "source": [
    "import pygame\n",
    "from pygame.locals import *\n",
    "import sys\n",
    "\n",
    "pygame.init()\n",
    "\n",
    "# Constants\n",
    "WIDTH, HEIGHT = 800, 600\n",
    "WHITE = (255, 255, 255)\n",
    "FPS = 60\n",
    "\n",
    "# Setup\n",
    "screen = pygame.display.set_mode((WIDTH, HEIGHT))\n",
    "pygame.display.set_caption(\"Pygame Sprites Example\")\n",
    "clock = pygame.time.Clock()\n",
    "\n",
    "\n",
    "class Player(pygame.sprite.Sprite):\n",
    "    def __init__(self, image_path, x, y):\n",
    "        super().__init__()\n",
    "        self.image = pygame.image.load(image_path).convert_alpha()\n",
    "        self.rect = self.image.get_rect()\n",
    "        self.rect.topleft = (x, y)\n",
    "        self.speed = 5\n",
    "\n",
    "    def update(self, keys):\n",
    "        if keys[K_LEFT]:\n",
    "            self.rect.x -= self.speed\n",
    "        if keys[K_RIGHT]:\n",
    "            self.rect.x += self.speed\n",
    "        if keys[K_UP]:\n",
    "            self.rect.y -= self.speed\n",
    "        if keys[K_DOWN]:\n",
    "            self.rect.y += self.speed\n",
    "\n",
    "        # Keep player on screen\n",
    "        if self.rect.left < 0:\n",
    "            self.rect.left = 0\n",
    "        if self.rect.right > WIDTH:\n",
    "            self.rect.right = WIDTH\n",
    "        if self.rect.top < 0:\n",
    "            self.rect.top = 0\n",
    "        if self.rect.bottom > HEIGHT:\n",
    "            self.rect.bottom = HEIGHT\n",
    "\n",
    "\n",
    "# Load player sprite\n",
    "player_image_path = 'Player.png'   \n",
    "player = Player(player_image_path, 375, 275)\n",
    "\n",
    "# Create a sprite group and add the player\n",
    "all_sprites = pygame.sprite.Group()\n",
    "all_sprites.add(player)\n",
    "\n",
    "\n",
    "# Game loop\n",
    "running = True\n",
    "while running:\n",
    "    for event in pygame.event.get():\n",
    "        if event.type == QUIT:\n",
    "            running = False\n",
    "\n",
    "    # Get pressed keys\n",
    "    keys = pygame.key.get_pressed()\n",
    "\n",
    "    # Update all sprites\n",
    "    all_sprites.update(keys)\n",
    "\n",
    "    # Drawing\n",
    "    screen.fill(WHITE)\n",
    "    all_sprites.draw(screen)\n",
    "\n",
    "    pygame.display.update()\n",
    "    clock.tick(FPS)\n",
    "\n",
    "pygame.quit()\n",
    "sys.exit()\n"
   ]
  },
  {
   "cell_type": "code",
   "execution_count": null,
   "id": "5c223069-8938-4690-a3a2-8a7e8857e5e7",
   "metadata": {},
   "outputs": [],
   "source": []
  },
  {
   "cell_type": "markdown",
   "id": "7778816c-dbd8-4f9c-b648-4b2e773abc1b",
   "metadata": {},
   "source": [
    "## Converting Pygame Sprite Game to OpenAI Gym Environment\n",
    "\n",
    "In this section, you can see basic gymnasium env which uses pygame"
   ]
  },
  {
   "cell_type": "code",
   "execution_count": null,
   "id": "bd16906e-d45d-46d8-88a4-d3e8f3ec50bc",
   "metadata": {},
   "outputs": [],
   "source": [
    "import gymnasium as gym\n",
    "from gymnasium import spaces\n",
    "import pygame\n",
    "import numpy as np\n",
    "\n",
    "class PygameEnv(gym.Env):\n",
    "    metadata = {\"render_modes\": [\"human\"], \"render_fps\": 30}\n",
    "\n",
    "    def __init__(self):\n",
    "        super().__init__()\n",
    "        \n",
    "        # Pygame Setup\n",
    "        pygame.init()\n",
    "        self.WIDTH, self.HEIGHT = 500, 300\n",
    "        self.screen = pygame.display.set_mode((self.WIDTH, self.HEIGHT))\n",
    "        pygame.display.set_caption(\"Pygame Gym Environment\")\n",
    "        self.clock = pygame.time.Clock()\n",
    "        \n",
    "        # Define Action Space (0 = Left, 1 = Right)\n",
    "        self.action_space = spaces.Discrete(2)\n",
    "        \n",
    "        # Define Observation Space (Agent's X Position)\n",
    "        self.observation_space = spaces.Box(low=0, high=self.WIDTH, shape=(1,), dtype=np.float32)\n",
    "        \n",
    "        # Initial State\n",
    "        self.agent_x = self.WIDTH // 2\n",
    "        self.agent_radius = 20\n",
    "        self.speed = 5\n",
    "    \n",
    "    def step(self, action):\n",
    "        \"\"\"Take an action and return observation, reward, done, truncated, info\"\"\"\n",
    "        if action == 0:  # Move left\n",
    "            self.agent_x -= self.speed\n",
    "        elif action == 1:  # Move right\n",
    "            self.agent_x += self.speed\n",
    "        \n",
    "        # Keep agent inside screen bounds\n",
    "        self.agent_x = np.clip(self.agent_x, 0, self.WIDTH)\n",
    "        \n",
    "        # Reward: Encourage agent to reach the right side\n",
    "        reward = self.agent_x / self.WIDTH\n",
    "        \n",
    "        # Done condition (if agent reaches far right)\n",
    "        done = self.agent_x >= self.WIDTH - self.agent_radius\n",
    "\n",
    "        return np.array([self.agent_x], dtype=np.float32), reward, done, False, {}\n",
    "\n",
    "    def reset(self, seed=None, options=None):\n",
    "        \"\"\"Reset environment state\"\"\"\n",
    "        self.agent_x = self.WIDTH // 2  # Reset agent position\n",
    "        return np.array([self.agent_x], dtype=np.float32), {}\n",
    "\n",
    "    def render(self):\n",
    "        \"\"\"Render the environment using Pygame\"\"\"\n",
    "        self.screen.fill((0, 0, 0))  # Clear screen (black background)\n",
    "        pygame.draw.circle(self.screen, (0, 255, 0), (self.agent_x, self.HEIGHT // 2), self.agent_radius)\n",
    "        pygame.display.update()\n",
    "        self.clock.tick(self.metadata[\"render_fps\"])\n",
    "\n",
    "    def close(self):\n",
    "        \"\"\"Close the Pygame window\"\"\"\n",
    "        pygame.quit()\n"
   ]
  },
  {
   "cell_type": "code",
   "execution_count": null,
   "id": "fedeb713-fbab-4361-9981-d3300994134e",
   "metadata": {},
   "outputs": [],
   "source": [
    "env = PygameEnv()\n",
    "\n",
    "# Run environment with random actions\n",
    "obs, _ = env.reset()\n",
    "done = False\n",
    "\n",
    "while not done:\n",
    "    action = env.action_space.sample()  # Choose random action (0 or 1)\n",
    "    obs, reward, done, truncated, info = env.step(action)\n",
    "    env.render()  # Show the environment\n",
    "\n",
    "env.close()"
   ]
  },
  {
   "cell_type": "code",
   "execution_count": null,
   "id": "41d6e85b-ee5f-4e57-b1b2-dc9bef9d464a",
   "metadata": {},
   "outputs": [],
   "source": []
  }
 ],
 "metadata": {
  "kernelspec": {
   "display_name": "Python 3 (ipykernel)",
   "language": "python",
   "name": "python3"
  },
  "language_info": {
   "codemirror_mode": {
    "name": "ipython",
    "version": 3
   },
   "file_extension": ".py",
   "mimetype": "text/x-python",
   "name": "python",
   "nbconvert_exporter": "python",
   "pygments_lexer": "ipython3",
   "version": "3.10.12"
  }
 },
 "nbformat": 4,
 "nbformat_minor": 5
}
